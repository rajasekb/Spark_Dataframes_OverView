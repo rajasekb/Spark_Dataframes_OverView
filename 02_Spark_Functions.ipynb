{
 "cells": [
  {
   "cell_type": "code",
   "execution_count": 54,
   "id": "9e7f5859",
   "metadata": {},
   "outputs": [
    {
     "data": {
      "text/plain": [
       "lastException: Throwable = null\n"
      ]
     },
     "metadata": {},
     "output_type": "display_data",
     "source": "user"
    }
   ],
   "source": [
    "import org.apache.spark.sql.SparkSession"
   ]
  },
  {
   "cell_type": "code",
   "execution_count": 55,
   "id": "d52f4049",
   "metadata": {},
   "outputs": [
    {
     "data": {
      "text/plain": [
       "spark = org.apache.spark.sql.SparkSession@46670c9c\n"
      ]
     },
     "metadata": {},
     "output_type": "display_data",
     "source": "user"
    },
    {
     "data": {
      "text/plain": [
       "org.apache.spark.sql.SparkSession@46670c9c"
      ]
     },
     "execution_count": 55,
     "metadata": {},
     "output_type": "execute_result"
    }
   ],
   "source": [
    "val spark = SparkSession.\n",
    "    builder.\n",
    "    config(\"spark.ui.port\", \"0\").\n",
    "    config(\"spark.sql.warehouse.dir\", \"/user/itv001389/warehouse\").\n",
    "    enableHiveSupport.\n",
    "    master(\"yarn\").\n",
    "    appName(\"Getting Started - Spark with Scala\").\n",
    "    getOrCreate"
   ]
  },
  {
   "cell_type": "code",
   "execution_count": 56,
   "id": "f765ca34",
   "metadata": {},
   "outputs": [
    {
     "data": {
      "text/plain": [
       "[]"
      ]
     },
     "execution_count": 56,
     "metadata": {},
     "output_type": "execute_result"
    }
   ],
   "source": [
    "spark.sql(\"use raj\")"
   ]
  },
  {
   "cell_type": "markdown",
   "id": "1a38a87c",
   "metadata": {},
   "source": [
    "#### implicits is used in converting scala objects(including RDD) into Dataframes and Datasets"
   ]
  },
  {
   "cell_type": "code",
   "execution_count": 57,
   "id": "44802cfa",
   "metadata": {},
   "outputs": [],
   "source": [
    "import spark.implicits._"
   ]
  },
  {
   "cell_type": "markdown",
   "id": "3659e9a3",
   "metadata": {},
   "source": [
    "#### we need to import functions package in order to use many of the functions like where,length,count,round etc "
   ]
  },
  {
   "cell_type": "code",
   "execution_count": 58,
   "id": "68c78444",
   "metadata": {},
   "outputs": [],
   "source": [
    "import org.apache.spark.sql.functions._"
   ]
  },
  {
   "cell_type": "code",
   "execution_count": 59,
   "id": "50f21304",
   "metadata": {},
   "outputs": [],
   "source": [
    "import org.apache.spark.sql.Column"
   ]
  },
  {
   "cell_type": "code",
   "execution_count": 60,
   "id": "03cf9aa2",
   "metadata": {},
   "outputs": [
    {
     "data": {
      "text/plain": [
       "orders = [order_id: int, Order_date: timestamp ... 2 more fields]\n"
      ]
     },
     "metadata": {},
     "output_type": "display_data",
     "source": "user"
    },
    {
     "data": {
      "text/plain": [
       "[order_id: int, Order_date: timestamp ... 2 more fields]"
      ]
     },
     "execution_count": 60,
     "metadata": {},
     "output_type": "execute_result"
    }
   ],
   "source": [
    "val orders=spark.read.parquet(\"hdfs://m01.itversity.com:9000/user/itv001389/warehouse/raj.db/orders/part-00000-6502fdf1-89f6-48b4-ae4c-6c0376ab98ce-c000.snappy.parquet\")"
   ]
  },
  {
   "cell_type": "code",
   "execution_count": 9,
   "id": "bbc5708c",
   "metadata": {},
   "outputs": [
    {
     "name": "stdout",
     "output_type": "stream",
     "text": [
      "+--------+-------------------+----------------+---------------+\n",
      "|order_id|         Order_date|Order_product_id|   Order_status|\n",
      "+--------+-------------------+----------------+---------------+\n",
      "|       1|2013-07-25 00:00:00|           11599|         CLOSED|\n",
      "|       2|2013-07-25 00:00:00|             256|PENDING_PAYMENT|\n",
      "|       3|2013-07-25 00:00:00|           12111|       COMPLETE|\n",
      "|       4|2013-07-25 00:00:00|            8827|         CLOSED|\n",
      "|       5|2013-07-25 00:00:00|           11318|       COMPLETE|\n",
      "|       6|2013-07-25 00:00:00|            7130|       COMPLETE|\n",
      "|       7|2013-07-25 00:00:00|            4530|       COMPLETE|\n",
      "|       8|2013-07-25 00:00:00|            2911|     PROCESSING|\n",
      "|       9|2013-07-25 00:00:00|            5657|PENDING_PAYMENT|\n",
      "|      10|2013-07-25 00:00:00|            5648|PENDING_PAYMENT|\n",
      "|      11|2013-07-25 00:00:00|             918| PAYMENT_REVIEW|\n",
      "|      12|2013-07-25 00:00:00|            1837|         CLOSED|\n",
      "|      13|2013-07-25 00:00:00|            9149|PENDING_PAYMENT|\n",
      "|      14|2013-07-25 00:00:00|            9842|     PROCESSING|\n",
      "|      15|2013-07-25 00:00:00|            2568|       COMPLETE|\n",
      "|      16|2013-07-25 00:00:00|            7276|PENDING_PAYMENT|\n",
      "|      17|2013-07-25 00:00:00|            2667|       COMPLETE|\n",
      "|      18|2013-07-25 00:00:00|            1205|         CLOSED|\n",
      "|      19|2013-07-25 00:00:00|            9488|PENDING_PAYMENT|\n",
      "|      20|2013-07-25 00:00:00|            9198|     PROCESSING|\n",
      "+--------+-------------------+----------------+---------------+\n",
      "only showing top 20 rows\n",
      "\n"
     ]
    }
   ],
   "source": [
    "orders.show()"
   ]
  },
  {
   "cell_type": "code",
   "execution_count": 11,
   "id": "958f17bd",
   "metadata": {},
   "outputs": [
    {
     "name": "stdout",
     "output_type": "stream",
     "text": [
      "+---------------+-------------------+\n",
      "|   Order_status|         Order_date|\n",
      "+---------------+-------------------+\n",
      "|         CLOSED|2013-07-25 00:00:00|\n",
      "|PENDING_PAYMENT|2013-07-25 00:00:00|\n",
      "|       COMPLETE|2013-07-25 00:00:00|\n",
      "|         CLOSED|2013-07-25 00:00:00|\n",
      "|       COMPLETE|2013-07-25 00:00:00|\n",
      "|       COMPLETE|2013-07-25 00:00:00|\n",
      "|       COMPLETE|2013-07-25 00:00:00|\n",
      "|     PROCESSING|2013-07-25 00:00:00|\n",
      "|PENDING_PAYMENT|2013-07-25 00:00:00|\n",
      "|PENDING_PAYMENT|2013-07-25 00:00:00|\n",
      "| PAYMENT_REVIEW|2013-07-25 00:00:00|\n",
      "|         CLOSED|2013-07-25 00:00:00|\n",
      "|PENDING_PAYMENT|2013-07-25 00:00:00|\n",
      "|     PROCESSING|2013-07-25 00:00:00|\n",
      "|       COMPLETE|2013-07-25 00:00:00|\n",
      "|PENDING_PAYMENT|2013-07-25 00:00:00|\n",
      "|       COMPLETE|2013-07-25 00:00:00|\n",
      "|         CLOSED|2013-07-25 00:00:00|\n",
      "|PENDING_PAYMENT|2013-07-25 00:00:00|\n",
      "|     PROCESSING|2013-07-25 00:00:00|\n",
      "+---------------+-------------------+\n",
      "only showing top 20 rows\n",
      "\n"
     ]
    }
   ],
   "source": [
    "orders.select(col(\"Order_status\"),col(\"Order_date\")).show()"
   ]
  },
  {
   "cell_type": "code",
   "execution_count": 12,
   "id": "89ffac1c",
   "metadata": {},
   "outputs": [
    {
     "name": "stdout",
     "output_type": "stream",
     "text": [
      "+---------------+-------------------+\n",
      "|   Order_status|         Order_date|\n",
      "+---------------+-------------------+\n",
      "|         CLOSED|2013-07-25 00:00:00|\n",
      "|PENDING_PAYMENT|2013-07-25 00:00:00|\n",
      "|       COMPLETE|2013-07-25 00:00:00|\n",
      "|         CLOSED|2013-07-25 00:00:00|\n",
      "|       COMPLETE|2013-07-25 00:00:00|\n",
      "|       COMPLETE|2013-07-25 00:00:00|\n",
      "|       COMPLETE|2013-07-25 00:00:00|\n",
      "|     PROCESSING|2013-07-25 00:00:00|\n",
      "|PENDING_PAYMENT|2013-07-25 00:00:00|\n",
      "|PENDING_PAYMENT|2013-07-25 00:00:00|\n",
      "| PAYMENT_REVIEW|2013-07-25 00:00:00|\n",
      "|         CLOSED|2013-07-25 00:00:00|\n",
      "|PENDING_PAYMENT|2013-07-25 00:00:00|\n",
      "|     PROCESSING|2013-07-25 00:00:00|\n",
      "|       COMPLETE|2013-07-25 00:00:00|\n",
      "|PENDING_PAYMENT|2013-07-25 00:00:00|\n",
      "|       COMPLETE|2013-07-25 00:00:00|\n",
      "|         CLOSED|2013-07-25 00:00:00|\n",
      "|PENDING_PAYMENT|2013-07-25 00:00:00|\n",
      "|     PROCESSING|2013-07-25 00:00:00|\n",
      "+---------------+-------------------+\n",
      "only showing top 20 rows\n",
      "\n"
     ]
    }
   ],
   "source": [
    "orders.select($\"Order_status\",$\"Order_date\").show()"
   ]
  },
  {
   "cell_type": "code",
   "execution_count": 14,
   "id": "0d661aee",
   "metadata": {},
   "outputs": [
    {
     "name": "stdout",
     "output_type": "stream",
     "text": [
      "+-------------------+\n",
      "|upper(Order_status)|\n",
      "+-------------------+\n",
      "|             CLOSED|\n",
      "|    PENDING_PAYMENT|\n",
      "|           COMPLETE|\n",
      "|             CLOSED|\n",
      "|           COMPLETE|\n",
      "|           COMPLETE|\n",
      "|           COMPLETE|\n",
      "|         PROCESSING|\n",
      "|    PENDING_PAYMENT|\n",
      "|    PENDING_PAYMENT|\n",
      "|     PAYMENT_REVIEW|\n",
      "|             CLOSED|\n",
      "|    PENDING_PAYMENT|\n",
      "|         PROCESSING|\n",
      "|           COMPLETE|\n",
      "|    PENDING_PAYMENT|\n",
      "|           COMPLETE|\n",
      "|             CLOSED|\n",
      "|    PENDING_PAYMENT|\n",
      "|         PROCESSING|\n",
      "+-------------------+\n",
      "only showing top 20 rows\n",
      "\n"
     ]
    }
   ],
   "source": [
    "orders.select(upper($\"Order_status\")).show()"
   ]
  },
  {
   "cell_type": "code",
   "execution_count": 15,
   "id": "be12411e",
   "metadata": {},
   "outputs": [
    {
     "name": "stdout",
     "output_type": "stream",
     "text": [
      "+-------------------+\n",
      "|lower(Order_status)|\n",
      "+-------------------+\n",
      "|             closed|\n",
      "|    pending_payment|\n",
      "|           complete|\n",
      "|             closed|\n",
      "|           complete|\n",
      "|           complete|\n",
      "|           complete|\n",
      "|         processing|\n",
      "|    pending_payment|\n",
      "|    pending_payment|\n",
      "|     payment_review|\n",
      "|             closed|\n",
      "|    pending_payment|\n",
      "|         processing|\n",
      "|           complete|\n",
      "|    pending_payment|\n",
      "|           complete|\n",
      "|             closed|\n",
      "|    pending_payment|\n",
      "|         processing|\n",
      "+-------------------+\n",
      "only showing top 20 rows\n",
      "\n"
     ]
    }
   ],
   "source": [
    "orders.select(lower($\"Order_status\")).show()"
   ]
  },
  {
   "cell_type": "code",
   "execution_count": 16,
   "id": "860b95f2",
   "metadata": {},
   "outputs": [
    {
     "name": "stdout",
     "output_type": "stream",
     "text": [
      "+---------------------+\n",
      "|initcap(Order_status)|\n",
      "+---------------------+\n",
      "|               Closed|\n",
      "|      Pending_payment|\n",
      "|             Complete|\n",
      "|               Closed|\n",
      "|             Complete|\n",
      "|             Complete|\n",
      "|             Complete|\n",
      "|           Processing|\n",
      "|      Pending_payment|\n",
      "|      Pending_payment|\n",
      "|       Payment_review|\n",
      "|               Closed|\n",
      "|      Pending_payment|\n",
      "|           Processing|\n",
      "|             Complete|\n",
      "|      Pending_payment|\n",
      "|             Complete|\n",
      "|               Closed|\n",
      "|      Pending_payment|\n",
      "|           Processing|\n",
      "+---------------------+\n",
      "only showing top 20 rows\n",
      "\n"
     ]
    }
   ],
   "source": [
    "orders.select(initcap($\"Order_status\")).show()"
   ]
  },
  {
   "cell_type": "code",
   "execution_count": 20,
   "id": "c64fa241",
   "metadata": {},
   "outputs": [
    {
     "name": "stdout",
     "output_type": "stream",
     "text": [
      "+------------------+\n",
      "|trim(Order_status)|\n",
      "+------------------+\n",
      "|            CLOSED|\n",
      "|   PENDING_PAYMENT|\n",
      "|          COMPLETE|\n",
      "|            CLOSED|\n",
      "|          COMPLETE|\n",
      "|          COMPLETE|\n",
      "|          COMPLETE|\n",
      "|        PROCESSING|\n",
      "|   PENDING_PAYMENT|\n",
      "|   PENDING_PAYMENT|\n",
      "|    PAYMENT_REVIEW|\n",
      "|            CLOSED|\n",
      "|   PENDING_PAYMENT|\n",
      "|        PROCESSING|\n",
      "|          COMPLETE|\n",
      "|   PENDING_PAYMENT|\n",
      "|          COMPLETE|\n",
      "|            CLOSED|\n",
      "|   PENDING_PAYMENT|\n",
      "|        PROCESSING|\n",
      "+------------------+\n",
      "only showing top 20 rows\n",
      "\n"
     ]
    }
   ],
   "source": [
    "orders.select(trim($\"Order_status\")).show()"
   ]
  },
  {
   "cell_type": "code",
   "execution_count": 27,
   "id": "cfabf967",
   "metadata": {},
   "outputs": [
    {
     "name": "stdout",
     "output_type": "stream",
     "text": [
      "+------------------+\n",
      "|length(Order_date)|\n",
      "+------------------+\n",
      "|                19|\n",
      "+------------------+\n",
      "\n"
     ]
    }
   ],
   "source": [
    "orders.select(length($\"Order_date\")).distinct.show()"
   ]
  },
  {
   "cell_type": "code",
   "execution_count": 26,
   "id": "c459cebe",
   "metadata": {},
   "outputs": [
    {
     "name": "stdout",
     "output_type": "stream",
     "text": [
      "+----------+\n",
      "|      date|\n",
      "+----------+\n",
      "|2013-07-25|\n",
      "|2013-07-25|\n",
      "|2013-07-25|\n",
      "|2013-07-25|\n",
      "|2013-07-25|\n",
      "|2013-07-25|\n",
      "|2013-07-25|\n",
      "|2013-07-25|\n",
      "|2013-07-25|\n",
      "|2013-07-25|\n",
      "|2013-07-25|\n",
      "|2013-07-25|\n",
      "|2013-07-25|\n",
      "|2013-07-25|\n",
      "|2013-07-25|\n",
      "|2013-07-25|\n",
      "|2013-07-25|\n",
      "|2013-07-25|\n",
      "|2013-07-25|\n",
      "|2013-07-25|\n",
      "+----------+\n",
      "only showing top 20 rows\n",
      "\n"
     ]
    }
   ],
   "source": [
    "orders.select(substring(col(\"Order_date\"),1,10) alias \"date\").show()"
   ]
  },
  {
   "cell_type": "code",
   "execution_count": 36,
   "id": "a64fb094",
   "metadata": {},
   "outputs": [
    {
     "data": {
      "text/plain": [
       "df = [_c0: string]\n"
      ]
     },
     "metadata": {},
     "output_type": "display_data",
     "source": "user"
    },
    {
     "data": {
      "text/plain": [
       "[_c0: string]"
      ]
     },
     "execution_count": 36,
     "metadata": {},
     "output_type": "execute_result"
    }
   ],
   "source": [
    "val df=spark.read.option(\"delimiter\",\"&\").csv(\"hdfs://m01.itversity.com:9000/user/itv001389/warehouse/raj.db/order_csv\")"
   ]
  },
  {
   "cell_type": "code",
   "execution_count": 37,
   "id": "863630ad",
   "metadata": {},
   "outputs": [
    {
     "name": "stdout",
     "output_type": "stream",
     "text": [
      "+--------------------+\n",
      "|                 _c0|\n",
      "+--------------------+\n",
      "|1,2013-07-25 00:0...|\n",
      "|2,2013-07-25 00:0...|\n",
      "|3,2013-07-25 00:0...|\n",
      "|4,2013-07-25 00:0...|\n",
      "|5,2013-07-25 00:0...|\n",
      "|6,2013-07-25 00:0...|\n",
      "|7,2013-07-25 00:0...|\n",
      "|8,2013-07-25 00:0...|\n",
      "|9,2013-07-25 00:0...|\n",
      "|10,2013-07-25 00:...|\n",
      "|11,2013-07-25 00:...|\n",
      "|12,2013-07-25 00:...|\n",
      "|13,2013-07-25 00:...|\n",
      "|14,2013-07-25 00:...|\n",
      "|15,2013-07-25 00:...|\n",
      "|16,2013-07-25 00:...|\n",
      "|17,2013-07-25 00:...|\n",
      "|18,2013-07-25 00:...|\n",
      "|19,2013-07-25 00:...|\n",
      "|20,2013-07-25 00:...|\n",
      "+--------------------+\n",
      "only showing top 20 rows\n",
      "\n"
     ]
    }
   ],
   "source": [
    "df.show()"
   ]
  },
  {
   "cell_type": "code",
   "execution_count": 44,
   "id": "3c66e88f",
   "metadata": {},
   "outputs": [
    {
     "name": "stdout",
     "output_type": "stream",
     "text": [
      "+--------------------+\n",
      "|       split(_c0, ,)|\n",
      "+--------------------+\n",
      "|[1, 2013-07-25 00...|\n",
      "|[2, 2013-07-25 00...|\n",
      "|[3, 2013-07-25 00...|\n",
      "|[4, 2013-07-25 00...|\n",
      "|[5, 2013-07-25 00...|\n",
      "|[6, 2013-07-25 00...|\n",
      "|[7, 2013-07-25 00...|\n",
      "|[8, 2013-07-25 00...|\n",
      "|[9, 2013-07-25 00...|\n",
      "|[10, 2013-07-25 0...|\n",
      "|[11, 2013-07-25 0...|\n",
      "|[12, 2013-07-25 0...|\n",
      "|[13, 2013-07-25 0...|\n",
      "|[14, 2013-07-25 0...|\n",
      "|[15, 2013-07-25 0...|\n",
      "|[16, 2013-07-25 0...|\n",
      "|[17, 2013-07-25 0...|\n",
      "|[18, 2013-07-25 0...|\n",
      "|[19, 2013-07-25 0...|\n",
      "|[20, 2013-07-25 0...|\n",
      "+--------------------+\n",
      "only showing top 20 rows\n",
      "\n"
     ]
    }
   ],
   "source": [
    "df.select(split($\"_c0\",\",\")).show()"
   ]
  },
  {
   "cell_type": "code",
   "execution_count": 52,
   "id": "1be77e01",
   "metadata": {},
   "outputs": [
    {
     "name": "stdout",
     "output_type": "stream",
     "text": [
      "+-------------------+\n",
      "|order_date         |\n",
      "+-------------------+\n",
      "|2013-07-25 00:00:00|\n",
      "|2013-07-25 00:00:00|\n",
      "|2013-07-25 00:00:00|\n",
      "|2013-07-25 00:00:00|\n",
      "|2013-07-25 00:00:00|\n",
      "|2013-07-25 00:00:00|\n",
      "|2013-07-25 00:00:00|\n",
      "|2013-07-25 00:00:00|\n",
      "|2013-07-25 00:00:00|\n",
      "|2013-07-25 00:00:00|\n",
      "|2013-07-25 00:00:00|\n",
      "|2013-07-25 00:00:00|\n",
      "|2013-07-25 00:00:00|\n",
      "|2013-07-25 00:00:00|\n",
      "|2013-07-25 00:00:00|\n",
      "|2013-07-25 00:00:00|\n",
      "|2013-07-25 00:00:00|\n",
      "|2013-07-25 00:00:00|\n",
      "|2013-07-25 00:00:00|\n",
      "|2013-07-25 00:00:00|\n",
      "+-------------------+\n",
      "only showing top 20 rows\n",
      "\n"
     ]
    }
   ],
   "source": [
    "df.select(split($\"_c0\",\",\")(1) alias \"order_date\").show(false)"
   ]
  },
  {
   "cell_type": "code",
   "execution_count": 54,
   "id": "55a2855a",
   "metadata": {},
   "outputs": [
    {
     "name": "stdout",
     "output_type": "stream",
     "text": [
      "+-------------------+\n",
      "|   split(_c0, ,)[1]|\n",
      "+-------------------+\n",
      "|2013-07-25 00:00:00|\n",
      "|2013-07-25 00:00:00|\n",
      "|2013-07-25 00:00:00|\n",
      "|2013-07-25 00:00:00|\n",
      "|2013-07-25 00:00:00|\n",
      "|2013-07-25 00:00:00|\n",
      "|2013-07-25 00:00:00|\n",
      "|2013-07-25 00:00:00|\n",
      "|2013-07-25 00:00:00|\n",
      "|2013-07-25 00:00:00|\n",
      "|2013-07-25 00:00:00|\n",
      "|2013-07-25 00:00:00|\n",
      "|2013-07-25 00:00:00|\n",
      "|2013-07-25 00:00:00|\n",
      "|2013-07-25 00:00:00|\n",
      "|2013-07-25 00:00:00|\n",
      "|2013-07-25 00:00:00|\n",
      "|2013-07-25 00:00:00|\n",
      "|2013-07-25 00:00:00|\n",
      "|2013-07-25 00:00:00|\n",
      "+-------------------+\n",
      "only showing top 20 rows\n",
      "\n"
     ]
    }
   ],
   "source": [
    "df.selectExpr(\"split(_c0,',')[1]\").show()"
   ]
  },
  {
   "cell_type": "code",
   "execution_count": 55,
   "id": "6ce26271",
   "metadata": {},
   "outputs": [
    {
     "name": "stdout",
     "output_type": "stream",
     "text": [
      "+-------------------+\n",
      "|   split(_c0, ,)[1]|\n",
      "+-------------------+\n",
      "|2013-07-25 00:00:00|\n",
      "|2013-07-25 00:00:00|\n",
      "|2013-07-25 00:00:00|\n",
      "|2013-07-25 00:00:00|\n",
      "|2013-07-25 00:00:00|\n",
      "|2013-07-25 00:00:00|\n",
      "|2013-07-25 00:00:00|\n",
      "|2013-07-25 00:00:00|\n",
      "|2013-07-25 00:00:00|\n",
      "|2013-07-25 00:00:00|\n",
      "|2013-07-25 00:00:00|\n",
      "|2013-07-25 00:00:00|\n",
      "|2013-07-25 00:00:00|\n",
      "|2013-07-25 00:00:00|\n",
      "|2013-07-25 00:00:00|\n",
      "|2013-07-25 00:00:00|\n",
      "|2013-07-25 00:00:00|\n",
      "|2013-07-25 00:00:00|\n",
      "|2013-07-25 00:00:00|\n",
      "|2013-07-25 00:00:00|\n",
      "+-------------------+\n",
      "only showing top 20 rows\n",
      "\n"
     ]
    }
   ],
   "source": [
    "df.select(expr(\"split(_c0,',')[1]\")).show()"
   ]
  },
  {
   "cell_type": "code",
   "execution_count": 58,
   "id": "a7a15e08",
   "metadata": {},
   "outputs": [
    {
     "name": "stdout",
     "output_type": "stream",
     "text": [
      "+---------------------------+\n",
      "|substring(Order_date, 1, 4)|\n",
      "+---------------------------+\n",
      "|                       2013|\n",
      "|                       2013|\n",
      "|                       2013|\n",
      "|                       2013|\n",
      "|                       2013|\n",
      "|                       2013|\n",
      "|                       2013|\n",
      "|                       2013|\n",
      "|                       2013|\n",
      "|                       2013|\n",
      "|                       2013|\n",
      "|                       2013|\n",
      "|                       2013|\n",
      "|                       2013|\n",
      "|                       2013|\n",
      "|                       2013|\n",
      "|                       2013|\n",
      "|                       2013|\n",
      "|                       2013|\n",
      "|                       2013|\n",
      "+---------------------------+\n",
      "only showing top 20 rows\n",
      "\n"
     ]
    }
   ],
   "source": [
    "orders.select(substring($\"Order_date\",1,4)).show()"
   ]
  },
  {
   "cell_type": "code",
   "execution_count": 61,
   "id": "dcd059e8",
   "metadata": {},
   "outputs": [
    {
     "name": "stdout",
     "output_type": "stream",
     "text": [
      "root\n",
      " |-- order_year: integer (nullable = true)\n",
      "\n"
     ]
    }
   ],
   "source": [
    "orders.select(substring($\"Order_date\",1,4) cast \"int\" alias \"order_year\").printSchema()"
   ]
  },
  {
   "cell_type": "code",
   "execution_count": 63,
   "id": "2209bdc0",
   "metadata": {},
   "outputs": [
    {
     "name": "stdout",
     "output_type": "stream",
     "text": [
      "+--------+----------+----------------+---------------+\n",
      "|order_id|order_date|order_product_id|order_status   |\n",
      "+--------+----------+----------------+---------------+\n",
      "|1       |2013-07-25|11599           |CLOSED         |\n",
      "|2       |2013-07-25|256             |PENDING_PAYMENT|\n",
      "|3       |2013-07-25|12111           |COMPLETE       |\n",
      "|4       |2013-07-25|8827            |CLOSED         |\n",
      "|5       |2013-07-25|11318           |COMPLETE       |\n",
      "|6       |2013-07-25|7130            |COMPLETE       |\n",
      "|7       |2013-07-25|4530            |COMPLETE       |\n",
      "|8       |2013-07-25|2911            |PROCESSING     |\n",
      "|9       |2013-07-25|5657            |PENDING_PAYMENT|\n",
      "|10      |2013-07-25|5648            |PENDING_PAYMENT|\n",
      "|11      |2013-07-25|918             |PAYMENT_REVIEW |\n",
      "|12      |2013-07-25|1837            |CLOSED         |\n",
      "|13      |2013-07-25|9149            |PENDING_PAYMENT|\n",
      "|14      |2013-07-25|9842            |PROCESSING     |\n",
      "|15      |2013-07-25|2568            |COMPLETE       |\n",
      "|16      |2013-07-25|7276            |PENDING_PAYMENT|\n",
      "|17      |2013-07-25|2667            |COMPLETE       |\n",
      "|18      |2013-07-25|1205            |CLOSED         |\n",
      "|19      |2013-07-25|9488            |PENDING_PAYMENT|\n",
      "|20      |2013-07-25|9198            |PROCESSING     |\n",
      "+--------+----------+----------------+---------------+\n",
      "only showing top 20 rows\n",
      "\n"
     ]
    }
   ],
   "source": [
    "df.select(split($\"_c0\",\",\")(0) cast \"int\" alias \"order_id\",split($\"_c0\",\",\")(1) cast \"date\" alias \"order_date\",split($\"_c0\",\",\")(2) cast \"int\" alias \"order_product_id\",split($\"_c0\",\",\")(3) cast \"string\" alias \"order_status\").show(false)"
   ]
  },
  {
   "cell_type": "code",
   "execution_count": 64,
   "id": "8ff65642",
   "metadata": {},
   "outputs": [
    {
     "name": "stdout",
     "output_type": "stream",
     "text": [
      "root\n",
      " |-- order_id: integer (nullable = true)\n",
      " |-- order_date: date (nullable = true)\n",
      " |-- order_product_id: integer (nullable = true)\n",
      " |-- order_status: string (nullable = true)\n",
      "\n"
     ]
    }
   ],
   "source": [
    "df.select(split($\"_c0\",\",\")(0) cast \"int\" alias \"order_id\",split($\"_c0\",\",\")(1) cast \"date\" alias \"order_date\",split($\"_c0\",\",\")(2) cast \"int\" alias \"order_product_id\",split($\"_c0\",\",\")(3) cast \"string\" alias \"order_status\").printSchema()"
   ]
  },
  {
   "cell_type": "code",
   "execution_count": 11,
   "id": "bec443ff",
   "metadata": {},
   "outputs": [
    {
     "name": "stdout",
     "output_type": "stream",
     "text": [
      "+--------+-------------------+----------------+---------------+----------+\n",
      "|order_id|         Order_date|Order_product_id|   Order_status|Order_year|\n",
      "+--------+-------------------+----------------+---------------+----------+\n",
      "|       1|2013-07-25 00:00:00|           11599|         CLOSED|      2013|\n",
      "|       2|2013-07-25 00:00:00|             256|PENDING_PAYMENT|      2013|\n",
      "|       3|2013-07-25 00:00:00|           12111|       COMPLETE|      2013|\n",
      "|       4|2013-07-25 00:00:00|            8827|         CLOSED|      2013|\n",
      "|       5|2013-07-25 00:00:00|           11318|       COMPLETE|      2013|\n",
      "|       6|2013-07-25 00:00:00|            7130|       COMPLETE|      2013|\n",
      "|       7|2013-07-25 00:00:00|            4530|       COMPLETE|      2013|\n",
      "|       8|2013-07-25 00:00:00|            2911|     PROCESSING|      2013|\n",
      "|       9|2013-07-25 00:00:00|            5657|PENDING_PAYMENT|      2013|\n",
      "|      10|2013-07-25 00:00:00|            5648|PENDING_PAYMENT|      2013|\n",
      "|      11|2013-07-25 00:00:00|             918| PAYMENT_REVIEW|      2013|\n",
      "|      12|2013-07-25 00:00:00|            1837|         CLOSED|      2013|\n",
      "|      13|2013-07-25 00:00:00|            9149|PENDING_PAYMENT|      2013|\n",
      "|      14|2013-07-25 00:00:00|            9842|     PROCESSING|      2013|\n",
      "|      15|2013-07-25 00:00:00|            2568|       COMPLETE|      2013|\n",
      "|      16|2013-07-25 00:00:00|            7276|PENDING_PAYMENT|      2013|\n",
      "|      17|2013-07-25 00:00:00|            2667|       COMPLETE|      2013|\n",
      "|      18|2013-07-25 00:00:00|            1205|         CLOSED|      2013|\n",
      "|      19|2013-07-25 00:00:00|            9488|PENDING_PAYMENT|      2013|\n",
      "|      20|2013-07-25 00:00:00|            9198|     PROCESSING|      2013|\n",
      "+--------+-------------------+----------------+---------------+----------+\n",
      "only showing top 20 rows\n",
      "\n"
     ]
    }
   ],
   "source": [
    "orders.withColumn(\"Order_year\",substring($\"Order_date\",1,4)).show()"
   ]
  },
  {
   "cell_type": "code",
   "execution_count": 12,
   "id": "429e3775",
   "metadata": {},
   "outputs": [
    {
     "name": "stdout",
     "output_type": "stream",
     "text": [
      "root\n",
      " |-- order_id: integer (nullable = true)\n",
      " |-- Order_date: timestamp (nullable = true)\n",
      " |-- Order_product_id: integer (nullable = true)\n",
      " |-- Order_status: string (nullable = true)\n",
      " |-- Order_year: string (nullable = true)\n",
      "\n"
     ]
    }
   ],
   "source": [
    "orders.withColumn(\"Order_year\",substring($\"Order_date\",1,4)).printSchema()"
   ]
  },
  {
   "cell_type": "code",
   "execution_count": 13,
   "id": "6be7c9c5",
   "metadata": {},
   "outputs": [
    {
     "name": "stdout",
     "output_type": "stream",
     "text": [
      "root\n",
      " |-- order_id: integer (nullable = true)\n",
      " |-- Order_date: timestamp (nullable = true)\n",
      " |-- Order_product_id: integer (nullable = true)\n",
      " |-- Order_status: string (nullable = true)\n",
      "\n"
     ]
    }
   ],
   "source": [
    "orders.printSchema()"
   ]
  },
  {
   "cell_type": "code",
   "execution_count": 29,
   "id": "bcce1f71",
   "metadata": {},
   "outputs": [
    {
     "name": "stdout",
     "output_type": "stream",
     "text": [
      "+------------------------------------+\n",
      "|CAST(split(Order_date, -)[0] AS INT)|\n",
      "+------------------------------------+\n",
      "|                                2013|\n",
      "|                                2013|\n",
      "|                                2013|\n",
      "|                                2013|\n",
      "|                                2013|\n",
      "|                                2013|\n",
      "|                                2013|\n",
      "|                                2013|\n",
      "|                                2013|\n",
      "|                                2013|\n",
      "|                                2013|\n",
      "|                                2013|\n",
      "|                                2013|\n",
      "|                                2013|\n",
      "|                                2013|\n",
      "|                                2013|\n",
      "|                                2013|\n",
      "|                                2013|\n",
      "|                                2013|\n",
      "|                                2013|\n",
      "+------------------------------------+\n",
      "only showing top 20 rows\n",
      "\n"
     ]
    }
   ],
   "source": [
    "orders.selectExpr(\"cast(split(Order_date,'-')[0] as int)\").show()"
   ]
  },
  {
   "cell_type": "code",
   "execution_count": 33,
   "id": "31e8d92e",
   "metadata": {},
   "outputs": [
    {
     "name": "stdout",
     "output_type": "stream",
     "text": [
      "+---------------+\n",
      "|   Order_status|\n",
      "+---------------+\n",
      "|      COMPLETED|\n",
      "|PENDING_PAYMENT|\n",
      "|      COMPLETED|\n",
      "|      COMPLETED|\n",
      "|      COMPLETED|\n",
      "|      COMPLETED|\n",
      "|      COMPLETED|\n",
      "|     PROCESSING|\n",
      "|PENDING_PAYMENT|\n",
      "|PENDING_PAYMENT|\n",
      "| PAYMENT_REVIEW|\n",
      "|      COMPLETED|\n",
      "|PENDING_PAYMENT|\n",
      "|     PROCESSING|\n",
      "|      COMPLETED|\n",
      "|PENDING_PAYMENT|\n",
      "|      COMPLETED|\n",
      "|      COMPLETED|\n",
      "|PENDING_PAYMENT|\n",
      "|     PROCESSING|\n",
      "+---------------+\n",
      "only showing top 20 rows\n",
      "\n"
     ]
    }
   ],
   "source": [
    "orders.selectExpr(\"case when Order_status in ('COMPLETE','CLOSED') then 'COMPLETED' else Order_status end Order_status\").show()"
   ]
  },
  {
   "cell_type": "code",
   "execution_count": 42,
   "id": "e1ee389f",
   "metadata": {},
   "outputs": [
    {
     "name": "stdout",
     "output_type": "stream",
     "text": [
      "+--------+-------------------+----------------+---------------+\n",
      "|order_id|         Order_date|Order_product_id|   Order_status|\n",
      "+--------+-------------------+----------------+---------------+\n",
      "|       1|2013-07-25 00:00:00|           11599|      COMPLETED|\n",
      "|       2|2013-07-25 00:00:00|             256|PENDING_PAYMENT|\n",
      "|       3|2013-07-25 00:00:00|           12111|      COMPLETED|\n",
      "|       4|2013-07-25 00:00:00|            8827|      COMPLETED|\n",
      "|       5|2013-07-25 00:00:00|           11318|      COMPLETED|\n",
      "|       6|2013-07-25 00:00:00|            7130|      COMPLETED|\n",
      "|       7|2013-07-25 00:00:00|            4530|      COMPLETED|\n",
      "|       8|2013-07-25 00:00:00|            2911|     PROCESSING|\n",
      "|       9|2013-07-25 00:00:00|            5657|PENDING_PAYMENT|\n",
      "|      10|2013-07-25 00:00:00|            5648|PENDING_PAYMENT|\n",
      "|      11|2013-07-25 00:00:00|             918| PAYMENT_REVIEW|\n",
      "|      12|2013-07-25 00:00:00|            1837|      COMPLETED|\n",
      "|      13|2013-07-25 00:00:00|            9149|PENDING_PAYMENT|\n",
      "|      14|2013-07-25 00:00:00|            9842|     PROCESSING|\n",
      "|      15|2013-07-25 00:00:00|            2568|      COMPLETED|\n",
      "|      16|2013-07-25 00:00:00|            7276|PENDING_PAYMENT|\n",
      "|      17|2013-07-25 00:00:00|            2667|      COMPLETED|\n",
      "|      18|2013-07-25 00:00:00|            1205|      COMPLETED|\n",
      "|      19|2013-07-25 00:00:00|            9488|PENDING_PAYMENT|\n",
      "|      20|2013-07-25 00:00:00|            9198|     PROCESSING|\n",
      "+--------+-------------------+----------------+---------------+\n",
      "only showing top 20 rows\n",
      "\n"
     ]
    },
    {
     "data": {
      "text/plain": [
       "lastException: Throwable = null\n"
      ]
     },
     "metadata": {},
     "output_type": "display_data",
     "source": "user"
    }
   ],
   "source": [
    "orders.withColumn(\"Order_status\",expr(\"case when Order_status in ('COMPLETE','CLOSED') then 'COMPLETED' else Order_status end\")).show()"
   ]
  },
  {
   "cell_type": "code",
   "execution_count": 44,
   "id": "5635a7b2",
   "metadata": {},
   "outputs": [
    {
     "name": "stdout",
     "output_type": "stream",
     "text": [
      "+-----------------------+\n",
      "|date_add(Order_date, 3)|\n",
      "+-----------------------+\n",
      "|             2013-07-28|\n",
      "|             2013-07-28|\n",
      "|             2013-07-28|\n",
      "|             2013-07-28|\n",
      "|             2013-07-28|\n",
      "|             2013-07-28|\n",
      "|             2013-07-28|\n",
      "|             2013-07-28|\n",
      "|             2013-07-28|\n",
      "|             2013-07-28|\n",
      "|             2013-07-28|\n",
      "|             2013-07-28|\n",
      "|             2013-07-28|\n",
      "|             2013-07-28|\n",
      "|             2013-07-28|\n",
      "|             2013-07-28|\n",
      "|             2013-07-28|\n",
      "|             2013-07-28|\n",
      "|             2013-07-28|\n",
      "|             2013-07-28|\n",
      "+-----------------------+\n",
      "only showing top 20 rows\n",
      "\n"
     ]
    }
   ],
   "source": [
    "orders.select(date_add($\"Order_date\",3)).show()"
   ]
  },
  {
   "cell_type": "code",
   "execution_count": 45,
   "id": "9a911c01",
   "metadata": {},
   "outputs": [
    {
     "name": "stdout",
     "output_type": "stream",
     "text": [
      "+-----------------------+\n",
      "|date_sub(Order_date, 2)|\n",
      "+-----------------------+\n",
      "|             2013-07-23|\n",
      "|             2013-07-23|\n",
      "|             2013-07-23|\n",
      "|             2013-07-23|\n",
      "|             2013-07-23|\n",
      "|             2013-07-23|\n",
      "|             2013-07-23|\n",
      "|             2013-07-23|\n",
      "|             2013-07-23|\n",
      "|             2013-07-23|\n",
      "|             2013-07-23|\n",
      "|             2013-07-23|\n",
      "|             2013-07-23|\n",
      "|             2013-07-23|\n",
      "|             2013-07-23|\n",
      "|             2013-07-23|\n",
      "|             2013-07-23|\n",
      "|             2013-07-23|\n",
      "|             2013-07-23|\n",
      "|             2013-07-23|\n",
      "+-----------------------+\n",
      "only showing top 20 rows\n",
      "\n"
     ]
    }
   ],
   "source": [
    "orders.select(date_sub($\"Order_date\",2)).show()"
   ]
  },
  {
   "cell_type": "code",
   "execution_count": 46,
   "id": "bc44242e",
   "metadata": {},
   "outputs": [
    {
     "name": "stdout",
     "output_type": "stream",
     "text": [
      "+------------------------+\n",
      "|date_add(Order_date, -3)|\n",
      "+------------------------+\n",
      "|              2013-07-22|\n",
      "|              2013-07-22|\n",
      "|              2013-07-22|\n",
      "|              2013-07-22|\n",
      "|              2013-07-22|\n",
      "|              2013-07-22|\n",
      "|              2013-07-22|\n",
      "|              2013-07-22|\n",
      "|              2013-07-22|\n",
      "|              2013-07-22|\n",
      "|              2013-07-22|\n",
      "|              2013-07-22|\n",
      "|              2013-07-22|\n",
      "|              2013-07-22|\n",
      "|              2013-07-22|\n",
      "|              2013-07-22|\n",
      "|              2013-07-22|\n",
      "|              2013-07-22|\n",
      "|              2013-07-22|\n",
      "|              2013-07-22|\n",
      "+------------------------+\n",
      "only showing top 20 rows\n",
      "\n"
     ]
    }
   ],
   "source": [
    "orders.select(date_add($\"Order_date\",-3)).show()"
   ]
  },
  {
   "cell_type": "code",
   "execution_count": 47,
   "id": "bef84b4a",
   "metadata": {},
   "outputs": [
    {
     "name": "stdout",
     "output_type": "stream",
     "text": [
      "+------------------------+\n",
      "|date_sub(Order_date, -4)|\n",
      "+------------------------+\n",
      "|              2013-07-29|\n",
      "|              2013-07-29|\n",
      "|              2013-07-29|\n",
      "|              2013-07-29|\n",
      "|              2013-07-29|\n",
      "|              2013-07-29|\n",
      "|              2013-07-29|\n",
      "|              2013-07-29|\n",
      "|              2013-07-29|\n",
      "|              2013-07-29|\n",
      "|              2013-07-29|\n",
      "|              2013-07-29|\n",
      "|              2013-07-29|\n",
      "|              2013-07-29|\n",
      "|              2013-07-29|\n",
      "|              2013-07-29|\n",
      "|              2013-07-29|\n",
      "|              2013-07-29|\n",
      "|              2013-07-29|\n",
      "|              2013-07-29|\n",
      "+------------------------+\n",
      "only showing top 20 rows\n",
      "\n"
     ]
    }
   ],
   "source": [
    "orders.select(date_sub($\"Order_date\",-4)).show()"
   ]
  },
  {
   "cell_type": "code",
   "execution_count": 51,
   "id": "63c684a5",
   "metadata": {},
   "outputs": [
    {
     "name": "stdout",
     "output_type": "stream",
     "text": [
      "+-----------+\n",
      "|Order_month|\n",
      "+-----------+\n",
      "| 2013-09-25|\n",
      "| 2013-09-25|\n",
      "| 2013-09-25|\n",
      "| 2013-09-25|\n",
      "| 2013-09-25|\n",
      "| 2013-09-25|\n",
      "| 2013-09-25|\n",
      "| 2013-09-25|\n",
      "| 2013-09-25|\n",
      "| 2013-09-25|\n",
      "| 2013-09-25|\n",
      "| 2013-09-25|\n",
      "| 2013-09-25|\n",
      "| 2013-09-25|\n",
      "| 2013-09-25|\n",
      "| 2013-09-25|\n",
      "| 2013-09-25|\n",
      "| 2013-09-25|\n",
      "| 2013-09-25|\n",
      "| 2013-09-25|\n",
      "+-----------+\n",
      "only showing top 20 rows\n",
      "\n"
     ]
    }
   ],
   "source": [
    "orders.select(add_months($\"Order_date\",2) alias \"Order_month\").show()"
   ]
  },
  {
   "cell_type": "code",
   "execution_count": 61,
   "id": "c1e7bf15",
   "metadata": {},
   "outputs": [
    {
     "name": "stdout",
     "output_type": "stream",
     "text": [
      "+--------------------------+\n",
      "|add_months(Order_date, -3)|\n",
      "+--------------------------+\n",
      "|                2013-04-25|\n",
      "|                2013-04-25|\n",
      "|                2013-04-25|\n",
      "|                2013-04-25|\n",
      "|                2013-04-25|\n",
      "|                2013-04-25|\n",
      "|                2013-04-25|\n",
      "|                2013-04-25|\n",
      "|                2013-04-25|\n",
      "|                2013-04-25|\n",
      "|                2013-04-25|\n",
      "|                2013-04-25|\n",
      "|                2013-04-25|\n",
      "|                2013-04-25|\n",
      "|                2013-04-25|\n",
      "|                2013-04-25|\n",
      "|                2013-04-25|\n",
      "|                2013-04-25|\n",
      "|                2013-04-25|\n",
      "|                2013-04-25|\n",
      "+--------------------------+\n",
      "only showing top 20 rows\n",
      "\n"
     ]
    }
   ],
   "source": [
    "orders.select(add_months($\"Order_date\",-3)).show()"
   ]
  },
  {
   "cell_type": "code",
   "execution_count": 68,
   "id": "40f44546",
   "metadata": {},
   "outputs": [
    {
     "name": "stdout",
     "output_type": "stream",
     "text": [
      "+--------+-------------------+----------------+---------------+\n",
      "|order_id|         Order_date|Order_product_id|   Order_status|\n",
      "+--------+-------------------+----------------+---------------+\n",
      "|    1297|2013-08-01 00:00:00|           11607|       COMPLETE|\n",
      "|    1298|2013-08-01 00:00:00|            5105|         CLOSED|\n",
      "|    1299|2013-08-01 00:00:00|            7802|       COMPLETE|\n",
      "|    1300|2013-08-01 00:00:00|             553|PENDING_PAYMENT|\n",
      "|    1301|2013-08-01 00:00:00|            1604|PENDING_PAYMENT|\n",
      "|    1302|2013-08-01 00:00:00|            1695|       COMPLETE|\n",
      "|    1303|2013-08-01 00:00:00|            7018|     PROCESSING|\n",
      "|    1304|2013-08-01 00:00:00|            2059|       COMPLETE|\n",
      "|    1305|2013-08-01 00:00:00|            3844|       COMPLETE|\n",
      "|    1306|2013-08-01 00:00:00|           11672|PENDING_PAYMENT|\n",
      "|    1307|2013-08-01 00:00:00|            4474|       COMPLETE|\n",
      "|    1308|2013-08-01 00:00:00|           11645|        PENDING|\n",
      "|    1309|2013-08-01 00:00:00|            2367|         CLOSED|\n",
      "|    1310|2013-08-01 00:00:00|            5602|        PENDING|\n",
      "|    1311|2013-08-01 00:00:00|            5396|PENDING_PAYMENT|\n",
      "|    1312|2013-08-01 00:00:00|           12291|       COMPLETE|\n",
      "|    1313|2013-08-01 00:00:00|            3471|       CANCELED|\n",
      "|    1314|2013-08-01 00:00:00|           10993|       COMPLETE|\n",
      "|    1315|2013-08-01 00:00:00|            5660|       COMPLETE|\n",
      "|    1316|2013-08-01 00:00:00|            6376|PENDING_PAYMENT|\n",
      "+--------+-------------------+----------------+---------------+\n",
      "only showing top 20 rows\n",
      "\n"
     ]
    }
   ],
   "source": [
    "orders.where(\"Order_date>=trunc('2013-08-25','mm') and Order_date<'2013-08-24'\").show()"
   ]
  },
  {
   "cell_type": "code",
   "execution_count": 69,
   "id": "742ddfbe",
   "metadata": {},
   "outputs": [
    {
     "name": "stdout",
     "output_type": "stream",
     "text": [
      "+-------------------+\n",
      "|    max(Order_date)|\n",
      "+-------------------+\n",
      "|2013-08-23 00:00:00|\n",
      "+-------------------+\n",
      "\n"
     ]
    }
   ],
   "source": [
    "orders.where(\"Order_date>=trunc('2013-08-25','mm') and Order_date<'2013-08-24'\").agg(max($\"Order_date\")).show()"
   ]
  },
  {
   "cell_type": "code",
   "execution_count": 76,
   "id": "572fe5fc",
   "metadata": {},
   "outputs": [
    {
     "name": "stdout",
     "output_type": "stream",
     "text": [
      "root\n",
      " |-- order_id: integer (nullable = true)\n",
      " |-- Order_product_id: integer (nullable = true)\n",
      " |-- Order_status: string (nullable = true)\n",
      "\n"
     ]
    }
   ],
   "source": [
    "orders.drop($\"Order_date\").printSchema()"
   ]
  },
  {
   "cell_type": "code",
   "execution_count": null,
   "id": "b111f3f5",
   "metadata": {},
   "outputs": [],
   "source": []
  }
 ],
 "metadata": {
  "kernelspec": {
   "display_name": "Spark 2 - Scala",
   "language": "scala",
   "name": "spark_2_scala"
  },
  "language_info": {
   "codemirror_mode": "text/x-scala",
   "file_extension": ".scala",
   "mimetype": "text/x-scala",
   "name": "scala",
   "pygments_lexer": "scala",
   "version": "2.11.12"
  }
 },
 "nbformat": 4,
 "nbformat_minor": 5
}
