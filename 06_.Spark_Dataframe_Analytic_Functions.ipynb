{
 "cells": [
  {
   "cell_type": "code",
   "execution_count": 1,
   "id": "f394de45",
   "metadata": {},
   "outputs": [],
   "source": [
    "import org.apache.spark.sql.SparkSession"
   ]
  },
  {
   "cell_type": "code",
   "execution_count": 2,
   "id": "06b802fe",
   "metadata": {},
   "outputs": [
    {
     "data": {
      "text/plain": [
       "spark = org.apache.spark.sql.SparkSession@21fa9afe\n"
      ]
     },
     "metadata": {},
     "output_type": "display_data",
     "source": "user"
    },
    {
     "data": {
      "text/plain": [
       "org.apache.spark.sql.SparkSession@21fa9afe"
      ]
     },
     "execution_count": 2,
     "metadata": {},
     "output_type": "execute_result"
    }
   ],
   "source": [
    "val spark = SparkSession.\n",
    "    builder.\n",
    "    config(\"spark.ui.port\", \"0\").\n",
    "    config(\"spark.sql.warehouse.dir\", \"/user/itv001389/warehouse\").\n",
    "    enableHiveSupport.\n",
    "    master(\"yarn\").\n",
    "    appName(\"Getting Started - Spark with Scala\").\n",
    "    getOrCreate"
   ]
  },
  {
   "cell_type": "code",
   "execution_count": 3,
   "id": "d1c01272",
   "metadata": {},
   "outputs": [
    {
     "data": {
      "text/plain": [
       "[]"
      ]
     },
     "execution_count": 3,
     "metadata": {},
     "output_type": "execute_result"
    }
   ],
   "source": [
    "spark.sql(\"use raj\")"
   ]
  },
  {
   "cell_type": "code",
   "execution_count": 4,
   "id": "2e265ad0",
   "metadata": {},
   "outputs": [],
   "source": [
    "import spark.implicits._"
   ]
  },
  {
   "cell_type": "code",
   "execution_count": 5,
   "id": "89d638f7",
   "metadata": {},
   "outputs": [],
   "source": [
    "import org.apache.spark.sql.functions._"
   ]
  },
  {
   "cell_type": "code",
   "execution_count": 6,
   "id": "29c2bffc",
   "metadata": {},
   "outputs": [],
   "source": [
    "import org.apache.spark.sql.Column"
   ]
  },
  {
   "cell_type": "markdown",
   "id": "e604dcd1",
   "metadata": {},
   "source": [
    "#### In order to use the windowing functions in spark dataframe we need to import the below package"
   ]
  },
  {
   "cell_type": "code",
   "execution_count": 7,
   "id": "a8720aa9",
   "metadata": {},
   "outputs": [],
   "source": [
    "import org.apache.spark.sql.expressions._"
   ]
  },
  {
   "cell_type": "code",
   "execution_count": 12,
   "id": "461e02d1",
   "metadata": {},
   "outputs": [
    {
     "data": {
      "text/plain": [
       "df = [order_id: int, Order_date: timestamp ... 2 more fields]\n"
      ]
     },
     "metadata": {},
     "output_type": "display_data",
     "source": "user"
    },
    {
     "data": {
      "text/plain": [
       "[order_id: int, Order_date: timestamp ... 2 more fields]"
      ]
     },
     "execution_count": 12,
     "metadata": {},
     "output_type": "execute_result"
    }
   ],
   "source": [
    "val df=spark.read.parquet(\"hdfs://m01.itversity.com:9000/user/itv001389/warehouse/raj.db/orders/part-00000-6502fdf1-89f6-48b4-ae4c-6c0376ab98ce-c000.snappy.parquet\")"
   ]
  },
  {
   "cell_type": "code",
   "execution_count": 19,
   "id": "34015949",
   "metadata": {},
   "outputs": [
    {
     "name": "stdout",
     "output_type": "stream",
     "text": [
      "+--------+-------------------+----------------+---------------+----+\n",
      "|order_id|         Order_date|Order_product_id|   Order_status|Rank|\n",
      "+--------+-------------------+----------------+---------------+----+\n",
      "|   51203|2014-06-11 00:00:00|            5894|PENDING_PAYMENT|   1|\n",
      "|   51204|2014-06-11 00:00:00|            2734|PENDING_PAYMENT|   2|\n",
      "|   51205|2014-06-11 00:00:00|           11652|PENDING_PAYMENT|   3|\n",
      "|   51206|2014-06-11 00:00:00|           10555|PENDING_PAYMENT|   4|\n",
      "|   51207|2014-06-11 00:00:00|            8024|PENDING_PAYMENT|   5|\n",
      "|   51208|2014-06-11 00:00:00|            2691|       COMPLETE|   6|\n",
      "|   51209|2014-06-11 00:00:00|            7705|       COMPLETE|   7|\n",
      "|   51210|2014-06-11 00:00:00|            8180|        ON_HOLD|   8|\n",
      "|   51211|2014-06-11 00:00:00|            5955|         CLOSED|   9|\n",
      "|   51212|2014-06-11 00:00:00|           10514|       COMPLETE|  10|\n",
      "|   51213|2014-06-11 00:00:00|            7445|        ON_HOLD|  11|\n",
      "|   51214|2014-06-11 00:00:00|            9518|        PENDING|  12|\n",
      "|   51215|2014-06-11 00:00:00|            1282|SUSPECTED_FRAUD|  13|\n",
      "|   51216|2014-06-11 00:00:00|            2155|       COMPLETE|  14|\n",
      "|   51217|2014-06-11 00:00:00|            3891|         CLOSED|  15|\n",
      "|   51218|2014-06-11 00:00:00|            1751|        PENDING|  16|\n",
      "|   51219|2014-06-11 00:00:00|            9321|       COMPLETE|  17|\n",
      "|   51220|2014-06-11 00:00:00|             252|       COMPLETE|  18|\n",
      "|   51221|2014-06-11 00:00:00|            8403|PENDING_PAYMENT|  19|\n",
      "|   51222|2014-06-11 00:00:00|            2010|       COMPLETE|  20|\n",
      "+--------+-------------------+----------------+---------------+----+\n",
      "only showing top 20 rows\n",
      "\n"
     ]
    }
   ],
   "source": [
    "df.withColumn(\"Rank\",rank().over(Window.partitionBy(\"Order_date\").orderBy(\"order_id\"))).show()"
   ]
  },
  {
   "cell_type": "code",
   "execution_count": 20,
   "id": "36ad6242",
   "metadata": {},
   "outputs": [
    {
     "data": {
      "text/plain": [
       "df1 = [order_item_id: int, order_item_order_id: int ... 4 more fields]\n"
      ]
     },
     "metadata": {},
     "output_type": "display_data",
     "source": "user"
    },
    {
     "data": {
      "text/plain": [
       "[order_item_id: int, order_item_order_id: int ... 4 more fields]"
      ]
     },
     "execution_count": 20,
     "metadata": {},
     "output_type": "execute_result"
    }
   ],
   "source": [
    "val df1=spark.read.schema(\"order_item_id int,order_item_order_id int,order_item_product_id int,order_item_quantity int,order_item_subtotal decimal(17,4),order_item_product_price decimal(17,4)\").csv(\"hdfs://m01.itversity.com:9000/user/itv001389/warehouse/raj.db/order_item_new\")"
   ]
  },
  {
   "cell_type": "code",
   "execution_count": 23,
   "id": "555b4616",
   "metadata": {},
   "outputs": [
    {
     "data": {
      "text/plain": [
       "orderItem = [order_item_id: int, order_item_order_id: int ... 1 more field]\n"
      ]
     },
     "metadata": {},
     "output_type": "display_data",
     "source": "user"
    },
    {
     "data": {
      "text/plain": [
       "[order_item_id: int, order_item_order_id: int ... 1 more field]"
      ]
     },
     "execution_count": 23,
     "metadata": {},
     "output_type": "execute_result"
    }
   ],
   "source": [
    "val orderItem=df1.drop(\"order_item_quantity\",\"order_item_product_id\",\"order_item_product_price\")"
   ]
  },
  {
   "cell_type": "code",
   "execution_count": 24,
   "id": "f7b7ba8a",
   "metadata": {},
   "outputs": [
    {
     "name": "stdout",
     "output_type": "stream",
     "text": [
      "root\n",
      " |-- order_item_id: integer (nullable = true)\n",
      " |-- order_item_order_id: integer (nullable = true)\n",
      " |-- order_item_subtotal: decimal(17,4) (nullable = true)\n",
      "\n"
     ]
    }
   ],
   "source": [
    "orderItem.printSchema()"
   ]
  },
  {
   "cell_type": "code",
   "execution_count": 25,
   "id": "4cfd4488",
   "metadata": {},
   "outputs": [
    {
     "data": {
      "text/plain": [
       "spec = org.apache.spark.sql.expressions.WindowSpec@4f2dcdd\n"
      ]
     },
     "metadata": {},
     "output_type": "display_data",
     "source": "user"
    },
    {
     "data": {
      "text/plain": [
       "org.apache.spark.sql.expressions.WindowSpec@4f2dcdd"
      ]
     },
     "execution_count": 25,
     "metadata": {},
     "output_type": "execute_result"
    }
   ],
   "source": [
    "val spec=Window.partitionBy(\"order_item_order_id\")"
   ]
  },
  {
   "cell_type": "code",
   "execution_count": 30,
   "id": "ea16bc24",
   "metadata": {},
   "outputs": [
    {
     "data": {
      "text/plain": [
       "orderItemRevenue = [order_item_id: int, order_item_order_id: int ... 2 more fields]\n"
      ]
     },
     "metadata": {},
     "output_type": "display_data",
     "source": "user"
    },
    {
     "data": {
      "text/plain": [
       "[order_item_id: int, order_item_order_id: int ... 2 more fields]"
      ]
     },
     "execution_count": 30,
     "metadata": {},
     "output_type": "execute_result"
    }
   ],
   "source": [
    "val orderItemRevenue=orderItem.withColumn(\"order_Revenue\",sum(\"order_item_subtotal\").over(spec))"
   ]
  },
  {
   "cell_type": "code",
   "execution_count": 27,
   "id": "1bb04f58",
   "metadata": {},
   "outputs": [
    {
     "name": "stdout",
     "output_type": "stream",
     "text": [
      "root\n",
      " |-- order_item_id: integer (nullable = true)\n",
      " |-- order_item_order_id: integer (nullable = true)\n",
      " |-- order_item_subtotal: decimal(17,4) (nullable = true)\n",
      " |-- order_Revenue: decimal(27,4) (nullable = true)\n",
      "\n"
     ]
    }
   ],
   "source": [
    "orderItemRevenue.printSchema()"
   ]
  },
  {
   "cell_type": "code",
   "execution_count": 31,
   "id": "1034c105",
   "metadata": {},
   "outputs": [
    {
     "name": "stdout",
     "output_type": "stream",
     "text": [
      "+-------------+-------------------+-------------------+-------------+\n",
      "|order_item_id|order_item_order_id|order_item_subtotal|order_Revenue|\n",
      "+-------------+-------------------+-------------------+-------------+\n",
      "|            1|                  1|           299.9800|     299.9800|\n",
      "|            3|                  2|           250.0000|     579.9800|\n",
      "|            4|                  2|           129.9900|     579.9800|\n",
      "|            2|                  2|           199.9900|     579.9800|\n",
      "|            8|                  4|           199.9200|     699.8500|\n",
      "|            7|                  4|           150.0000|     699.8500|\n",
      "|            6|                  4|           299.9500|     699.8500|\n",
      "|            5|                  4|            49.9800|     699.8500|\n",
      "|           10|                  5|           299.9500|    1129.8600|\n",
      "|           12|                  5|           299.9800|    1129.8600|\n",
      "|            9|                  5|           299.9800|    1129.8600|\n",
      "|           13|                  5|           129.9900|    1129.8600|\n",
      "|           11|                  5|            99.9600|    1129.8600|\n",
      "|           15|                  7|           299.9800|     579.9200|\n",
      "|           16|                  7|            79.9500|     579.9200|\n",
      "|           14|                  7|           199.9900|     579.9200|\n",
      "|           17|                  8|           179.9700|     729.8400|\n",
      "|           18|                  8|           299.9500|     729.8400|\n",
      "|           19|                  8|           199.9200|     729.8400|\n",
      "|           20|                  8|            50.0000|     729.8400|\n",
      "+-------------+-------------------+-------------------+-------------+\n",
      "only showing top 20 rows\n",
      "\n"
     ]
    }
   ],
   "source": [
    "orderItemRevenue.sort(\"order_item_order_id\").show()"
   ]
  },
  {
   "cell_type": "code",
   "execution_count": 8,
   "id": "48ba8b74",
   "metadata": {},
   "outputs": [
    {
     "data": {
      "text/plain": [
       "df2 = [EMPNO: int, ENAME: string ... 6 more fields]\n"
      ]
     },
     "metadata": {},
     "output_type": "display_data",
     "source": "user"
    },
    {
     "data": {
      "text/plain": [
       "[EMPNO: int, ENAME: string ... 6 more fields]"
      ]
     },
     "execution_count": 8,
     "metadata": {},
     "output_type": "execute_result"
    }
   ],
   "source": [
    "val df2=spark.read.parquet(\"hdfs://m01.itversity.com:9000/user/itv001389/warehouse/raj.db/emp_join\")"
   ]
  },
  {
   "cell_type": "code",
   "execution_count": 9,
   "id": "366feef4",
   "metadata": {},
   "outputs": [],
   "source": [
    "spark.conf.set(\"spark.sql.shuffle.partitions\",\"2\")"
   ]
  },
  {
   "cell_type": "code",
   "execution_count": 10,
   "id": "63e85fe6",
   "metadata": {},
   "outputs": [
    {
     "data": {
      "text/plain": [
       "spec = org.apache.spark.sql.expressions.WindowSpec@33ea51f1\n"
      ]
     },
     "metadata": {},
     "output_type": "display_data",
     "source": "user"
    },
    {
     "data": {
      "text/plain": [
       "warning: there was one feature warning; re-run with -feature for details\n"
      ]
     },
     "metadata": {},
     "output_type": "display_data",
     "source": "user"
    },
    {
     "data": {
      "text/plain": [
       "org.apache.spark.sql.expressions.WindowSpec@33ea51f1"
      ]
     },
     "execution_count": 10,
     "metadata": {},
     "output_type": "execute_result"
    }
   ],
   "source": [
    "val spec=Window.partitionBy(\"DEPTNO\").orderBy($\"SAL\"desc)"
   ]
  },
  {
   "cell_type": "code",
   "execution_count": 11,
   "id": "23f391e0",
   "metadata": {},
   "outputs": [
    {
     "data": {
      "text/plain": [
       "emp_sal = [EMPNO: int, DEPTNO: int ... 2 more fields]\n"
      ]
     },
     "metadata": {},
     "output_type": "display_data",
     "source": "user"
    },
    {
     "data": {
      "text/plain": [
       "[EMPNO: int, DEPTNO: int ... 2 more fields]"
      ]
     },
     "execution_count": 11,
     "metadata": {},
     "output_type": "execute_result"
    }
   ],
   "source": [
    "val emp_sal=df2.select(\"EMPNO\",\"DEPTNO\",\"SAL\").withColumn(\"total_sal\",sum(\"SAL\").over(spec)).orderBy($\"DEPTNO\",$\"SAL\".desc)"
   ]
  },
  {
   "cell_type": "code",
   "execution_count": 69,
   "id": "bd881ffb",
   "metadata": {},
   "outputs": [
    {
     "name": "stdout",
     "output_type": "stream",
     "text": [
      "+-----+------+----+---------+\n",
      "|EMPNO|DEPTNO| SAL|total_sal|\n",
      "+-----+------+----+---------+\n",
      "| 7839|    10|5000|     8750|\n",
      "| 7782|    10|2450|     8750|\n",
      "| 7934|    10|1300|     8750|\n",
      "| 7902|    20|3000|    10875|\n",
      "| 7788|    20|3000|    10875|\n",
      "| 7566|    20|2975|    10875|\n",
      "| 7876|    20|1100|    10875|\n",
      "| 7369|    20| 800|    10875|\n",
      "| 7698|    30|2850|     9400|\n",
      "| 7499|    30|1600|     9400|\n",
      "| 7844|    30|1500|     9400|\n",
      "| 7654|    30|1250|     9400|\n",
      "| 7521|    30|1250|     9400|\n",
      "| 7900|    30| 950|     9400|\n",
      "+-----+------+----+---------+\n",
      "\n"
     ]
    }
   ],
   "source": [
    "emp_sal.show()"
   ]
  },
  {
   "cell_type": "code",
   "execution_count": 14,
   "id": "2bd781f8",
   "metadata": {},
   "outputs": [
    {
     "name": "stdout",
     "output_type": "stream",
     "text": [
      "+------+------------------+\n",
      "|DEPTNO|          avg(SAL)|\n",
      "+------+------------------+\n",
      "|    10|2916.6666666666665|\n",
      "|    20|            2175.0|\n",
      "|    30|1566.6666666666667|\n",
      "+------+------------------+\n",
      "\n"
     ]
    }
   ],
   "source": [
    "emp_sal.groupBy(\"DEPTNO\").avg(\"SAL\").show()"
   ]
  },
  {
   "cell_type": "code",
   "execution_count": 18,
   "id": "321b68c9",
   "metadata": {},
   "outputs": [
    {
     "name": "stdout",
     "output_type": "stream",
     "text": [
      "+-----+------+---------+----+----------+----+----+------+------------------+\n",
      "|EMPNO| ENAME|      JOB| MGR|  HIREDATE| SAL|COMM|DEPTNO|           Avg_sal|\n",
      "+-----+------+---------+----+----------+----+----+------+------------------+\n",
      "| 7839|  KING|PRESIDENT|null|1981-11-17|5000|null|    10|2916.6666666666665|\n",
      "| 7782| CLARK|  MANAGER|7839|1981-06-09|2450|null|    10|2916.6666666666665|\n",
      "| 7934|MILLER|    CLERK|7782|1982-01-23|1300|null|    10|2916.6666666666665|\n",
      "| 7788| SCOTT|  ANALYST|7566|1987-04-19|3000|null|    20|            2175.0|\n",
      "| 7902|  FORD|  ANALYST|7566|1981-12-03|3000|null|    20|            2175.0|\n",
      "| 7566| JONES|  MANAGER|7839|1981-04-02|2975|null|    20|            2175.0|\n",
      "| 7876| ADAMS|    CLERK|7788|1987-05-23|1100|null|    20|            2175.0|\n",
      "| 7369| SMITH|    CLERK|7902|1980-12-17| 800|null|    20|            2175.0|\n",
      "| 7698| BLAKE|  MANAGER|7839|1981-05-01|2850|null|    30|1566.6666666666667|\n",
      "| 7499| ALLEN| SALESMAN|7698|1981-02-20|1600| 300|    30|1566.6666666666667|\n",
      "| 7844|TURNER| SALESMAN|7698|1981-09-08|1500|   0|    30|1566.6666666666667|\n",
      "| 7521|  WARD| SALESMAN|7698|1981-02-22|1250| 500|    30|1566.6666666666667|\n",
      "| 7654|MARTIN| SALESMAN|7698|1981-09-28|1250|1400|    30|1566.6666666666667|\n",
      "| 7900| JAMES|    CLERK|7698|1981-12-03| 950|null|    30|1566.6666666666667|\n",
      "+-----+------+---------+----+----------+----+----+------+------------------+\n",
      "\n"
     ]
    },
    {
     "data": {
      "text/plain": [
       "emp_avg_sal: Unit = ()\n"
      ]
     },
     "metadata": {},
     "output_type": "display_data",
     "source": "user"
    }
   ],
   "source": [
    "val emp_avg_sal=df2.withColumn(\"Avg_sal\",avg(\"SAL\").over(spec)).orderBy($\"DEPTNO\",$\"SAL\".desc).show()"
   ]
  },
  {
   "cell_type": "code",
   "execution_count": 30,
   "id": "8452f234",
   "metadata": {},
   "outputs": [
    {
     "name": "stdout",
     "output_type": "stream",
     "text": [
      "+-----+------+----+--------+\n",
      "|EMPNO|DEPTNO| SAL|emp_lead|\n",
      "+-----+------+----+--------+\n",
      "| 7839|    10|5000|    2450|\n",
      "| 7782|    10|2450|    1300|\n",
      "| 7934|    10|1300|    null|\n",
      "| 7788|    20|3000|    3000|\n",
      "| 7902|    20|3000|    2975|\n",
      "| 7566|    20|2975|    1100|\n",
      "| 7876|    20|1100|     800|\n",
      "| 7369|    20| 800|    null|\n",
      "| 7698|    30|2850|    1600|\n",
      "| 7499|    30|1600|    1500|\n",
      "| 7844|    30|1500|    1250|\n",
      "| 7521|    30|1250|    1250|\n",
      "| 7654|    30|1250|     950|\n",
      "| 7900|    30| 950|    null|\n",
      "+-----+------+----+--------+\n",
      "\n"
     ]
    },
    {
     "data": {
      "text/plain": [
       "emp_lead: Unit = ()\n"
      ]
     },
     "metadata": {},
     "output_type": "display_data",
     "source": "user"
    }
   ],
   "source": [
    "val emp_lead=df2.select(\"EMPNO\",\"DEPTNO\",\"SAL\").withColumn(\"emp_lead\",lead(\"SAL\",1).over(spec)).show()"
   ]
  },
  {
   "cell_type": "code",
   "execution_count": 32,
   "id": "ac0c7073",
   "metadata": {},
   "outputs": [
    {
     "name": "stdout",
     "output_type": "stream",
     "text": [
      "+-----+------+----+--------+\n",
      "|EMPNO|DEPTNO| SAL|emp_lead|\n",
      "+-----+------+----+--------+\n",
      "| 7839|    10|5000|    1300|\n",
      "| 7782|    10|2450|    null|\n",
      "| 7934|    10|1300|    null|\n",
      "| 7788|    20|3000|    2975|\n",
      "| 7902|    20|3000|    1100|\n",
      "| 7566|    20|2975|     800|\n",
      "| 7876|    20|1100|    null|\n",
      "| 7369|    20| 800|    null|\n",
      "| 7698|    30|2850|    1500|\n",
      "| 7499|    30|1600|    1250|\n",
      "| 7844|    30|1500|    1250|\n",
      "| 7521|    30|1250|     950|\n",
      "| 7654|    30|1250|    null|\n",
      "| 7900|    30| 950|    null|\n",
      "+-----+------+----+--------+\n",
      "\n"
     ]
    },
    {
     "data": {
      "text/plain": [
       "emp_lead: Unit = ()\n"
      ]
     },
     "metadata": {},
     "output_type": "display_data",
     "source": "user"
    }
   ],
   "source": [
    "val emp_lead=df2.select(\"EMPNO\",\"DEPTNO\",\"SAL\").withColumn(\"emp_lead\",lead(\"SAL\",2).over(spec)).show()"
   ]
  },
  {
   "cell_type": "code",
   "execution_count": 45,
   "id": "12e1ad90",
   "metadata": {},
   "outputs": [
    {
     "name": "stdout",
     "output_type": "stream",
     "text": [
      "+-----+------+----+-------+\n",
      "|EMPNO|DEPTNO| SAL|emp_lag|\n",
      "+-----+------+----+-------+\n",
      "| 7839|    10|5000|   null|\n",
      "| 7782|    10|2450|   5000|\n",
      "| 7934|    10|1300|   2450|\n",
      "| 7788|    20|3000|   null|\n",
      "| 7902|    20|3000|   3000|\n",
      "| 7566|    20|2975|   3000|\n",
      "| 7876|    20|1100|   2975|\n",
      "| 7369|    20| 800|   1100|\n",
      "| 7698|    30|2850|   null|\n",
      "| 7499|    30|1600|   2850|\n",
      "| 7844|    30|1500|   1600|\n",
      "| 7521|    30|1250|   1500|\n",
      "| 7654|    30|1250|   1250|\n",
      "| 7900|    30| 950|   1250|\n",
      "+-----+------+----+-------+\n",
      "\n"
     ]
    },
    {
     "data": {
      "text/plain": [
       "emp_1: Unit = ()\n"
      ]
     },
     "metadata": {},
     "output_type": "display_data",
     "source": "user"
    }
   ],
   "source": [
    "val emp_1=df2.select(\"EMPNO\",\"DEPTNO\",\"SAL\").withColumn(\"emp_lag\",lag(\"SAL\",1).over(spec)).show()"
   ]
  },
  {
   "cell_type": "code",
   "execution_count": 44,
   "id": "d319dc41",
   "metadata": {},
   "outputs": [
    {
     "name": "stdout",
     "output_type": "stream",
     "text": [
      "+-----+------+----+---------+\n",
      "|EMPNO|DEPTNO| SAL|First_Sal|\n",
      "+-----+------+----+---------+\n",
      "| 7839|    10|5000|     5000|\n",
      "| 7782|    10|2450|     5000|\n",
      "| 7934|    10|1300|     5000|\n",
      "| 7788|    20|3000|     3000|\n",
      "| 7902|    20|3000|     3000|\n",
      "| 7566|    20|2975|     3000|\n",
      "| 7876|    20|1100|     3000|\n",
      "| 7369|    20| 800|     3000|\n",
      "| 7698|    30|2850|     2850|\n",
      "| 7499|    30|1600|     2850|\n",
      "| 7844|    30|1500|     2850|\n",
      "| 7521|    30|1250|     2850|\n",
      "| 7654|    30|1250|     2850|\n",
      "| 7900|    30| 950|     2850|\n",
      "+-----+------+----+---------+\n",
      "\n"
     ]
    }
   ],
   "source": [
    "df2.select(\"EMPNO\",\"DEPTNO\",\"SAL\").withColumn(\"First_Sal\",first(\"SAL\").over(spec)).show()"
   ]
  },
  {
   "cell_type": "code",
   "execution_count": 14,
   "id": "eaba4214",
   "metadata": {},
   "outputs": [
    {
     "data": {
      "text/plain": [
       "spec = org.apache.spark.sql.expressions.WindowSpec@6a72497f\n"
      ]
     },
     "metadata": {},
     "output_type": "display_data",
     "source": "user"
    },
    {
     "data": {
      "text/plain": [
       "warning: there were three deprecation warnings; re-run with -deprecation for details\n"
      ]
     },
     "metadata": {},
     "output_type": "display_data",
     "source": "user"
    },
    {
     "data": {
      "text/plain": [
       "org.apache.spark.sql.expressions.WindowSpec@6a72497f"
      ]
     },
     "execution_count": 14,
     "metadata": {},
     "output_type": "execute_result"
    }
   ],
   "source": [
    "val spec=Window.partitionBy(\"DEPTNO\").orderBy($\"SAL\".desc).rangeBetween(unboundedPreceding,unboundedFollowing)"
   ]
  },
  {
   "cell_type": "code",
   "execution_count": 16,
   "id": "8c39b121",
   "metadata": {},
   "outputs": [
    {
     "name": "stdout",
     "output_type": "stream",
     "text": [
      "+-----+------+----+--------+\n",
      "|EMPNO|DEPTNO| SAL|Last_Sal|\n",
      "+-----+------+----+--------+\n",
      "| 7839|    10|5000|    1300|\n",
      "| 7782|    10|2450|    1300|\n",
      "| 7934|    10|1300|    1300|\n",
      "| 7788|    20|3000|     800|\n",
      "| 7902|    20|3000|     800|\n",
      "| 7566|    20|2975|     800|\n",
      "| 7876|    20|1100|     800|\n",
      "| 7369|    20| 800|     800|\n",
      "| 7698|    30|2850|     950|\n",
      "| 7499|    30|1600|     950|\n",
      "| 7844|    30|1500|     950|\n",
      "| 7521|    30|1250|     950|\n",
      "| 7654|    30|1250|     950|\n",
      "| 7900|    30| 950|     950|\n",
      "+-----+------+----+--------+\n",
      "\n"
     ]
    }
   ],
   "source": [
    "df2.select(\"EMPNO\",\"DEPTNO\",\"SAL\").withColumn(\"Last_Sal\",last(\"SAL\",false).over(spec)).orderBy($\"DEPTNO\",$\"SAL\".desc).show()"
   ]
  },
  {
   "cell_type": "code",
   "execution_count": 17,
   "id": "ab9e9010",
   "metadata": {},
   "outputs": [
    {
     "data": {
      "text/plain": [
       "spec = org.apache.spark.sql.expressions.WindowSpec@16867486\n"
      ]
     },
     "metadata": {},
     "output_type": "display_data",
     "source": "user"
    },
    {
     "data": {
      "text/plain": [
       "org.apache.spark.sql.expressions.WindowSpec@16867486"
      ]
     },
     "execution_count": 17,
     "metadata": {},
     "output_type": "execute_result"
    }
   ],
   "source": [
    "val spec=Window.partitionBy(\"DEPTNO\").orderBy($\"SAL\".desc)"
   ]
  },
  {
   "cell_type": "code",
   "execution_count": 23,
   "id": "d3fab5fa",
   "metadata": {},
   "outputs": [
    {
     "name": "stdout",
     "output_type": "stream",
     "text": [
      "+-----+------+----+----+\n",
      "|EMPNO|DEPTNO| SAL|rank|\n",
      "+-----+------+----+----+\n",
      "| 7839|    10|5000|   1|\n",
      "| 7782|    10|2450|   2|\n",
      "| 7934|    10|1300|   3|\n",
      "| 7788|    20|3000|   1|\n",
      "| 7902|    20|3000|   1|\n",
      "| 7566|    20|2975|   3|\n",
      "| 7876|    20|1100|   4|\n",
      "| 7369|    20| 800|   5|\n",
      "| 7698|    30|2850|   1|\n",
      "| 7499|    30|1600|   2|\n",
      "| 7844|    30|1500|   3|\n",
      "| 7521|    30|1250|   4|\n",
      "| 7654|    30|1250|   4|\n",
      "| 7900|    30| 950|   6|\n",
      "+-----+------+----+----+\n",
      "\n"
     ]
    }
   ],
   "source": [
    "df2.select(\"EMPNO\",\"DEPTNO\",\"SAL\").withColumn(\"rank\",rank.over(spec)).orderBy($\"DEPTNO\",$\"SAL\".desc).show()"
   ]
  },
  {
   "cell_type": "code",
   "execution_count": 24,
   "id": "3c818ffe",
   "metadata": {},
   "outputs": [
    {
     "name": "stdout",
     "output_type": "stream",
     "text": [
      "+-----+------+----+----------+\n",
      "|EMPNO|DEPTNO| SAL|dense_rank|\n",
      "+-----+------+----+----------+\n",
      "| 7839|    10|5000|         1|\n",
      "| 7782|    10|2450|         2|\n",
      "| 7934|    10|1300|         3|\n",
      "| 7788|    20|3000|         1|\n",
      "| 7902|    20|3000|         1|\n",
      "| 7566|    20|2975|         2|\n",
      "| 7876|    20|1100|         3|\n",
      "| 7369|    20| 800|         4|\n",
      "| 7698|    30|2850|         1|\n",
      "| 7499|    30|1600|         2|\n",
      "| 7844|    30|1500|         3|\n",
      "| 7521|    30|1250|         4|\n",
      "| 7654|    30|1250|         4|\n",
      "| 7900|    30| 950|         5|\n",
      "+-----+------+----+----------+\n",
      "\n"
     ]
    }
   ],
   "source": [
    "df2.select(\"EMPNO\",\"DEPTNO\",\"SAL\").withColumn(\"dense_rank\",dense_rank.over(spec)).orderBy($\"DEPTNO\",$\"SAL\".desc).show()"
   ]
  },
  {
   "cell_type": "code",
   "execution_count": 25,
   "id": "517390a8",
   "metadata": {},
   "outputs": [
    {
     "name": "stdout",
     "output_type": "stream",
     "text": [
      "+-----+------+----+---------+\n",
      "|EMPNO|DEPTNO| SAL|Rownumber|\n",
      "+-----+------+----+---------+\n",
      "| 7839|    10|5000|        1|\n",
      "| 7782|    10|2450|        2|\n",
      "| 7934|    10|1300|        3|\n",
      "| 7788|    20|3000|        1|\n",
      "| 7902|    20|3000|        2|\n",
      "| 7566|    20|2975|        3|\n",
      "| 7876|    20|1100|        4|\n",
      "| 7369|    20| 800|        5|\n",
      "| 7698|    30|2850|        1|\n",
      "| 7499|    30|1600|        2|\n",
      "| 7844|    30|1500|        3|\n",
      "| 7521|    30|1250|        4|\n",
      "| 7654|    30|1250|        5|\n",
      "| 7900|    30| 950|        6|\n",
      "+-----+------+----+---------+\n",
      "\n"
     ]
    }
   ],
   "source": [
    "df2.select(\"EMPNO\",\"DEPTNO\",\"SAL\").withColumn(\"Rownumber\",row_number.over(spec)).orderBy($\"DEPTNO\",$\"SAL\".desc).show()"
   ]
  },
  {
   "cell_type": "code",
   "execution_count": null,
   "id": "4fd9f11f",
   "metadata": {},
   "outputs": [],
   "source": []
  }
 ],
 "metadata": {
  "kernelspec": {
   "display_name": "Spark 2 - Scala",
   "language": "scala",
   "name": "spark_2_scala"
  },
  "language_info": {
   "codemirror_mode": "text/x-scala",
   "file_extension": ".scala",
   "mimetype": "text/x-scala",
   "name": "scala",
   "pygments_lexer": "scala",
   "version": "2.11.12"
  }
 },
 "nbformat": 4,
 "nbformat_minor": 5
}
