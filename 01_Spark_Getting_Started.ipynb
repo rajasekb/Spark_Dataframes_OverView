{
 "cells": [
  {
   "cell_type": "code",
   "execution_count": 44,
   "id": "7dcb9832",
   "metadata": {},
   "outputs": [
    {
     "data": {
      "text/plain": [
       "lastException: Throwable = null\n"
      ]
     },
     "metadata": {},
     "output_type": "display_data",
     "source": "user"
    }
   ],
   "source": [
    "import org.apache.spark.sql.SparkSession"
   ]
  },
  {
   "cell_type": "code",
   "execution_count": 45,
   "id": "7dce0ba7",
   "metadata": {},
   "outputs": [
    {
     "data": {
      "text/plain": [
       "spark = org.apache.spark.sql.SparkSession@147c65c5\n"
      ]
     },
     "metadata": {},
     "output_type": "display_data",
     "source": "user"
    },
    {
     "data": {
      "text/plain": [
       "org.apache.spark.sql.SparkSession@147c65c5"
      ]
     },
     "execution_count": 45,
     "metadata": {},
     "output_type": "execute_result"
    }
   ],
   "source": [
    "val spark = SparkSession.\n",
    "    builder.\n",
    "    config(\"spark.ui.port\", \"0\").\n",
    "    config(\"spark.sql.warehouse.dir\", \"/user/itv001389/warehouse\").\n",
    "    enableHiveSupport.\n",
    "    master(\"yarn\").\n",
    "    appName(\"Getting Started - Spark with Scala\").\n",
    "    getOrCreate"
   ]
  },
  {
   "cell_type": "code",
   "execution_count": 46,
   "id": "d108b0ba",
   "metadata": {},
   "outputs": [
    {
     "data": {
      "text/plain": [
       "[]"
      ]
     },
     "execution_count": 46,
     "metadata": {},
     "output_type": "execute_result"
    }
   ],
   "source": [
    "spark.sql(\"use raj\")"
   ]
  },
  {
   "cell_type": "code",
   "execution_count": 5,
   "id": "85d53fdf",
   "metadata": {},
   "outputs": [
    {
     "name": "stdout",
     "output_type": "stream",
     "text": [
      "+--------+----------------+-----------+\n",
      "|database|       tableName|isTemporary|\n",
      "+--------+----------------+-----------+\n",
      "|     raj|             dep|      false|\n",
      "|     raj|        dep_join|      false|\n",
      "|     raj|             emp|      false|\n",
      "|     raj|        emp_join|      false|\n",
      "|     raj|        emp_part|      false|\n",
      "|     raj|     emp_raj_par|      false|\n",
      "|     raj|           join1|      false|\n",
      "|     raj|           join2|      false|\n",
      "|     raj|          joins1|      false|\n",
      "|     raj|         joins_1|      false|\n",
      "|     raj|          joins2|      false|\n",
      "|     raj|          joins3|      false|\n",
      "|     raj|      order_immu|      false|\n",
      "|     raj|   orderitem_nor|      false|\n",
      "|     raj|   orderitem_orc|      false|\n",
      "|     raj|   orderitem_par|      false|\n",
      "|     raj|     order_items|      false|\n",
      "|     raj|order_items_part|      false|\n",
      "|     raj|        order_oi|      false|\n",
      "|     raj|   order_oi_cast|      false|\n",
      "+--------+----------------+-----------+\n",
      "only showing top 20 rows\n",
      "\n"
     ]
    }
   ],
   "source": [
    "spark.sql(\"show tables\").show()"
   ]
  },
  {
   "cell_type": "code",
   "execution_count": 12,
   "id": "8953c1e0",
   "metadata": {},
   "outputs": [
    {
     "name": "stdout",
     "output_type": "stream",
     "text": [
      "+----------------------------+---------------------------------------------------------------------------------------+-------+\n",
      "|col_name                    |data_type                                                                              |comment|\n",
      "+----------------------------+---------------------------------------------------------------------------------------+-------+\n",
      "|order_id                    |int                                                                                    |null   |\n",
      "|order_date                  |timestamp                                                                              |null   |\n",
      "|order_product_id            |int                                                                                    |null   |\n",
      "|order_status                |string                                                                                 |null   |\n",
      "|                            |                                                                                       |       |\n",
      "|# Detailed Table Information|                                                                                       |       |\n",
      "|Database                    |raj                                                                                    |       |\n",
      "|Table                       |order_immu                                                                             |       |\n",
      "|Owner                       |itv001389                                                                              |       |\n",
      "|Created Time                |Sat Oct 16 05:35:30 EDT 2021                                                           |       |\n",
      "|Last Access                 |Wed Dec 31 19:00:00 EST 1969                                                           |       |\n",
      "|Created By                  |Spark 2.4.7                                                                            |       |\n",
      "|Type                        |EXTERNAL                                                                               |       |\n",
      "|Provider                    |hive                                                                                   |       |\n",
      "|Table Properties            |[transient_lastDdlTime=1634378060, immutable=true, STATS_GENERATED_VIA_STATS_TASK=true]|       |\n",
      "|Statistics                  |5724356 bytes                                                                          |       |\n",
      "|Location                    |hdfs://m01.itversity.com:9000/user/itv001389/warehouse/raj.db/order_imm                |       |\n",
      "|Serde Library               |org.apache.hadoop.hive.serde2.lazy.LazySimpleSerDe                                     |       |\n",
      "|InputFormat                 |org.apache.hadoop.mapred.TextInputFormat                                               |       |\n",
      "|OutputFormat                |org.apache.hadoop.hive.ql.io.HiveIgnoreKeyTextOutputFormat                             |       |\n",
      "+----------------------------+---------------------------------------------------------------------------------------+-------+\n",
      "only showing top 20 rows\n",
      "\n"
     ]
    }
   ],
   "source": [
    "spark.sql(\"describe formatted raj.order_immu\").show(false)"
   ]
  },
  {
   "cell_type": "code",
   "execution_count": 47,
   "id": "8bdcb5a5",
   "metadata": {},
   "outputs": [],
   "source": [
    "import org.apache.spark.sql.functions._"
   ]
  },
  {
   "cell_type": "code",
   "execution_count": 48,
   "id": "f141f5c9",
   "metadata": {},
   "outputs": [],
   "source": [
    "import spark.implicits._"
   ]
  },
  {
   "cell_type": "code",
   "execution_count": 49,
   "id": "a93532e0",
   "metadata": {},
   "outputs": [],
   "source": [
    "import org.apache.spark.sql.Column"
   ]
  },
  {
   "cell_type": "code",
   "execution_count": 50,
   "id": "3e1021c2",
   "metadata": {},
   "outputs": [
    {
     "data": {
      "text/plain": [
       "order = [order_id: int, Order_date: timestamp ... 2 more fields]\n"
      ]
     },
     "metadata": {},
     "output_type": "display_data",
     "source": "user"
    },
    {
     "data": {
      "text/plain": [
       "[order_id: int, Order_date: timestamp ... 2 more fields]"
      ]
     },
     "execution_count": 50,
     "metadata": {},
     "output_type": "execute_result"
    }
   ],
   "source": [
    "val order=spark.read.parquet(\"hdfs://m01.itversity.com:9000/user/itv001389/warehouse/raj.db/orders/part-00000-6502fdf1-89f6-48b4-ae4c-6c0376ab98ce-c000.snappy.parquet\")"
   ]
  },
  {
   "cell_type": "code",
   "execution_count": 14,
   "id": "1183bc5e",
   "metadata": {},
   "outputs": [
    {
     "name": "stdout",
     "output_type": "stream",
     "text": [
      "root\n",
      " |-- order_id: integer (nullable = true)\n",
      " |-- Order_date: timestamp (nullable = true)\n",
      " |-- Order_product_id: integer (nullable = true)\n",
      " |-- Order_status: string (nullable = true)\n",
      "\n"
     ]
    }
   ],
   "source": [
    "order.printSchema()"
   ]
  },
  {
   "cell_type": "code",
   "execution_count": 15,
   "id": "71389436",
   "metadata": {},
   "outputs": [
    {
     "name": "stdout",
     "output_type": "stream",
     "text": [
      "+--------+-------------------+----------------+---------------+\n",
      "|order_id|         Order_date|Order_product_id|   Order_status|\n",
      "+--------+-------------------+----------------+---------------+\n",
      "|       1|2013-07-25 00:00:00|           11599|         CLOSED|\n",
      "|       2|2013-07-25 00:00:00|             256|PENDING_PAYMENT|\n",
      "|       3|2013-07-25 00:00:00|           12111|       COMPLETE|\n",
      "|       4|2013-07-25 00:00:00|            8827|         CLOSED|\n",
      "|       5|2013-07-25 00:00:00|           11318|       COMPLETE|\n",
      "|       6|2013-07-25 00:00:00|            7130|       COMPLETE|\n",
      "|       7|2013-07-25 00:00:00|            4530|       COMPLETE|\n",
      "|       8|2013-07-25 00:00:00|            2911|     PROCESSING|\n",
      "|       9|2013-07-25 00:00:00|            5657|PENDING_PAYMENT|\n",
      "|      10|2013-07-25 00:00:00|            5648|PENDING_PAYMENT|\n",
      "|      11|2013-07-25 00:00:00|             918| PAYMENT_REVIEW|\n",
      "|      12|2013-07-25 00:00:00|            1837|         CLOSED|\n",
      "|      13|2013-07-25 00:00:00|            9149|PENDING_PAYMENT|\n",
      "|      14|2013-07-25 00:00:00|            9842|     PROCESSING|\n",
      "|      15|2013-07-25 00:00:00|            2568|       COMPLETE|\n",
      "|      16|2013-07-25 00:00:00|            7276|PENDING_PAYMENT|\n",
      "|      17|2013-07-25 00:00:00|            2667|       COMPLETE|\n",
      "|      18|2013-07-25 00:00:00|            1205|         CLOSED|\n",
      "|      19|2013-07-25 00:00:00|            9488|PENDING_PAYMENT|\n",
      "|      20|2013-07-25 00:00:00|            9198|     PROCESSING|\n",
      "+--------+-------------------+----------------+---------------+\n",
      "only showing top 20 rows\n",
      "\n"
     ]
    }
   ],
   "source": [
    "order.show()"
   ]
  },
  {
   "cell_type": "code",
   "execution_count": 17,
   "id": "178c95ca",
   "metadata": {},
   "outputs": [
    {
     "name": "stdout",
     "output_type": "stream",
     "text": [
      "+--------+-------------------+----------------+---------------+\n",
      "|order_id|         Order_date|Order_product_id|   Order_status|\n",
      "+--------+-------------------+----------------+---------------+\n",
      "|   54004|2014-07-01 00:00:00|            7079|       COMPLETE|\n",
      "|   54005|2014-07-01 00:00:00|            3867|PENDING_PAYMENT|\n",
      "|   54006|2014-07-01 00:00:00|            6547|PENDING_PAYMENT|\n",
      "|   54007|2014-07-01 00:00:00|           11772|         CLOSED|\n",
      "|   54008|2014-07-01 00:00:00|           10453|PENDING_PAYMENT|\n",
      "|   54009|2014-07-01 00:00:00|            3971|       COMPLETE|\n",
      "|   54010|2014-07-01 00:00:00|            4812|       COMPLETE|\n",
      "|   54011|2014-07-01 00:00:00|            3933|        PENDING|\n",
      "|   54012|2014-07-01 00:00:00|           10070|        PENDING|\n",
      "|   54013|2014-07-01 00:00:00|            3021|        PENDING|\n",
      "|   54014|2014-07-01 00:00:00|            3666|       CANCELED|\n",
      "|   54015|2014-07-01 00:00:00|           11402|       COMPLETE|\n",
      "|   54016|2014-07-01 00:00:00|           11211|       COMPLETE|\n",
      "|   54017|2014-07-01 00:00:00|            6267|       COMPLETE|\n",
      "|   54018|2014-07-01 00:00:00|            4034|         CLOSED|\n",
      "|   54019|2014-07-01 00:00:00|            3264|SUSPECTED_FRAUD|\n",
      "|   54020|2014-07-01 00:00:00|            3175|         CLOSED|\n",
      "|   54021|2014-07-01 00:00:00|            8888|PENDING_PAYMENT|\n",
      "|   54022|2014-07-01 00:00:00|             445|SUSPECTED_FRAUD|\n",
      "|   54023|2014-07-01 00:00:00|            1666|SUSPECTED_FRAUD|\n",
      "+--------+-------------------+----------------+---------------+\n",
      "only showing top 20 rows\n",
      "\n"
     ]
    }
   ],
   "source": [
    "order.filter(col(\"Order_date\") like \"2014-07%\").show()"
   ]
  },
  {
   "cell_type": "code",
   "execution_count": 19,
   "id": "706aba71",
   "metadata": {},
   "outputs": [
    {
     "name": "stdout",
     "output_type": "stream",
     "text": [
      "+---------------+-----+\n",
      "|   Order_status|count|\n",
      "+---------------+-----+\n",
      "|PENDING_PAYMENT|  979|\n",
      "|       COMPLETE| 1419|\n",
      "|        ON_HOLD|  228|\n",
      "| PAYMENT_REVIEW|   54|\n",
      "|     PROCESSING|  561|\n",
      "|         CLOSED|  504|\n",
      "|SUSPECTED_FRAUD|  101|\n",
      "|        PENDING|  517|\n",
      "|       CANCELED|  105|\n",
      "+---------------+-----+\n",
      "\n"
     ]
    }
   ],
   "source": [
    "order.filter(col(\"Order_date\") like \"2014-07%\").groupBy(col(\"Order_status\")).count().show()"
   ]
  },
  {
   "cell_type": "code",
   "execution_count": 51,
   "id": "e72ceb73",
   "metadata": {},
   "outputs": [
    {
     "data": {
      "text/plain": [
       "orderItem = [order_item_id: int, order_item_order_id: int ... 4 more fields]\n"
      ]
     },
     "metadata": {},
     "output_type": "display_data",
     "source": "user"
    },
    {
     "data": {
      "text/plain": [
       "[order_item_id: int, order_item_order_id: int ... 4 more fields]"
      ]
     },
     "execution_count": 51,
     "metadata": {},
     "output_type": "execute_result"
    }
   ],
   "source": [
    "val orderItem=spark.read.schema(\"order_item_id int,order_item_order_id int,order_item_product_id int,order_item_quantity int,order_item_subtotal decimal(17,4),order_item_product_price decimal(17,4)\").csv(\"hdfs://m01.itversity.com:9000/user/itv001389/warehouse/raj.db/order_item_new\")"
   ]
  },
  {
   "cell_type": "code",
   "execution_count": 21,
   "id": "15b8cf24",
   "metadata": {},
   "outputs": [
    {
     "name": "stdout",
     "output_type": "stream",
     "text": [
      "+-------------+-------------------+---------------------+-------------------+-------------------+------------------------+\n",
      "|order_item_id|order_item_order_id|order_item_product_id|order_item_quantity|order_item_subtotal|order_item_product_price|\n",
      "+-------------+-------------------+---------------------+-------------------+-------------------+------------------------+\n",
      "|            1|                  1|                  957|                  1|           299.9800|                299.9800|\n",
      "|            2|                  2|                 1073|                  1|           199.9900|                199.9900|\n",
      "|            3|                  2|                  502|                  5|           250.0000|                 50.0000|\n",
      "|            4|                  2|                  403|                  1|           129.9900|                129.9900|\n",
      "|            5|                  4|                  897|                  2|            49.9800|                 24.9900|\n",
      "|            6|                  4|                  365|                  5|           299.9500|                 59.9900|\n",
      "|            7|                  4|                  502|                  3|           150.0000|                 50.0000|\n",
      "|            8|                  4|                 1014|                  4|           199.9200|                 49.9800|\n",
      "|            9|                  5|                  957|                  1|           299.9800|                299.9800|\n",
      "|           10|                  5|                  365|                  5|           299.9500|                 59.9900|\n",
      "|           11|                  5|                 1014|                  2|            99.9600|                 49.9800|\n",
      "|           12|                  5|                  957|                  1|           299.9800|                299.9800|\n",
      "|           13|                  5|                  403|                  1|           129.9900|                129.9900|\n",
      "|           14|                  7|                 1073|                  1|           199.9900|                199.9900|\n",
      "|           15|                  7|                  957|                  1|           299.9800|                299.9800|\n",
      "|           16|                  7|                  926|                  5|            79.9500|                 15.9900|\n",
      "|           17|                  8|                  365|                  3|           179.9700|                 59.9900|\n",
      "|           18|                  8|                  365|                  5|           299.9500|                 59.9900|\n",
      "|           19|                  8|                 1014|                  4|           199.9200|                 49.9800|\n",
      "|           20|                  8|                  502|                  1|            50.0000|                 50.0000|\n",
      "+-------------+-------------------+---------------------+-------------------+-------------------+------------------------+\n",
      "only showing top 20 rows\n",
      "\n"
     ]
    }
   ],
   "source": [
    "orderItem.show()"
   ]
  },
  {
   "cell_type": "code",
   "execution_count": 24,
   "id": "c5436e57",
   "metadata": {},
   "outputs": [
    {
     "name": "stdout",
     "output_type": "stream",
     "text": [
      "+-------------------+------------------------+\n",
      "|order_item_order_id|sum(order_item_subtotal)|\n",
      "+-------------------+------------------------+\n",
      "|                  1|                299.9800|\n",
      "|                  2|                579.9800|\n",
      "|                  4|                699.8500|\n",
      "|                  5|               1129.8600|\n",
      "|                  7|                579.9200|\n",
      "|                  8|                729.8400|\n",
      "|                  9|                599.9600|\n",
      "|                 10|                651.9200|\n",
      "|                 11|                919.7900|\n",
      "|                 12|               1299.8700|\n",
      "|                 13|                127.9600|\n",
      "|                 14|                549.9400|\n",
      "|                 15|                925.9100|\n",
      "|                 16|                419.9300|\n",
      "|                 17|                694.8400|\n",
      "|                 18|                449.9600|\n",
      "|                 19|                699.9600|\n",
      "|                 20|                879.8600|\n",
      "|                 21|                372.9100|\n",
      "|                 23|                299.9800|\n",
      "+-------------------+------------------------+\n",
      "only showing top 20 rows\n",
      "\n"
     ]
    }
   ],
   "source": [
    "orderItem.groupBy(\"order_item_order_id\").sum(\"order_item_subtotal\").orderBy(\"order_item_order_id\").show()"
   ]
  },
  {
   "cell_type": "code",
   "execution_count": 28,
   "id": "f2c3e3d3",
   "metadata": {},
   "outputs": [
    {
     "name": "stdout",
     "output_type": "stream",
     "text": [
      "+-------------------+-------------+\n",
      "|order_item_order_id|total revenue|\n",
      "+-------------------+-------------+\n",
      "|                  1|       299.98|\n",
      "|                  2|       579.98|\n",
      "|                  4|       699.85|\n",
      "|                  5|      1129.86|\n",
      "|                  7|       579.92|\n",
      "|                  8|       729.84|\n",
      "|                  9|       599.96|\n",
      "|                 10|       651.92|\n",
      "|                 11|       919.79|\n",
      "|                 12|      1299.87|\n",
      "|                 13|       127.96|\n",
      "|                 14|       549.94|\n",
      "|                 15|       925.91|\n",
      "|                 16|       419.93|\n",
      "|                 17|       694.84|\n",
      "|                 18|       449.96|\n",
      "|                 19|       699.96|\n",
      "|                 20|       879.86|\n",
      "|                 21|       372.91|\n",
      "|                 23|       299.98|\n",
      "+-------------------+-------------+\n",
      "only showing top 20 rows\n",
      "\n"
     ]
    }
   ],
   "source": [
    "orderItem.groupBy(\"order_item_order_id\").agg(round(sum(\"order_item_subtotal\"),2) alias \"total revenue\").orderBy(\"order_item_order_id\").show()"
   ]
  },
  {
   "cell_type": "code",
   "execution_count": 52,
   "id": "204e2cd5",
   "metadata": {},
   "outputs": [],
   "source": [
    "order.createTempView(\"orders\")"
   ]
  },
  {
   "cell_type": "code",
   "execution_count": 31,
   "id": "b8f14d16",
   "metadata": {},
   "outputs": [
    {
     "name": "stdout",
     "output_type": "stream",
     "text": [
      "+--------+----------------+-----------+\n",
      "|database|       tableName|isTemporary|\n",
      "+--------+----------------+-----------+\n",
      "|     raj|             dep|      false|\n",
      "|     raj|        dep_join|      false|\n",
      "|     raj|             emp|      false|\n",
      "|     raj|        emp_join|      false|\n",
      "|     raj|        emp_part|      false|\n",
      "|     raj|     emp_raj_par|      false|\n",
      "|     raj|           join1|      false|\n",
      "|     raj|           join2|      false|\n",
      "|     raj|          joins1|      false|\n",
      "|     raj|         joins_1|      false|\n",
      "|     raj|          joins2|      false|\n",
      "|     raj|          joins3|      false|\n",
      "|     raj|      order_immu|      false|\n",
      "|     raj|   orderitem_nor|      false|\n",
      "|     raj|   orderitem_orc|      false|\n",
      "|     raj|   orderitem_par|      false|\n",
      "|     raj|     order_items|      false|\n",
      "|     raj|order_items_part|      false|\n",
      "|     raj|        order_oi|      false|\n",
      "|     raj|   order_oi_cast|      false|\n",
      "+--------+----------------+-----------+\n",
      "only showing top 20 rows\n",
      "\n"
     ]
    }
   ],
   "source": [
    "spark.sql(\"show tables\").show()"
   ]
  },
  {
   "cell_type": "code",
   "execution_count": 37,
   "id": "5977ab58",
   "metadata": {},
   "outputs": [
    {
     "name": "stdout",
     "output_type": "stream",
     "text": [
      "+--------+-------------------+----------------+---------------+\n",
      "|order_id|         Order_date|Order_product_id|   Order_status|\n",
      "+--------+-------------------+----------------+---------------+\n",
      "|   54004|2014-07-01 00:00:00|            7079|       COMPLETE|\n",
      "|   54005|2014-07-01 00:00:00|            3867|PENDING_PAYMENT|\n",
      "|   54006|2014-07-01 00:00:00|            6547|PENDING_PAYMENT|\n",
      "|   54007|2014-07-01 00:00:00|           11772|         CLOSED|\n",
      "|   54008|2014-07-01 00:00:00|           10453|PENDING_PAYMENT|\n",
      "|   54009|2014-07-01 00:00:00|            3971|       COMPLETE|\n",
      "|   54010|2014-07-01 00:00:00|            4812|       COMPLETE|\n",
      "|   54011|2014-07-01 00:00:00|            3933|        PENDING|\n",
      "|   54012|2014-07-01 00:00:00|           10070|        PENDING|\n",
      "|   54013|2014-07-01 00:00:00|            3021|        PENDING|\n",
      "|   54014|2014-07-01 00:00:00|            3666|       CANCELED|\n",
      "|   54015|2014-07-01 00:00:00|           11402|       COMPLETE|\n",
      "|   54016|2014-07-01 00:00:00|           11211|       COMPLETE|\n",
      "|   54017|2014-07-01 00:00:00|            6267|       COMPLETE|\n",
      "|   54018|2014-07-01 00:00:00|            4034|         CLOSED|\n",
      "|   54019|2014-07-01 00:00:00|            3264|SUSPECTED_FRAUD|\n",
      "|   54020|2014-07-01 00:00:00|            3175|         CLOSED|\n",
      "|   54021|2014-07-01 00:00:00|            8888|PENDING_PAYMENT|\n",
      "|   54022|2014-07-01 00:00:00|             445|SUSPECTED_FRAUD|\n",
      "|   54023|2014-07-01 00:00:00|            1666|SUSPECTED_FRAUD|\n",
      "+--------+-------------------+----------------+---------------+\n",
      "only showing top 20 rows\n",
      "\n"
     ]
    }
   ],
   "source": [
    "spark.sql(\"select * from orders where Order_date like '2014-07%' \").show()"
   ]
  },
  {
   "cell_type": "code",
   "execution_count": 53,
   "id": "5757d11d",
   "metadata": {},
   "outputs": [
    {
     "name": "stdout",
     "output_type": "stream",
     "text": [
      "+---------------+--------+\n",
      "|   Order_status|count(1)|\n",
      "+---------------+--------+\n",
      "|PENDING_PAYMENT|    1334|\n",
      "|       COMPLETE|    1911|\n",
      "|        ON_HOLD|     365|\n",
      "| PAYMENT_REVIEW|      77|\n",
      "|     PROCESSING|     712|\n",
      "|         CLOSED|     633|\n",
      "|SUSPECTED_FRAUD|     131|\n",
      "|        PENDING|     635|\n",
      "|       CANCELED|     110|\n",
      "+---------------+--------+\n",
      "\n"
     ]
    }
   ],
   "source": [
    "spark.sql(\"select Order_status,count(1) from orders where Order_date like '2014-01%' group by Order_status\").show()"
   ]
  },
  {
   "cell_type": "code",
   "execution_count": 55,
   "id": "ef2ce5c7",
   "metadata": {},
   "outputs": [],
   "source": [
    "orderItem.createTempView(\"orderitem\")"
   ]
  },
  {
   "cell_type": "code",
   "execution_count": 56,
   "id": "91ab4b8c",
   "metadata": {},
   "outputs": [
    {
     "name": "stdout",
     "output_type": "stream",
     "text": [
      "+-------------+-------------------+---------------------+-------------------+-------------------+------------------------+\n",
      "|order_item_id|order_item_order_id|order_item_product_id|order_item_quantity|order_item_subtotal|order_item_product_price|\n",
      "+-------------+-------------------+---------------------+-------------------+-------------------+------------------------+\n",
      "|            1|                  1|                  957|                  1|           299.9800|                299.9800|\n",
      "|            2|                  2|                 1073|                  1|           199.9900|                199.9900|\n",
      "|            3|                  2|                  502|                  5|           250.0000|                 50.0000|\n",
      "|            4|                  2|                  403|                  1|           129.9900|                129.9900|\n",
      "|            5|                  4|                  897|                  2|            49.9800|                 24.9900|\n",
      "|            6|                  4|                  365|                  5|           299.9500|                 59.9900|\n",
      "|            7|                  4|                  502|                  3|           150.0000|                 50.0000|\n",
      "|            8|                  4|                 1014|                  4|           199.9200|                 49.9800|\n",
      "|            9|                  5|                  957|                  1|           299.9800|                299.9800|\n",
      "|           10|                  5|                  365|                  5|           299.9500|                 59.9900|\n",
      "|           11|                  5|                 1014|                  2|            99.9600|                 49.9800|\n",
      "|           12|                  5|                  957|                  1|           299.9800|                299.9800|\n",
      "|           13|                  5|                  403|                  1|           129.9900|                129.9900|\n",
      "|           14|                  7|                 1073|                  1|           199.9900|                199.9900|\n",
      "|           15|                  7|                  957|                  1|           299.9800|                299.9800|\n",
      "|           16|                  7|                  926|                  5|            79.9500|                 15.9900|\n",
      "|           17|                  8|                  365|                  3|           179.9700|                 59.9900|\n",
      "|           18|                  8|                  365|                  5|           299.9500|                 59.9900|\n",
      "|           19|                  8|                 1014|                  4|           199.9200|                 49.9800|\n",
      "|           20|                  8|                  502|                  1|            50.0000|                 50.0000|\n",
      "+-------------+-------------------+---------------------+-------------------+-------------------+------------------------+\n",
      "only showing top 20 rows\n",
      "\n"
     ]
    }
   ],
   "source": [
    "spark.sql(\"select * from orderitem\").show()"
   ]
  },
  {
   "cell_type": "code",
   "execution_count": 63,
   "id": "74e567ca",
   "metadata": {},
   "outputs": [
    {
     "name": "stdout",
     "output_type": "stream",
     "text": [
      "+-------------------+----------------------------------+\n",
      "|order_item_order_id|round(sum(order_item_subtotal), 2)|\n",
      "+-------------------+----------------------------------+\n",
      "|                  1|                            299.98|\n",
      "|                  2|                            579.98|\n",
      "|                  4|                            699.85|\n",
      "|                  5|                           1129.86|\n",
      "|                  7|                            579.92|\n",
      "|                  8|                            729.84|\n",
      "|                  9|                            599.96|\n",
      "|                 10|                            651.92|\n",
      "|                 11|                            919.79|\n",
      "|                 12|                           1299.87|\n",
      "|                 13|                            127.96|\n",
      "|                 14|                            549.94|\n",
      "|                 15|                            925.91|\n",
      "|                 16|                            419.93|\n",
      "|                 17|                            694.84|\n",
      "|                 18|                            449.96|\n",
      "|                 19|                            699.96|\n",
      "|                 20|                            879.86|\n",
      "|                 21|                            372.91|\n",
      "|                 23|                            299.98|\n",
      "+-------------------+----------------------------------+\n",
      "only showing top 20 rows\n",
      "\n"
     ]
    }
   ],
   "source": [
    "spark.sql(\"select order_item_order_id,round(sum(order_item_subtotal),2) from orderitem group by order_item_order_id order by order_item_order_id\").show()"
   ]
  },
  {
   "cell_type": "code",
   "execution_count": 66,
   "id": "b94edcd5",
   "metadata": {},
   "outputs": [
    {
     "data": {
      "text/plain": [
       "lastException: Throwable = null\n"
      ]
     },
     "metadata": {},
     "output_type": "display_data",
     "source": "user"
    }
   ],
   "source": [
    "orderItem.write.saveAsTable(\"OrderItems\")"
   ]
  },
  {
   "cell_type": "code",
   "execution_count": null,
   "id": "73d842d9",
   "metadata": {},
   "outputs": [],
   "source": []
  }
 ],
 "metadata": {
  "kernelspec": {
   "display_name": "Spark 2 - Scala",
   "language": "scala",
   "name": "spark_2_scala"
  },
  "language_info": {
   "codemirror_mode": "text/x-scala",
   "file_extension": ".scala",
   "mimetype": "text/x-scala",
   "name": "scala",
   "pygments_lexer": "scala",
   "version": "2.11.12"
  }
 },
 "nbformat": 4,
 "nbformat_minor": 5
}
