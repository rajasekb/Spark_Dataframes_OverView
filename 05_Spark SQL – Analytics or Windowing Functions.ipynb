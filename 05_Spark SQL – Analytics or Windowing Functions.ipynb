{
 "cells": [
  {
   "cell_type": "code",
   "execution_count": 31,
   "id": "cd281acf",
   "metadata": {},
   "outputs": [
    {
     "data": {
      "text/plain": [
       "lastException: Throwable = null\n"
      ]
     },
     "metadata": {},
     "output_type": "display_data",
     "source": "user"
    }
   ],
   "source": [
    "import org.apache.spark.sql.SparkSession"
   ]
  },
  {
   "cell_type": "code",
   "execution_count": 32,
   "id": "f0a160fb",
   "metadata": {},
   "outputs": [
    {
     "data": {
      "text/plain": [
       "spark = org.apache.spark.sql.SparkSession@37c670fc\n"
      ]
     },
     "metadata": {},
     "output_type": "display_data",
     "source": "user"
    },
    {
     "data": {
      "text/plain": [
       "org.apache.spark.sql.SparkSession@37c670fc"
      ]
     },
     "execution_count": 32,
     "metadata": {},
     "output_type": "execute_result"
    }
   ],
   "source": [
    "val spark = SparkSession.\n",
    "    builder.\n",
    "    config(\"spark.ui.port\", \"0\").\n",
    "    config(\"spark.sql.warehouse.dir\", \"/user/itv001389/warehouse\").\n",
    "    enableHiveSupport.\n",
    "    master(\"yarn\").\n",
    "    appName(\"Getting Started - Spark with Scala\").\n",
    "    getOrCreate"
   ]
  },
  {
   "cell_type": "code",
   "execution_count": 33,
   "id": "af2b3614",
   "metadata": {},
   "outputs": [
    {
     "data": {
      "text/plain": [
       "[]"
      ]
     },
     "execution_count": 33,
     "metadata": {},
     "output_type": "execute_result"
    }
   ],
   "source": [
    "spark.sql(\"use raj\")"
   ]
  },
  {
   "cell_type": "code",
   "execution_count": 4,
   "id": "1253b33d",
   "metadata": {},
   "outputs": [
    {
     "data": {
      "text/plain": [
       "df = [order_item_id: int, order_item_order_id: int ... 4 more fields]\n"
      ]
     },
     "metadata": {},
     "output_type": "display_data",
     "source": "user"
    },
    {
     "data": {
      "text/plain": [
       "[order_item_id: int, order_item_order_id: int ... 4 more fields]"
      ]
     },
     "execution_count": 4,
     "metadata": {},
     "output_type": "execute_result"
    }
   ],
   "source": [
    "val df=spark.read.schema(\"order_item_id int,order_item_order_id int,order_item_product_id int,order_item_quantity int,order_item_subtotal decimal(17,4),order_item_product_price decimal(17,4)\").csv(\"hdfs://m01.itversity.com:9000/user/itv001389/warehouse/raj.db/order_item_new\")"
   ]
  },
  {
   "cell_type": "code",
   "execution_count": 10,
   "id": "40928007",
   "metadata": {},
   "outputs": [
    {
     "name": "stdout",
     "output_type": "stream",
     "text": [
      "+-------------+-------------------+---------------------+-------------------+-------------------+------------------------+\n",
      "|order_item_id|order_item_order_id|order_item_product_id|order_item_quantity|order_item_subtotal|order_item_product_price|\n",
      "+-------------+-------------------+---------------------+-------------------+-------------------+------------------------+\n",
      "|            1|                  1|                  957|                  1|           299.9800|                299.9800|\n",
      "|            2|                  2|                 1073|                  1|           199.9900|                199.9900|\n",
      "|            3|                  2|                  502|                  5|           250.0000|                 50.0000|\n",
      "|            4|                  2|                  403|                  1|           129.9900|                129.9900|\n",
      "|            5|                  4|                  897|                  2|            49.9800|                 24.9900|\n",
      "|            6|                  4|                  365|                  5|           299.9500|                 59.9900|\n",
      "|            7|                  4|                  502|                  3|           150.0000|                 50.0000|\n",
      "|            8|                  4|                 1014|                  4|           199.9200|                 49.9800|\n",
      "|            9|                  5|                  957|                  1|           299.9800|                299.9800|\n",
      "|           10|                  5|                  365|                  5|           299.9500|                 59.9900|\n",
      "|           11|                  5|                 1014|                  2|            99.9600|                 49.9800|\n",
      "|           12|                  5|                  957|                  1|           299.9800|                299.9800|\n",
      "|           13|                  5|                  403|                  1|           129.9900|                129.9900|\n",
      "|           14|                  7|                 1073|                  1|           199.9900|                199.9900|\n",
      "|           15|                  7|                  957|                  1|           299.9800|                299.9800|\n",
      "|           16|                  7|                  926|                  5|            79.9500|                 15.9900|\n",
      "|           17|                  8|                  365|                  3|           179.9700|                 59.9900|\n",
      "|           18|                  8|                  365|                  5|           299.9500|                 59.9900|\n",
      "|           19|                  8|                 1014|                  4|           199.9200|                 49.9800|\n",
      "|           20|                  8|                  502|                  1|            50.0000|                 50.0000|\n",
      "+-------------+-------------------+---------------------+-------------------+-------------------+------------------------+\n",
      "only showing top 20 rows\n",
      "\n"
     ]
    }
   ],
   "source": [
    "df.show()"
   ]
  },
  {
   "cell_type": "code",
   "execution_count": 5,
   "id": "429a8c00",
   "metadata": {},
   "outputs": [],
   "source": [
    "df.createOrReplaceTempView(\"orderItem\")"
   ]
  },
  {
   "cell_type": "code",
   "execution_count": 12,
   "id": "c4163197",
   "metadata": {},
   "outputs": [
    {
     "name": "stdout",
     "output_type": "stream",
     "text": [
      "+-------------+-------------------+---------------------+-------------------+-------------------+------------------------+\n",
      "|order_item_id|order_item_order_id|order_item_product_id|order_item_quantity|order_item_subtotal|order_item_product_price|\n",
      "+-------------+-------------------+---------------------+-------------------+-------------------+------------------------+\n",
      "|            1|                  1|                  957|                  1|           299.9800|                299.9800|\n",
      "|            2|                  2|                 1073|                  1|           199.9900|                199.9900|\n",
      "|            3|                  2|                  502|                  5|           250.0000|                 50.0000|\n",
      "|            4|                  2|                  403|                  1|           129.9900|                129.9900|\n",
      "|            5|                  4|                  897|                  2|            49.9800|                 24.9900|\n",
      "|            6|                  4|                  365|                  5|           299.9500|                 59.9900|\n",
      "|            7|                  4|                  502|                  3|           150.0000|                 50.0000|\n",
      "|            8|                  4|                 1014|                  4|           199.9200|                 49.9800|\n",
      "|            9|                  5|                  957|                  1|           299.9800|                299.9800|\n",
      "|           10|                  5|                  365|                  5|           299.9500|                 59.9900|\n",
      "+-------------+-------------------+---------------------+-------------------+-------------------+------------------------+\n",
      "\n"
     ]
    }
   ],
   "source": [
    "spark.sql(\"select * from orderItem limit 10\").show()"
   ]
  },
  {
   "cell_type": "code",
   "execution_count": 17,
   "id": "ed5b3d31",
   "metadata": {},
   "outputs": [
    {
     "name": "stdout",
     "output_type": "stream",
     "text": [
      "+-------------+-------------------+-------------------+---------+\n",
      "|order_item_id|order_item_order_id|order_item_subtotal|      rev|\n",
      "+-------------+-------------------+-------------------+---------+\n",
      "|            1|                  1|           299.9800| 299.9800|\n",
      "|            2|                  2|           199.9900| 579.9800|\n",
      "|            3|                  2|           250.0000| 579.9800|\n",
      "|            4|                  2|           129.9900| 579.9800|\n",
      "|            5|                  4|            49.9800| 699.8500|\n",
      "|            6|                  4|           299.9500| 699.8500|\n",
      "|            7|                  4|           150.0000| 699.8500|\n",
      "|            8|                  4|           199.9200| 699.8500|\n",
      "|            9|                  5|           299.9800|1129.8600|\n",
      "|           10|                  5|           299.9500|1129.8600|\n",
      "|           11|                  5|            99.9600|1129.8600|\n",
      "|           12|                  5|           299.9800|1129.8600|\n",
      "|           13|                  5|           129.9900|1129.8600|\n",
      "|           14|                  7|           199.9900| 579.9200|\n",
      "|           15|                  7|           299.9800| 579.9200|\n",
      "|           16|                  7|            79.9500| 579.9200|\n",
      "|           17|                  8|           179.9700| 729.8400|\n",
      "|           18|                  8|           299.9500| 729.8400|\n",
      "|           19|                  8|           199.9200| 729.8400|\n",
      "|           20|                  8|            50.0000| 729.8400|\n",
      "+-------------+-------------------+-------------------+---------+\n",
      "only showing top 20 rows\n",
      "\n"
     ]
    }
   ],
   "source": [
    "spark.sql(\"select order_item_id,order_item_order_id,order_item_subtotal,sum(order_item_subtotal) over (partition by order_item_order_id) rev from orderItem order by order_item_order_id,order_item_id\").show()"
   ]
  },
  {
   "cell_type": "code",
   "execution_count": 6,
   "id": "013348f6",
   "metadata": {},
   "outputs": [],
   "source": [
    "spark.conf.set(\"spark.sql.shuffle.partitions\",\"2\")"
   ]
  },
  {
   "cell_type": "code",
   "execution_count": 7,
   "id": "d8eb83ce",
   "metadata": {},
   "outputs": [
    {
     "data": {
      "text/plain": [
       "df1 = [order_id: int, Order_date: timestamp ... 2 more fields]\n"
      ]
     },
     "metadata": {},
     "output_type": "display_data",
     "source": "user"
    },
    {
     "data": {
      "text/plain": [
       "[order_id: int, Order_date: timestamp ... 2 more fields]"
      ]
     },
     "execution_count": 7,
     "metadata": {},
     "output_type": "execute_result"
    }
   ],
   "source": [
    "val df1=spark.read.parquet(\"hdfs://m01.itversity.com:9000/user/itv001389/warehouse/raj.db/orders/part-00000-6502fdf1-89f6-48b4-ae4c-6c0376ab98ce-c000.snappy.parquet\")"
   ]
  },
  {
   "cell_type": "code",
   "execution_count": 8,
   "id": "b25c71bd",
   "metadata": {},
   "outputs": [],
   "source": [
    "df1.createOrReplaceTempView(\"order\")"
   ]
  },
  {
   "cell_type": "code",
   "execution_count": 21,
   "id": "849485da",
   "metadata": {},
   "outputs": [
    {
     "name": "stdout",
     "output_type": "stream",
     "text": [
      "+--------+-------------------+----------------+---------------+\n",
      "|order_id|         Order_date|Order_product_id|   Order_status|\n",
      "+--------+-------------------+----------------+---------------+\n",
      "|       1|2013-07-25 00:00:00|           11599|         CLOSED|\n",
      "|       2|2013-07-25 00:00:00|             256|PENDING_PAYMENT|\n",
      "|       3|2013-07-25 00:00:00|           12111|       COMPLETE|\n",
      "|       4|2013-07-25 00:00:00|            8827|         CLOSED|\n",
      "|       5|2013-07-25 00:00:00|           11318|       COMPLETE|\n",
      "|       6|2013-07-25 00:00:00|            7130|       COMPLETE|\n",
      "|       7|2013-07-25 00:00:00|            4530|       COMPLETE|\n",
      "|       8|2013-07-25 00:00:00|            2911|     PROCESSING|\n",
      "|       9|2013-07-25 00:00:00|            5657|PENDING_PAYMENT|\n",
      "|      10|2013-07-25 00:00:00|            5648|PENDING_PAYMENT|\n",
      "+--------+-------------------+----------------+---------------+\n",
      "\n"
     ]
    }
   ],
   "source": [
    "spark.sql(\"select * from order limit 10\").show()"
   ]
  },
  {
   "cell_type": "code",
   "execution_count": 26,
   "id": "c87f3f3a",
   "metadata": {},
   "outputs": [
    {
     "name": "stdout",
     "output_type": "stream",
     "text": [
      "+-------------------+---------------------+---------+\n",
      "|         Order_date|order_item_product_id|      rev|\n",
      "+-------------------+---------------------+---------+\n",
      "|2013-07-25 00:00:00|                   24| 319.9600|\n",
      "|2013-07-25 00:00:00|                   93|  74.9700|\n",
      "|2013-07-25 00:00:00|                  134| 100.0000|\n",
      "|2013-07-25 00:00:00|                  191|5099.4900|\n",
      "|2013-07-25 00:00:00|                  226| 599.9900|\n",
      "|2013-07-25 00:00:00|                  365|3359.4400|\n",
      "|2013-07-25 00:00:00|                  403|1949.8500|\n",
      "|2013-07-25 00:00:00|                  502|1650.0000|\n",
      "|2013-07-25 00:00:00|                  572| 119.9700|\n",
      "|2013-07-25 00:00:00|                  625| 199.9900|\n",
      "|2013-07-25 00:00:00|                  627|1079.7300|\n",
      "|2013-07-25 00:00:00|                  666| 109.9900|\n",
      "|2013-07-25 00:00:00|                  705| 119.9900|\n",
      "|2013-07-25 00:00:00|                  725| 108.0000|\n",
      "|2013-07-25 00:00:00|                  810|  79.9600|\n",
      "|2013-07-25 00:00:00|                  821| 207.9600|\n",
      "|2013-07-25 00:00:00|                  828|  95.9700|\n",
      "|2013-07-25 00:00:00|                  835|  63.9800|\n",
      "|2013-07-25 00:00:00|                  897|  49.9800|\n",
      "|2013-07-25 00:00:00|                  906|  99.9600|\n",
      "+-------------------+---------------------+---------+\n",
      "only showing top 20 rows\n",
      "\n"
     ]
    }
   ],
   "source": [
    "spark.sql(\"select o.Order_date,oi.order_item_product_id,sum(oi.order_item_subtotal) rev from order o join orderItem oi on o.Order_id=oi.order_item_order_id where Order_status in ('COMPLETE','CLOSED') group by Order_date,order_item_product_id order by Order_date,order_item_product_id\").show()"
   ]
  },
  {
   "cell_type": "code",
   "execution_count": 27,
   "id": "6135265f",
   "metadata": {},
   "outputs": [
    {
     "name": "stdout",
     "output_type": "stream",
     "text": [
      "+-------------------+---------------------+----------+\n",
      "|         Order_date|order_item_product_id|       rev|\n",
      "+-------------------+---------------------+----------+\n",
      "|2013-12-10 00:00:00|                  191| 4699.5300|\n",
      "|2013-12-10 00:00:00|                  502| 2750.0000|\n",
      "|2013-12-11 00:00:00|                 1004|14799.2600|\n",
      "|2013-12-11 00:00:00|                  502| 2950.0000|\n",
      "|2013-12-12 00:00:00|                  957| 4499.7000|\n",
      "|2013-12-12 00:00:00|                 1004| 8399.5800|\n",
      "|2013-12-12 00:00:00|                  191| 3299.6700|\n",
      "|2013-12-12 00:00:00|                  403| 2339.8200|\n",
      "|2013-12-12 00:00:00|                  365| 3479.4200|\n",
      "|2013-12-12 00:00:00|                  627| 1159.7100|\n",
      "|2013-12-13 00:00:00|                  502| 2950.0000|\n",
      "|2013-12-13 00:00:00|                  365| 2879.5200|\n",
      "|2013-12-14 00:00:00|                  365| 3119.4800|\n",
      "|2013-12-14 00:00:00|                  502| 2050.0000|\n",
      "|2013-12-14 00:00:00|                 1073| 2399.8800|\n",
      "|2013-12-14 00:00:00|                 1004| 5199.7400|\n",
      "|2013-12-15 00:00:00|                 1014| 3748.5000|\n",
      "|2013-12-15 00:00:00|                  403| 4809.6300|\n",
      "|2013-12-15 00:00:00|                  191| 5899.4100|\n",
      "|2013-12-15 00:00:00|                  365| 7558.7400|\n",
      "+-------------------+---------------------+----------+\n",
      "only showing top 20 rows\n",
      "\n"
     ]
    }
   ],
   "source": [
    "spark.sql(\"select o.Order_date,oi.order_item_product_id,sum(oi.order_item_subtotal) rev from order o join orderItem oi on o.Order_id=oi.order_item_order_id where Order_status in ('COMPLETE','CLOSED') group by Order_date,order_item_product_id having rev>=1000\").show()"
   ]
  },
  {
   "cell_type": "code",
   "execution_count": 29,
   "id": "cf6e8fe1",
   "metadata": {},
   "outputs": [
    {
     "name": "stdout",
     "output_type": "stream",
     "text": [
      "+-------------------+---------------------+----------+\n",
      "|         Order_date|order_item_product_id|       rev|\n",
      "+-------------------+---------------------+----------+\n",
      "|2013-12-10 00:00:00|                  191| 4699.5300|\n",
      "|2013-12-10 00:00:00|                  502| 2750.0000|\n",
      "|2013-12-11 00:00:00|                 1004|14799.2600|\n",
      "|2013-12-11 00:00:00|                  502| 2950.0000|\n",
      "|2013-12-12 00:00:00|                  957| 4499.7000|\n",
      "|2013-12-12 00:00:00|                 1004| 8399.5800|\n",
      "|2013-12-12 00:00:00|                  191| 3299.6700|\n",
      "|2013-12-12 00:00:00|                  403| 2339.8200|\n",
      "|2013-12-12 00:00:00|                  365| 3479.4200|\n",
      "|2013-12-12 00:00:00|                  627| 1159.7100|\n",
      "|2013-12-13 00:00:00|                  502| 2950.0000|\n",
      "|2013-12-13 00:00:00|                  365| 2879.5200|\n",
      "|2013-12-14 00:00:00|                  365| 3119.4800|\n",
      "|2013-12-14 00:00:00|                  502| 2050.0000|\n",
      "|2013-12-14 00:00:00|                 1073| 2399.8800|\n",
      "|2013-12-14 00:00:00|                 1004| 5199.7400|\n",
      "|2013-12-15 00:00:00|                 1014| 3748.5000|\n",
      "|2013-12-15 00:00:00|                  403| 4809.6300|\n",
      "|2013-12-15 00:00:00|                  191| 5899.4100|\n",
      "|2013-12-15 00:00:00|                  365| 7558.7400|\n",
      "+-------------------+---------------------+----------+\n",
      "only showing top 20 rows\n",
      "\n"
     ]
    },
    {
     "data": {
      "text/plain": [
       "lastException: Throwable = null\n"
      ]
     },
     "metadata": {},
     "output_type": "display_data",
     "source": "user"
    }
   ],
   "source": [
    "spark.sql(\"select * from (select o.Order_date,oi.order_item_product_id,sum(oi.order_item_subtotal) rev from order o join orderItem oi on o.Order_id=oi.order_item_order_id where Order_status in ('COMPLETE','CLOSED') group by Order_date,order_item_product_id) q where rev>=1000\").show()"
   ]
  },
  {
   "cell_type": "code",
   "execution_count": 38,
   "id": "5a0022ed",
   "metadata": {},
   "outputs": [
    {
     "name": "stdout",
     "output_type": "stream",
     "text": [
      "+-------------------+---------------------+---------+\n",
      "|         Order_date|order_item_product_id|      rev|\n",
      "+-------------------+---------------------+---------+\n",
      "|2013-08-16 00:00:00|                  365|3719.3800|\n",
      "|2013-09-21 00:00:00|                  403|2469.8100|\n",
      "|2013-09-28 00:00:00|                 1014|3748.5000|\n",
      "|2013-12-24 00:00:00|                  957|4799.6800|\n",
      "|2014-02-25 00:00:00|                  957|8099.4600|\n",
      "|2014-04-18 00:00:00|                 1073|5199.7400|\n",
      "|2014-04-30 00:00:00|                  191|2199.7800|\n",
      "|2014-05-25 00:00:00|                 1004|5199.7400|\n",
      "|2014-06-24 00:00:00|                  957|2999.8000|\n",
      "|2014-06-29 00:00:00|                  502|2650.0000|\n",
      "|2013-07-29 00:00:00|                  502|5650.0000|\n",
      "|2013-09-03 00:00:00|                  365|4379.2700|\n",
      "|2013-09-08 00:00:00|                  502|5150.0000|\n",
      "|2013-09-08 00:00:00|                  191|3999.6000|\n",
      "|2013-10-17 00:00:00|                 1073|2799.8600|\n",
      "|2013-11-11 00:00:00|                  191|6199.3800|\n",
      "|2013-12-01 00:00:00|                  191|3599.6400|\n",
      "|2013-12-04 00:00:00|                  191|3299.6700|\n",
      "|2014-01-04 00:00:00|                  627|1599.6000|\n",
      "|2014-01-07 00:00:00|                 1004|6399.6800|\n",
      "+-------------------+---------------------+---------+\n",
      "only showing top 20 rows\n",
      "\n"
     ]
    }
   ],
   "source": [
    "spark.sql(\"select o.Order_date,oi.order_item_product_id,sum(oi.order_item_subtotal) rev from order o join orderItem oi on o.Order_id=oi.order_item_order_id where Order_status in ('COMPLETE','CLOSED') group by Order_date,order_item_product_id having sum(oi.order_item_subtotal)>=1000\").show()"
   ]
  },
  {
   "cell_type": "code",
   "execution_count": 34,
   "id": "d65ce096",
   "metadata": {},
   "outputs": [
    {
     "data": {
      "text/plain": [
       "df2 = [EMPNO: int, ENAME: string ... 6 more fields]\n"
      ]
     },
     "metadata": {},
     "output_type": "display_data",
     "source": "user"
    },
    {
     "data": {
      "text/plain": [
       "[EMPNO: int, ENAME: string ... 6 more fields]"
      ]
     },
     "execution_count": 34,
     "metadata": {},
     "output_type": "execute_result"
    }
   ],
   "source": [
    "val df2=spark.read.parquet(\"hdfs://m01.itversity.com:9000/user/itv001389/warehouse/raj.db/emp_join\")"
   ]
  },
  {
   "cell_type": "code",
   "execution_count": 40,
   "id": "4b21bd57",
   "metadata": {},
   "outputs": [
    {
     "name": "stdout",
     "output_type": "stream",
     "text": [
      "+-----+------+---------+----+----------+----+----+------+\n",
      "|EMPNO| ENAME|      JOB| MGR|  HIREDATE| SAL|COMM|DEPTNO|\n",
      "+-----+------+---------+----+----------+----+----+------+\n",
      "| 7839|  KING|PRESIDENT|null|1981-11-17|5000|null|    10|\n",
      "| 7698| BLAKE|  MANAGER|7839|1981-05-01|2850|null|    30|\n",
      "| 7782| CLARK|  MANAGER|7839|1981-06-09|2450|null|    10|\n",
      "| 7566| JONES|  MANAGER|7839|1981-04-02|2975|null|    20|\n",
      "| 7788| SCOTT|  ANALYST|7566|1987-04-19|3000|null|    20|\n",
      "| 7902|  FORD|  ANALYST|7566|1981-12-03|3000|null|    20|\n",
      "| 7369| SMITH|    CLERK|7902|1980-12-17| 800|null|    20|\n",
      "| 7499| ALLEN| SALESMAN|7698|1981-02-20|1600| 300|    30|\n",
      "| 7521|  WARD| SALESMAN|7698|1981-02-22|1250| 500|    30|\n",
      "| 7654|MARTIN| SALESMAN|7698|1981-09-28|1250|1400|    30|\n",
      "| 7844|TURNER| SALESMAN|7698|1981-09-08|1500|   0|    30|\n",
      "| 7876| ADAMS|    CLERK|7788|1987-05-23|1100|null|    20|\n",
      "| 7900| JAMES|    CLERK|7698|1981-12-03| 950|null|    30|\n",
      "| 7934|MILLER|    CLERK|7782|1982-01-23|1300|null|    10|\n",
      "+-----+------+---------+----+----------+----+----+------+\n",
      "\n"
     ]
    }
   ],
   "source": [
    "df2.show()"
   ]
  },
  {
   "cell_type": "code",
   "execution_count": 35,
   "id": "83dbf86d",
   "metadata": {},
   "outputs": [],
   "source": [
    "df2.createOrReplaceTempView(\"emp\")"
   ]
  },
  {
   "cell_type": "code",
   "execution_count": 7,
   "id": "61133d2c",
   "metadata": {},
   "outputs": [
    {
     "data": {
      "text/plain": [
       "df3 = [DEPTNO: int, DNAME: string ... 1 more field]\n"
      ]
     },
     "metadata": {},
     "output_type": "display_data",
     "source": "user"
    },
    {
     "data": {
      "text/plain": [
       "[DEPTNO: int, DNAME: string ... 1 more field]"
      ]
     },
     "execution_count": 7,
     "metadata": {},
     "output_type": "execute_result"
    }
   ],
   "source": [
    "val df3=spark.read.parquet(\"hdfs://m01.itversity.com:9000/user/itv001389/warehouse/raj.db/dep_join\")"
   ]
  },
  {
   "cell_type": "code",
   "execution_count": 11,
   "id": "755cde81",
   "metadata": {},
   "outputs": [
    {
     "name": "stdout",
     "output_type": "stream",
     "text": [
      "+------+----------+--------+\n",
      "|DEPTNO|     DNAME|     LOC|\n",
      "+------+----------+--------+\n",
      "|    10|ACCOUNTING|NEW YORK|\n",
      "|    20|  RESEARCH|  DALLAS|\n",
      "|    30|     SALES| CHICAGO|\n",
      "|    40|OPERATIONS|  BOSTON|\n",
      "+------+----------+--------+\n",
      "\n"
     ]
    }
   ],
   "source": [
    "df3.show()"
   ]
  },
  {
   "cell_type": "code",
   "execution_count": 8,
   "id": "aa852b69",
   "metadata": {},
   "outputs": [],
   "source": [
    "df3.createOrReplaceTempView(\"dept\")"
   ]
  },
  {
   "cell_type": "code",
   "execution_count": 10,
   "id": "cf49b098",
   "metadata": {},
   "outputs": [
    {
     "name": "stdout",
     "output_type": "stream",
     "text": [
      "+------+--------+\n",
      "|DEPTNO|sum(SAL)|\n",
      "+------+--------+\n",
      "|    20|   10875|\n",
      "|    10|    8750|\n",
      "|    30|    9400|\n",
      "+------+--------+\n",
      "\n"
     ]
    }
   ],
   "source": [
    "spark.sql(\"select DEPTNO,sum(SAL) from emp  group by DEPTNO\").show()"
   ]
  },
  {
   "cell_type": "code",
   "execution_count": 21,
   "id": "623f115b",
   "metadata": {},
   "outputs": [
    {
     "name": "stdout",
     "output_type": "stream",
     "text": [
      "+-----+------+----+---------+\n",
      "|EMPNO|DEPTNO| SAL|total_sal|\n",
      "+-----+------+----+---------+\n",
      "| 7934|    10|1300|     8750|\n",
      "| 7782|    10|2450|     8750|\n",
      "| 7839|    10|5000|     8750|\n",
      "| 7369|    20| 800|    10875|\n",
      "| 7876|    20|1100|    10875|\n",
      "| 7566|    20|2975|    10875|\n",
      "| 7902|    20|3000|    10875|\n",
      "| 7788|    20|3000|    10875|\n",
      "| 7900|    30| 950|     9400|\n",
      "| 7521|    30|1250|     9400|\n",
      "| 7654|    30|1250|     9400|\n",
      "| 7844|    30|1500|     9400|\n",
      "| 7499|    30|1600|     9400|\n",
      "| 7698|    30|2850|     9400|\n",
      "+-----+------+----+---------+\n",
      "\n"
     ]
    },
    {
     "data": {
      "text/plain": [
       "lastException: Throwable = null\n"
      ]
     },
     "metadata": {},
     "output_type": "display_data",
     "source": "user"
    }
   ],
   "source": [
    "spark.sql(\"select EMPNO,DEPTNO,SAL,sum(SAL) over (partition by DEPTNO) total_sal from emp order by DEPTNO,SAL\").show()"
   ]
  },
  {
   "cell_type": "code",
   "execution_count": 26,
   "id": "bcea95b3",
   "metadata": {},
   "outputs": [
    {
     "name": "stdout",
     "output_type": "stream",
     "text": [
      "+-----+------+----+------------------+\n",
      "|EMPNO|DEPTNO| SAL|           avg_sal|\n",
      "+-----+------+----+------------------+\n",
      "| 7839|    10|5000|2916.6666666666665|\n",
      "| 7566|    20|2975|            2175.0|\n",
      "| 7788|    20|3000|            2175.0|\n",
      "| 7902|    20|3000|            2175.0|\n",
      "| 7499|    30|1600|1566.6666666666667|\n",
      "| 7698|    30|2850|1566.6666666666667|\n",
      "+-----+------+----+------------------+\n",
      "\n"
     ]
    }
   ],
   "source": [
    "spark.sql(\"select * from (select EMPNO,DEPTNO,SAL,avg(SAL) over (partition by DEPTNO) avg_sal from emp ) q where q.SAL>=avg_sal order by DEPTNO,SAL\").show()"
   ]
  },
  {
   "cell_type": "code",
   "execution_count": 40,
   "id": "d7ba241a",
   "metadata": {},
   "outputs": [
    {
     "name": "stdout",
     "output_type": "stream",
     "text": [
      "+-----+------+----+-----------+\n",
      "|EMPNO|DEPTNO| SAL|lead_salary|\n",
      "+-----+------+----+-----------+\n",
      "| 7839|    10|5000|       7788|\n",
      "| 7788|    20|3000|       7902|\n",
      "| 7902|    20|3000|       7566|\n",
      "| 7566|    20|2975|       7698|\n",
      "| 7698|    30|2850|       7782|\n",
      "| 7782|    10|2450|       7499|\n",
      "| 7499|    30|1600|       7844|\n",
      "| 7844|    30|1500|       7934|\n",
      "| 7934|    10|1300|       7521|\n",
      "| 7521|    30|1250|       7654|\n",
      "| 7654|    30|1250|       7876|\n",
      "| 7876|    20|1100|       7900|\n",
      "| 7900|    30| 950|       7369|\n",
      "| 7369|    20| 800|       null|\n",
      "+-----+------+----+-----------+\n",
      "\n"
     ]
    }
   ],
   "source": [
    "spark.sql(\"select EMPNO,DEPTNO,SAL,lead(EMPNO) over (order by SAL DESC) lead_salary from emp\").show()"
   ]
  },
  {
   "cell_type": "code",
   "execution_count": 12,
   "id": "87fdd62f",
   "metadata": {},
   "outputs": [
    {
     "name": "stdout",
     "output_type": "stream",
     "text": [
      "+-----+------+----+-----------+-----------+\n",
      "|EMPNO|DEPTNO| SAL|Lead_emp_id|lead_salary|\n",
      "+-----+------+----+-----------+-----------+\n",
      "| 7839|    10|5000|       7788|       3000|\n",
      "| 7788|    20|3000|       7902|       3000|\n",
      "| 7902|    20|3000|       7566|       2975|\n",
      "| 7566|    20|2975|       7698|       2850|\n",
      "| 7698|    30|2850|       7782|       2450|\n",
      "| 7782|    10|2450|       7499|       1600|\n",
      "| 7499|    30|1600|       7844|       1500|\n",
      "| 7844|    30|1500|       7934|       1300|\n",
      "| 7934|    10|1300|       7521|       1250|\n",
      "| 7654|    30|1250|       7876|       1100|\n",
      "| 7521|    30|1250|       7654|       1250|\n",
      "| 7876|    20|1100|       7900|        950|\n",
      "| 7900|    30| 950|       7369|        800|\n",
      "| 7369|    20| 800|       null|       null|\n",
      "+-----+------+----+-----------+-----------+\n",
      "\n"
     ]
    }
   ],
   "source": [
    "spark.sql(\"select EMPNO,DEPTNO,SAL,lead(EMPNO) over (order by SAL DESC) Lead_emp_id,lead(SAL) over (order by SAL DESC) lead_salary from emp order by SAL DESC\").show()"
   ]
  },
  {
   "cell_type": "code",
   "execution_count": 13,
   "id": "08b465e6",
   "metadata": {},
   "outputs": [
    {
     "name": "stdout",
     "output_type": "stream",
     "text": [
      "+-----+------+----+-----------+-----------+\n",
      "|EMPNO|DEPTNO| SAL|Lead_emp_id|lead_salary|\n",
      "+-----+------+----+-----------+-----------+\n",
      "| 7839|    10|5000|       7782|       3000|\n",
      "| 7788|    20|3000|       7902|       3000|\n",
      "| 7902|    20|3000|       7566|       2975|\n",
      "| 7566|    20|2975|       7876|       2850|\n",
      "| 7698|    30|2850|       7499|       2450|\n",
      "| 7782|    10|2450|       7934|       1600|\n",
      "| 7499|    30|1600|       7844|       1500|\n",
      "| 7844|    30|1500|       7521|       1300|\n",
      "| 7934|    10|1300|       null|       1250|\n",
      "| 7654|    30|1250|       7900|       1100|\n",
      "| 7521|    30|1250|       7654|       1250|\n",
      "| 7876|    20|1100|       7369|        950|\n",
      "| 7900|    30| 950|       null|        800|\n",
      "| 7369|    20| 800|       null|       null|\n",
      "+-----+------+----+-----------+-----------+\n",
      "\n"
     ]
    }
   ],
   "source": [
    "spark.sql(\"select EMPNO,DEPTNO,SAL,lead(EMPNO) over (partition by DEPTNO order by SAL DESC) Lead_emp_id,lead(SAL) over (order by SAL DESC) lead_salary from emp order by SAL DESC\").show()"
   ]
  },
  {
   "cell_type": "code",
   "execution_count": 15,
   "id": "81531184",
   "metadata": {},
   "outputs": [
    {
     "name": "stdout",
     "output_type": "stream",
     "text": [
      "+-----+------+----+--------+\n",
      "|EMPNO|DEPTNO| SAL|EMP_NAME|\n",
      "+-----+------+----+--------+\n",
      "| 7839|    10|5000|    KING|\n",
      "| 7782|    10|2450|    KING|\n",
      "| 7934|    10|1300|    KING|\n",
      "| 7902|    20|3000|   SCOTT|\n",
      "| 7788|    20|3000|   SCOTT|\n",
      "| 7566|    20|2975|   SCOTT|\n",
      "| 7876|    20|1100|   SCOTT|\n",
      "| 7369|    20| 800|   SCOTT|\n",
      "| 7698|    30|2850|   BLAKE|\n",
      "| 7499|    30|1600|   BLAKE|\n",
      "| 7844|    30|1500|   BLAKE|\n",
      "| 7654|    30|1250|   BLAKE|\n",
      "| 7521|    30|1250|   BLAKE|\n",
      "| 7900|    30| 950|   BLAKE|\n",
      "+-----+------+----+--------+\n",
      "\n"
     ]
    }
   ],
   "source": [
    "spark.sql(\"select EMPNO,DEPTNO,SAL,first_value(ENAME) over (partition by DEPTNO order by SAL DESC) EMP_NAME from emp order by DEPTNO,SAL DESC\").show()"
   ]
  },
  {
   "cell_type": "code",
   "execution_count": 22,
   "id": "482d3303",
   "metadata": {},
   "outputs": [
    {
     "name": "stdout",
     "output_type": "stream",
     "text": [
      "+-----+------+----+----------+\n",
      "|EMPNO|DEPTNO| SAL|MIN_SALARY|\n",
      "+-----+------+----+----------+\n",
      "| 7839|    10|5000|      1300|\n",
      "| 7782|    10|2450|      1300|\n",
      "| 7934|    10|1300|      1300|\n",
      "| 7902|    20|3000|       800|\n",
      "| 7788|    20|3000|       800|\n",
      "| 7566|    20|2975|       800|\n",
      "| 7876|    20|1100|       800|\n",
      "| 7369|    20| 800|       800|\n",
      "| 7698|    30|2850|       950|\n",
      "| 7499|    30|1600|       950|\n",
      "| 7844|    30|1500|       950|\n",
      "| 7654|    30|1250|       950|\n",
      "| 7521|    30|1250|       950|\n",
      "| 7900|    30| 950|       950|\n",
      "+-----+------+----+----------+\n",
      "\n"
     ]
    },
    {
     "data": {
      "text/plain": [
       "lastException: Throwable = null\n"
      ]
     },
     "metadata": {},
     "output_type": "display_data",
     "source": "user"
    }
   ],
   "source": [
    "spark.sql(\"select EMPNO,DEPTNO,SAL,min(SAL) over (partition by DEPTNO) MIN_SALARY from emp order by DEPTNO,SAL DESC\").show()"
   ]
  },
  {
   "cell_type": "code",
   "execution_count": 23,
   "id": "4638f75a",
   "metadata": {},
   "outputs": [
    {
     "name": "stdout",
     "output_type": "stream",
     "text": [
      "+-----+------+----+-----------+\n",
      "|EMPNO|DEPTNO| SAL|last_salary|\n",
      "+-----+------+----+-----------+\n",
      "| 7839|    10|5000|       1300|\n",
      "| 7782|    10|2450|       1300|\n",
      "| 7934|    10|1300|       1300|\n",
      "| 7788|    20|3000|        800|\n",
      "| 7902|    20|3000|        800|\n",
      "| 7566|    20|2975|        800|\n",
      "| 7876|    20|1100|        800|\n",
      "| 7369|    20| 800|        800|\n",
      "| 7698|    30|2850|        950|\n",
      "| 7499|    30|1600|        950|\n",
      "| 7844|    30|1500|        950|\n",
      "| 7654|    30|1250|        950|\n",
      "| 7521|    30|1250|        950|\n",
      "| 7900|    30| 950|        950|\n",
      "+-----+------+----+-----------+\n",
      "\n"
     ]
    }
   ],
   "source": [
    "spark.sql(\"select EMPNO,DEPTNO,SAL,last_value(SAL) over (partition by DEPTNO order by SAL DESC ROWS BETWEEN UNBOUNDED PRECEDING AND UNBOUNDED FOLLOWING) last_salary from emp order by DEPTNO,SAL DESC\").show()"
   ]
  },
  {
   "cell_type": "code",
   "execution_count": 24,
   "id": "cc37ac70",
   "metadata": {},
   "outputs": [
    {
     "name": "stdout",
     "output_type": "stream",
     "text": [
      "+-----+------+----+----------+\n",
      "|EMPNO|DEPTNO| SAL|MAX_SALARY|\n",
      "+-----+------+----+----------+\n",
      "| 7839|    10|5000|      5000|\n",
      "| 7782|    10|2450|      5000|\n",
      "| 7934|    10|1300|      5000|\n",
      "| 7788|    20|3000|      3000|\n",
      "| 7902|    20|3000|      3000|\n",
      "| 7566|    20|2975|      3000|\n",
      "| 7876|    20|1100|      3000|\n",
      "| 7369|    20| 800|      3000|\n",
      "| 7698|    30|2850|      2850|\n",
      "| 7499|    30|1600|      2850|\n",
      "| 7844|    30|1500|      2850|\n",
      "| 7654|    30|1250|      2850|\n",
      "| 7521|    30|1250|      2850|\n",
      "| 7900|    30| 950|      2850|\n",
      "+-----+------+----+----------+\n",
      "\n"
     ]
    }
   ],
   "source": [
    "spark.sql(\"select EMPNO,DEPTNO,SAL,max(SAL) over (partition by DEPTNO) MAX_SALARY from emp order by DEPTNO,SAL DESC\").show()"
   ]
  },
  {
   "cell_type": "code",
   "execution_count": 25,
   "id": "208f89e4",
   "metadata": {},
   "outputs": [
    {
     "name": "stdout",
     "output_type": "stream",
     "text": [
      "+-----+------+----+----+\n",
      "|EMPNO|DEPTNO| SAL|RANK|\n",
      "+-----+------+----+----+\n",
      "| 7839|    10|5000|   1|\n",
      "| 7782|    10|2450|   2|\n",
      "| 7934|    10|1300|   3|\n",
      "| 7788|    20|3000|   1|\n",
      "| 7902|    20|3000|   1|\n",
      "| 7566|    20|2975|   3|\n",
      "| 7876|    20|1100|   4|\n",
      "| 7369|    20| 800|   5|\n",
      "| 7698|    30|2850|   1|\n",
      "| 7499|    30|1600|   2|\n",
      "| 7844|    30|1500|   3|\n",
      "| 7654|    30|1250|   4|\n",
      "| 7521|    30|1250|   4|\n",
      "| 7900|    30| 950|   6|\n",
      "+-----+------+----+----+\n",
      "\n"
     ]
    }
   ],
   "source": [
    "spark.sql(\"select EMPNO,DEPTNO,SAL,rank() over (partition by DEPTNO order by SAL DESC) RANK from emp order by deptno,sal desc\").show()"
   ]
  },
  {
   "cell_type": "code",
   "execution_count": 28,
   "id": "8322208c",
   "metadata": {},
   "outputs": [
    {
     "name": "stdout",
     "output_type": "stream",
     "text": [
      "+-----+------+----+----------+\n",
      "|EMPNO|DEPTNO| SAL|DENSE_RANK|\n",
      "+-----+------+----+----------+\n",
      "| 7839|    10|5000|         1|\n",
      "| 7782|    10|2450|         2|\n",
      "| 7934|    10|1300|         3|\n",
      "| 7788|    20|3000|         1|\n",
      "| 7902|    20|3000|         1|\n",
      "| 7566|    20|2975|         2|\n",
      "| 7876|    20|1100|         3|\n",
      "| 7369|    20| 800|         4|\n",
      "| 7698|    30|2850|         1|\n",
      "| 7499|    30|1600|         2|\n",
      "| 7844|    30|1500|         3|\n",
      "| 7654|    30|1250|         4|\n",
      "| 7521|    30|1250|         4|\n",
      "| 7900|    30| 950|         5|\n",
      "+-----+------+----+----------+\n",
      "\n"
     ]
    },
    {
     "data": {
      "text/plain": [
       "lastException: Throwable = null\n"
      ]
     },
     "metadata": {},
     "output_type": "display_data",
     "source": "user"
    }
   ],
   "source": [
    "spark.sql(\"select EMPNO,DEPTNO,SAL,dense_rank() over (partition by DEPTNO order by SAL DESC) DENSE_RANK from emp order by deptno,sal desc\").show()"
   ]
  },
  {
   "cell_type": "code",
   "execution_count": 29,
   "id": "53bce6d2",
   "metadata": {},
   "outputs": [
    {
     "name": "stdout",
     "output_type": "stream",
     "text": [
      "+-----+------+----+----+\n",
      "|EMPNO|DEPTNO| SAL|RANK|\n",
      "+-----+------+----+----+\n",
      "| 7839|    10|5000|   1|\n",
      "| 7782|    10|2450|   2|\n",
      "| 7934|    10|1300|   3|\n",
      "| 7788|    20|3000|   1|\n",
      "| 7902|    20|3000|   2|\n",
      "| 7566|    20|2975|   3|\n",
      "| 7876|    20|1100|   4|\n",
      "| 7369|    20| 800|   5|\n",
      "| 7698|    30|2850|   1|\n",
      "| 7499|    30|1600|   2|\n",
      "| 7844|    30|1500|   3|\n",
      "| 7654|    30|1250|   5|\n",
      "| 7521|    30|1250|   4|\n",
      "| 7900|    30| 950|   6|\n",
      "+-----+------+----+----+\n",
      "\n"
     ]
    }
   ],
   "source": [
    "spark.sql(\"select EMPNO,DEPTNO,SAL,row_number() over (partition by DEPTNO order by SAL DESC) RANK from emp order by deptno,sal desc\").show()"
   ]
  },
  {
   "cell_type": "code",
   "execution_count": 36,
   "id": "c67faa42",
   "metadata": {},
   "outputs": [
    {
     "name": "stdout",
     "output_type": "stream",
     "text": [
      "+-----+------+----+----+----------+-------+\n",
      "|EMPNO|DEPTNO| SAL|RANK|DENSE_RANK|ROW_NUM|\n",
      "+-----+------+----+----+----------+-------+\n",
      "| 7839|    10|5000|   1|         1|      1|\n",
      "| 7782|    10|2450|   2|         2|      2|\n",
      "| 7934|    10|1300|   3|         3|      3|\n",
      "| 7788|    20|3000|   1|         1|      1|\n",
      "| 7902|    20|3000|   1|         1|      2|\n",
      "| 7566|    20|2975|   3|         2|      3|\n",
      "| 7876|    20|1100|   4|         3|      4|\n",
      "| 7369|    20| 800|   5|         4|      5|\n",
      "| 7698|    30|2850|   1|         1|      1|\n",
      "| 7499|    30|1600|   2|         2|      2|\n",
      "| 7844|    30|1500|   3|         3|      3|\n",
      "| 7654|    30|1250|   4|         4|      5|\n",
      "| 7521|    30|1250|   4|         4|      4|\n",
      "| 7900|    30| 950|   6|         5|      6|\n",
      "+-----+------+----+----+----------+-------+\n",
      "\n"
     ]
    }
   ],
   "source": [
    "spark.sql(\"select EMPNO,DEPTNO,SAL,rank() over (partition by DEPTNO order by SAL DESC) RANK,dense_rank() over (partition by DEPTNO order by SAL DESC) DENSE_RANK,row_number() over (partition by DEPTNO order by SAL DESC) ROW_NUM from emp order by deptno,sal desc\").show()"
   ]
  },
  {
   "cell_type": "code",
   "execution_count": null,
   "id": "f3dd5a64",
   "metadata": {},
   "outputs": [],
   "source": []
  }
 ],
 "metadata": {
  "kernelspec": {
   "display_name": "Spark 2 - Scala",
   "language": "scala",
   "name": "spark_2_scala"
  },
  "language_info": {
   "codemirror_mode": "text/x-scala",
   "file_extension": ".scala",
   "mimetype": "text/x-scala",
   "name": "scala",
   "pygments_lexer": "scala",
   "version": "2.11.12"
  }
 },
 "nbformat": 4,
 "nbformat_minor": 5
}
