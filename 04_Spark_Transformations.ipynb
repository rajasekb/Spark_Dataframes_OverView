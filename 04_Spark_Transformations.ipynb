{
 "cells": [
  {
   "cell_type": "code",
   "execution_count": 1,
   "id": "7512ed39",
   "metadata": {},
   "outputs": [],
   "source": [
    "import org.apache.spark.sql.SparkSession"
   ]
  },
  {
   "cell_type": "code",
   "execution_count": 2,
   "id": "f854ebc1",
   "metadata": {},
   "outputs": [
    {
     "data": {
      "text/plain": [
       "spark = org.apache.spark.sql.SparkSession@5e1b0527\n"
      ]
     },
     "metadata": {},
     "output_type": "display_data",
     "source": "user"
    },
    {
     "data": {
      "text/plain": [
       "org.apache.spark.sql.SparkSession@5e1b0527"
      ]
     },
     "execution_count": 2,
     "metadata": {},
     "output_type": "execute_result"
    }
   ],
   "source": [
    "val spark = SparkSession.\n",
    "    builder.\n",
    "    config(\"spark.ui.port\", \"0\").\n",
    "    config(\"spark.sql.warehouse.dir\", \"/user/itv001389/warehouse\").\n",
    "    enableHiveSupport.\n",
    "    master(\"yarn\").\n",
    "    appName(\"Getting Started - Spark with Scala\").\n",
    "    getOrCreate"
   ]
  },
  {
   "cell_type": "code",
   "execution_count": 3,
   "id": "2d4215b7",
   "metadata": {},
   "outputs": [
    {
     "data": {
      "text/plain": [
       "[]"
      ]
     },
     "execution_count": 3,
     "metadata": {},
     "output_type": "execute_result"
    }
   ],
   "source": [
    "spark.sql(\"use raj\")"
   ]
  },
  {
   "cell_type": "code",
   "execution_count": 4,
   "id": "e7f24f50",
   "metadata": {},
   "outputs": [],
   "source": [
    "import spark.implicits._"
   ]
  },
  {
   "cell_type": "code",
   "execution_count": 5,
   "id": "10ac8649",
   "metadata": {},
   "outputs": [],
   "source": [
    "import org.apache.spark.sql.functions._"
   ]
  },
  {
   "cell_type": "code",
   "execution_count": 6,
   "id": "72f2bde3",
   "metadata": {},
   "outputs": [],
   "source": [
    "import org.apache.spark.sql.Column"
   ]
  },
  {
   "cell_type": "code",
   "execution_count": 7,
   "id": "dfc24b27",
   "metadata": {},
   "outputs": [
    {
     "data": {
      "text/plain": [
       "df = [order_id: string, Order_date: string ... 2 more fields]\n"
      ]
     },
     "metadata": {},
     "output_type": "display_data",
     "source": "user"
    },
    {
     "data": {
      "text/plain": [
       "[order_id: string, Order_date: string ... 2 more fields]"
      ]
     },
     "execution_count": 7,
     "metadata": {},
     "output_type": "execute_result"
    }
   ],
   "source": [
    "val df=spark.read.csv(\"hdfs://m01.itversity.com:9000/user/itv001389/warehouse/raj.db/order_csv\").toDF(\"order_id\",\"Order_date\",\"Order_product_id\",\"Order_status\")"
   ]
  },
  {
   "cell_type": "code",
   "execution_count": 11,
   "id": "1a406e12",
   "metadata": {},
   "outputs": [
    {
     "name": "stdout",
     "output_type": "stream",
     "text": [
      "root\n",
      " |-- order_id: string (nullable = true)\n",
      " |-- Order_date: string (nullable = true)\n",
      " |-- Order_product_id: string (nullable = true)\n",
      " |-- Order_status: string (nullable = true)\n",
      "\n"
     ]
    }
   ],
   "source": [
    "df.printSchema()"
   ]
  },
  {
   "cell_type": "code",
   "execution_count": 12,
   "id": "0fbea90c",
   "metadata": {},
   "outputs": [
    {
     "name": "stdout",
     "output_type": "stream",
     "text": [
      "+--------+-------------------+----------------+---------------+\n",
      "|order_id|         Order_date|Order_product_id|   Order_status|\n",
      "+--------+-------------------+----------------+---------------+\n",
      "|       1|2013-07-25 00:00:00|           11599|         CLOSED|\n",
      "|       2|2013-07-25 00:00:00|             256|PENDING_PAYMENT|\n",
      "|       3|2013-07-25 00:00:00|           12111|       COMPLETE|\n",
      "|       4|2013-07-25 00:00:00|            8827|         CLOSED|\n",
      "|       5|2013-07-25 00:00:00|           11318|       COMPLETE|\n",
      "|       6|2013-07-25 00:00:00|            7130|       COMPLETE|\n",
      "|       7|2013-07-25 00:00:00|            4530|       COMPLETE|\n",
      "|       8|2013-07-25 00:00:00|            2911|     PROCESSING|\n",
      "|       9|2013-07-25 00:00:00|            5657|PENDING_PAYMENT|\n",
      "|      10|2013-07-25 00:00:00|            5648|PENDING_PAYMENT|\n",
      "|      11|2013-07-25 00:00:00|             918| PAYMENT_REVIEW|\n",
      "|      12|2013-07-25 00:00:00|            1837|         CLOSED|\n",
      "|      13|2013-07-25 00:00:00|            9149|PENDING_PAYMENT|\n",
      "|      14|2013-07-25 00:00:00|            9842|     PROCESSING|\n",
      "|      15|2013-07-25 00:00:00|            2568|       COMPLETE|\n",
      "|      16|2013-07-25 00:00:00|            7276|PENDING_PAYMENT|\n",
      "|      17|2013-07-25 00:00:00|            2667|       COMPLETE|\n",
      "|      18|2013-07-25 00:00:00|            1205|         CLOSED|\n",
      "|      19|2013-07-25 00:00:00|            9488|PENDING_PAYMENT|\n",
      "|      20|2013-07-25 00:00:00|            9198|     PROCESSING|\n",
      "+--------+-------------------+----------------+---------------+\n",
      "only showing top 20 rows\n",
      "\n"
     ]
    }
   ],
   "source": [
    "df.show()"
   ]
  },
  {
   "cell_type": "code",
   "execution_count": 8,
   "id": "63b56d96",
   "metadata": {},
   "outputs": [
    {
     "data": {
      "text/plain": [
       "order = [Order_id: int, Order_date: string ... 2 more fields]\n"
      ]
     },
     "metadata": {},
     "output_type": "display_data",
     "source": "user"
    },
    {
     "data": {
      "text/plain": [
       "[Order_id: int, Order_date: string ... 2 more fields]"
      ]
     },
     "execution_count": 8,
     "metadata": {},
     "output_type": "execute_result"
    }
   ],
   "source": [
    "val order=df.withColumn(\"Order_id\",$\"order_id\".cast(\"int\")).withColumn(\"Order_product_id\",$\"Order_product_id\".cast(\"int\"))"
   ]
  },
  {
   "cell_type": "code",
   "execution_count": 19,
   "id": "b2a19b0e",
   "metadata": {},
   "outputs": [
    {
     "name": "stdout",
     "output_type": "stream",
     "text": [
      "root\n",
      " |-- Order_id: integer (nullable = true)\n",
      " |-- Order_date: string (nullable = true)\n",
      " |-- Order_product_id: integer (nullable = true)\n",
      " |-- Order_status: string (nullable = true)\n",
      "\n"
     ]
    }
   ],
   "source": [
    "order.printSchema()"
   ]
  },
  {
   "cell_type": "code",
   "execution_count": 9,
   "id": "a357bed2",
   "metadata": {},
   "outputs": [
    {
     "data": {
      "text/plain": [
       "orderItem = [order_item_id: int, order_item_order_id: int ... 4 more fields]\n"
      ]
     },
     "metadata": {},
     "output_type": "display_data",
     "source": "user"
    },
    {
     "data": {
      "text/plain": [
       "[order_item_id: int, order_item_order_id: int ... 4 more fields]"
      ]
     },
     "execution_count": 9,
     "metadata": {},
     "output_type": "execute_result"
    }
   ],
   "source": [
    "val orderItem=spark.read.schema(\"order_item_id int,order_item_order_id int,order_item_product_id int,order_item_quantity int,order_item_subtotal decimal(17,4),order_item_product_price decimal(17,4)\").csv(\"hdfs://m01.itversity.com:9000/user/itv001389/warehouse/raj.db/order_item_new\")"
   ]
  },
  {
   "cell_type": "code",
   "execution_count": 23,
   "id": "ebe5b68d",
   "metadata": {},
   "outputs": [
    {
     "name": "stdout",
     "output_type": "stream",
     "text": [
      "+----------+\n",
      "|order_year|\n",
      "+----------+\n",
      "|      2013|\n",
      "|      2013|\n",
      "|      2013|\n",
      "|      2013|\n",
      "|      2013|\n",
      "|      2013|\n",
      "|      2013|\n",
      "|      2013|\n",
      "|      2013|\n",
      "|      2013|\n",
      "|      2013|\n",
      "|      2013|\n",
      "|      2013|\n",
      "|      2013|\n",
      "|      2013|\n",
      "|      2013|\n",
      "|      2013|\n",
      "|      2013|\n",
      "|      2013|\n",
      "|      2013|\n",
      "+----------+\n",
      "only showing top 20 rows\n",
      "\n"
     ]
    }
   ],
   "source": [
    "order.select(substring($\"Order_date\",1,4) alias \"order_year\").show()"
   ]
  },
  {
   "cell_type": "code",
   "execution_count": 26,
   "id": "1eb76d0c",
   "metadata": {},
   "outputs": [
    {
     "name": "stdout",
     "output_type": "stream",
     "text": [
      "+--------+-------------------+----------------+------------+\n",
      "|Order_id|         Order_date|Order_product_id|Order_status|\n",
      "+--------+-------------------+----------------+------------+\n",
      "|       1|2013-07-25 00:00:00|           11599|      CLOSED|\n",
      "|       3|2013-07-25 00:00:00|           12111|    COMPLETE|\n",
      "|       4|2013-07-25 00:00:00|            8827|      CLOSED|\n",
      "|       5|2013-07-25 00:00:00|           11318|    COMPLETE|\n",
      "|       6|2013-07-25 00:00:00|            7130|    COMPLETE|\n",
      "|       7|2013-07-25 00:00:00|            4530|    COMPLETE|\n",
      "|      12|2013-07-25 00:00:00|            1837|      CLOSED|\n",
      "|      15|2013-07-25 00:00:00|            2568|    COMPLETE|\n",
      "|      17|2013-07-25 00:00:00|            2667|    COMPLETE|\n",
      "|      18|2013-07-25 00:00:00|            1205|      CLOSED|\n",
      "|      22|2013-07-25 00:00:00|             333|    COMPLETE|\n",
      "|      24|2013-07-25 00:00:00|           11441|      CLOSED|\n",
      "|      25|2013-07-25 00:00:00|            9503|      CLOSED|\n",
      "|      26|2013-07-25 00:00:00|            7562|    COMPLETE|\n",
      "|      28|2013-07-25 00:00:00|             656|    COMPLETE|\n",
      "|      32|2013-07-25 00:00:00|            3960|    COMPLETE|\n",
      "|      35|2013-07-25 00:00:00|            4840|    COMPLETE|\n",
      "|      37|2013-07-25 00:00:00|            5863|      CLOSED|\n",
      "|      45|2013-07-25 00:00:00|            2636|    COMPLETE|\n",
      "|      51|2013-07-25 00:00:00|           12271|      CLOSED|\n",
      "+--------+-------------------+----------------+------------+\n",
      "only showing top 20 rows\n",
      "\n"
     ]
    }
   ],
   "source": [
    "order.where($\"Order_status\" isin (\"COMPLETE\",\"CLOSED\")).show()"
   ]
  },
  {
   "cell_type": "code",
   "execution_count": 12,
   "id": "ab87a24b",
   "metadata": {},
   "outputs": [
    {
     "name": "stdout",
     "output_type": "stream",
     "text": [
      "+--------+-------------------+----------------+------------+\n",
      "|Order_id|         Order_date|Order_product_id|Order_status|\n",
      "+--------+-------------------+----------------+------------+\n",
      "|       1|2013-07-25 00:00:00|           11599|      CLOSED|\n",
      "|       3|2013-07-25 00:00:00|           12111|    COMPLETE|\n",
      "|       4|2013-07-25 00:00:00|            8827|      CLOSED|\n",
      "|       5|2013-07-25 00:00:00|           11318|    COMPLETE|\n",
      "|       6|2013-07-25 00:00:00|            7130|    COMPLETE|\n",
      "|       7|2013-07-25 00:00:00|            4530|    COMPLETE|\n",
      "|      12|2013-07-25 00:00:00|            1837|      CLOSED|\n",
      "|      15|2013-07-25 00:00:00|            2568|    COMPLETE|\n",
      "|      17|2013-07-25 00:00:00|            2667|    COMPLETE|\n",
      "|      18|2013-07-25 00:00:00|            1205|      CLOSED|\n",
      "|      22|2013-07-25 00:00:00|             333|    COMPLETE|\n",
      "|      24|2013-07-25 00:00:00|           11441|      CLOSED|\n",
      "|      25|2013-07-25 00:00:00|            9503|      CLOSED|\n",
      "|      26|2013-07-25 00:00:00|            7562|    COMPLETE|\n",
      "|      28|2013-07-25 00:00:00|             656|    COMPLETE|\n",
      "|      32|2013-07-25 00:00:00|            3960|    COMPLETE|\n",
      "|      35|2013-07-25 00:00:00|            4840|    COMPLETE|\n",
      "|      37|2013-07-25 00:00:00|            5863|      CLOSED|\n",
      "|      45|2013-07-25 00:00:00|            2636|    COMPLETE|\n",
      "|      51|2013-07-25 00:00:00|           12271|      CLOSED|\n",
      "+--------+-------------------+----------------+------------+\n",
      "only showing top 20 rows\n",
      "\n"
     ]
    }
   ],
   "source": [
    "order.where(col(\"Order_status\")===(\"COMPLETE\") or col(\"Order_status\")===(\"CLOSED\")).show()"
   ]
  },
  {
   "cell_type": "code",
   "execution_count": 18,
   "id": "73abc7d5",
   "metadata": {},
   "outputs": [
    {
     "name": "stdout",
     "output_type": "stream",
     "text": [
      "+--------+-------------------+----------------+------------+\n",
      "|Order_id|         Order_date|Order_product_id|Order_status|\n",
      "+--------+-------------------+----------------+------------+\n",
      "|    1297|2013-08-01 00:00:00|           11607|    COMPLETE|\n",
      "|    1298|2013-08-01 00:00:00|            5105|      CLOSED|\n",
      "|    1299|2013-08-01 00:00:00|            7802|    COMPLETE|\n",
      "|    1302|2013-08-01 00:00:00|            1695|    COMPLETE|\n",
      "|    1304|2013-08-01 00:00:00|            2059|    COMPLETE|\n",
      "|    1305|2013-08-01 00:00:00|            3844|    COMPLETE|\n",
      "|    1307|2013-08-01 00:00:00|            4474|    COMPLETE|\n",
      "|    1309|2013-08-01 00:00:00|            2367|      CLOSED|\n",
      "|    1312|2013-08-01 00:00:00|           12291|    COMPLETE|\n",
      "|    1314|2013-08-01 00:00:00|           10993|    COMPLETE|\n",
      "|    1315|2013-08-01 00:00:00|            5660|    COMPLETE|\n",
      "|    1318|2013-08-01 00:00:00|            4212|    COMPLETE|\n",
      "|    1319|2013-08-01 00:00:00|            3966|    COMPLETE|\n",
      "|    1320|2013-08-01 00:00:00|           12270|    COMPLETE|\n",
      "|    1321|2013-08-01 00:00:00|             800|    COMPLETE|\n",
      "|    1322|2013-08-01 00:00:00|            9264|    COMPLETE|\n",
      "|    1323|2013-08-01 00:00:00|            7422|    COMPLETE|\n",
      "|    1324|2013-08-01 00:00:00|            4600|    COMPLETE|\n",
      "|    1327|2013-08-01 00:00:00|            9526|    COMPLETE|\n",
      "|    1329|2013-08-01 00:00:00|            6070|      CLOSED|\n",
      "+--------+-------------------+----------------+------------+\n",
      "only showing top 20 rows\n",
      "\n"
     ]
    }
   ],
   "source": [
    "order.where(\"Order_status in ('COMPLETE','CLOSED') and Order_date like '2013-08%'\").show()"
   ]
  },
  {
   "cell_type": "code",
   "execution_count": 21,
   "id": "0159062a",
   "metadata": {},
   "outputs": [
    {
     "name": "stdout",
     "output_type": "stream",
     "text": [
      "+--------+-------------------+----------------+------------+\n",
      "|Order_id|         Order_date|Order_product_id|Order_status|\n",
      "+--------+-------------------+----------------+------------+\n",
      "|    1297|2013-08-01 00:00:00|           11607|    COMPLETE|\n",
      "|    1298|2013-08-01 00:00:00|            5105|      CLOSED|\n",
      "|    1299|2013-08-01 00:00:00|            7802|    COMPLETE|\n",
      "|    1302|2013-08-01 00:00:00|            1695|    COMPLETE|\n",
      "|    1304|2013-08-01 00:00:00|            2059|    COMPLETE|\n",
      "|    1305|2013-08-01 00:00:00|            3844|    COMPLETE|\n",
      "|    1307|2013-08-01 00:00:00|            4474|    COMPLETE|\n",
      "|    1309|2013-08-01 00:00:00|            2367|      CLOSED|\n",
      "|    1312|2013-08-01 00:00:00|           12291|    COMPLETE|\n",
      "|    1314|2013-08-01 00:00:00|           10993|    COMPLETE|\n",
      "|    1315|2013-08-01 00:00:00|            5660|    COMPLETE|\n",
      "|    1318|2013-08-01 00:00:00|            4212|    COMPLETE|\n",
      "|    1319|2013-08-01 00:00:00|            3966|    COMPLETE|\n",
      "|    1320|2013-08-01 00:00:00|           12270|    COMPLETE|\n",
      "|    1321|2013-08-01 00:00:00|             800|    COMPLETE|\n",
      "|    1322|2013-08-01 00:00:00|            9264|    COMPLETE|\n",
      "|    1323|2013-08-01 00:00:00|            7422|    COMPLETE|\n",
      "|    1324|2013-08-01 00:00:00|            4600|    COMPLETE|\n",
      "|    1327|2013-08-01 00:00:00|            9526|    COMPLETE|\n",
      "|    1329|2013-08-01 00:00:00|            6070|      CLOSED|\n",
      "+--------+-------------------+----------------+------------+\n",
      "only showing top 20 rows\n",
      "\n"
     ]
    }
   ],
   "source": [
    "order.where((col(\"Order_status\") isin (\"COMPLETE\",\"CLOSED\")) and (col(\"Order_date\") like (\"2013-08%\"))).show()"
   ]
  },
  {
   "cell_type": "code",
   "execution_count": 27,
   "id": "64dec86f",
   "metadata": {},
   "outputs": [
    {
     "data": {
      "text/plain": [
       "warning: there was one deprecation warning; re-run with -deprecation for details\n"
      ]
     },
     "metadata": {},
     "output_type": "display_data",
     "source": "user"
    },
    {
     "name": "stdout",
     "output_type": "stream",
     "text": [
      "+-------------+-------------------+---------------------+-------------------+-------------------+------------------------+\n",
      "|order_item_id|order_item_order_id|order_item_product_id|order_item_quantity|order_item_subtotal|order_item_product_price|\n",
      "+-------------+-------------------+---------------------+-------------------+-------------------+------------------------+\n",
      "+-------------+-------------------+---------------------+-------------------+-------------------+------------------------+\n",
      "\n"
     ]
    }
   ],
   "source": [
    "orderItem.filter($\"order_item_subtotal\" !== ($\"order_item_quantity\"*$\"order_item_product_price\")).show()"
   ]
  },
  {
   "cell_type": "code",
   "execution_count": 31,
   "id": "7aa139bb",
   "metadata": {},
   "outputs": [
    {
     "name": "stdout",
     "output_type": "stream",
     "text": [
      "+--------+-------------------+----------------+---------------+\n",
      "|Order_id|         Order_date|Order_product_id|   Order_status|\n",
      "+--------+-------------------+----------------+---------------+\n",
      "|    1417|2013-08-01 00:00:00|            5676|        PENDING|\n",
      "|   15547|2013-11-01 00:00:00|            5452|       COMPLETE|\n",
      "|   15600|2013-11-01 00:00:00|            2930|PENDING_PAYMENT|\n",
      "|   25902|2014-01-01 00:00:00|            6083|       COMPLETE|\n",
      "|   35701|2014-03-01 00:00:00|            3678|       COMPLETE|\n",
      "|   35747|2014-03-01 00:00:00|            1876|PENDING_PAYMENT|\n",
      "|   54078|2014-07-01 00:00:00|            2149|PENDING_PAYMENT|\n",
      "|   54111|2014-07-01 00:00:00|             663|PENDING_PAYMENT|\n",
      "|   65121|2014-05-01 00:00:00|            6481|       COMPLETE|\n",
      "|    1382|2013-08-01 00:00:00|            9151|       COMPLETE|\n",
      "|    1507|2013-08-01 00:00:00|            4062|     PROCESSING|\n",
      "|    6082|2013-09-01 00:00:00|            5712|        PENDING|\n",
      "|    6106|2013-09-01 00:00:00|            8061|     PROCESSING|\n",
      "|    6107|2013-09-01 00:00:00|            9124|PENDING_PAYMENT|\n",
      "|   15530|2013-11-01 00:00:00|           12005|        ON_HOLD|\n",
      "|   21090|2013-12-01 00:00:00|            2727|       COMPLETE|\n",
      "|   25982|2014-01-01 00:00:00|            6977|PENDING_PAYMENT|\n",
      "|   30835|2014-02-01 00:00:00|            1664|       COMPLETE|\n",
      "|   30966|2014-02-01 00:00:00|            4510|       COMPLETE|\n",
      "|   30972|2014-02-01 00:00:00|            7693|         CLOSED|\n",
      "+--------+-------------------+----------------+---------------+\n",
      "only showing top 20 rows\n",
      "\n"
     ]
    }
   ],
   "source": [
    "order.where(\"date_format(Order_date,'dd')='01'\").distinct.show()"
   ]
  },
  {
   "cell_type": "code",
   "execution_count": 34,
   "id": "86477378",
   "metadata": {},
   "outputs": [
    {
     "name": "stdout",
     "output_type": "stream",
     "text": [
      "+--------+-------------------+----------------+---------------+\n",
      "|Order_id|         Order_date|Order_product_id|   Order_status|\n",
      "+--------+-------------------+----------------+---------------+\n",
      "|    1417|2013-08-01 00:00:00|            5676|        PENDING|\n",
      "|   15547|2013-11-01 00:00:00|            5452|       COMPLETE|\n",
      "|   15600|2013-11-01 00:00:00|            2930|PENDING_PAYMENT|\n",
      "|   25902|2014-01-01 00:00:00|            6083|       COMPLETE|\n",
      "|   35701|2014-03-01 00:00:00|            3678|       COMPLETE|\n",
      "|   35747|2014-03-01 00:00:00|            1876|PENDING_PAYMENT|\n",
      "|   54078|2014-07-01 00:00:00|            2149|PENDING_PAYMENT|\n",
      "|   54111|2014-07-01 00:00:00|             663|PENDING_PAYMENT|\n",
      "|   65121|2014-05-01 00:00:00|            6481|       COMPLETE|\n",
      "|    1382|2013-08-01 00:00:00|            9151|       COMPLETE|\n",
      "|    1507|2013-08-01 00:00:00|            4062|     PROCESSING|\n",
      "|    6082|2013-09-01 00:00:00|            5712|        PENDING|\n",
      "|    6106|2013-09-01 00:00:00|            8061|     PROCESSING|\n",
      "|    6107|2013-09-01 00:00:00|            9124|PENDING_PAYMENT|\n",
      "|   15530|2013-11-01 00:00:00|           12005|        ON_HOLD|\n",
      "|   21090|2013-12-01 00:00:00|            2727|       COMPLETE|\n",
      "|   25982|2014-01-01 00:00:00|            6977|PENDING_PAYMENT|\n",
      "|   30835|2014-02-01 00:00:00|            1664|       COMPLETE|\n",
      "|   30966|2014-02-01 00:00:00|            4510|       COMPLETE|\n",
      "|   30972|2014-02-01 00:00:00|            7693|         CLOSED|\n",
      "+--------+-------------------+----------------+---------------+\n",
      "only showing top 20 rows\n",
      "\n"
     ]
    }
   ],
   "source": [
    "order.where(date_format($\"Order_date\",\"dd\")===\"01\").distinct.show()"
   ]
  },
  {
   "cell_type": "code",
   "execution_count": 36,
   "id": "926c1b86",
   "metadata": {},
   "outputs": [
    {
     "name": "stdout",
     "output_type": "stream",
     "text": [
      "+--------+-------------------+----------------+---------------+-------------+-------------------+---------------------+-------------------+-------------------+------------------------+\n",
      "|Order_id|         Order_date|Order_product_id|   Order_status|order_item_id|order_item_order_id|order_item_product_id|order_item_quantity|order_item_subtotal|order_item_product_price|\n",
      "+--------+-------------------+----------------+---------------+-------------+-------------------+---------------------+-------------------+-------------------+------------------------+\n",
      "|       1|2013-07-25 00:00:00|           11599|         CLOSED|            1|                  1|                  957|                  1|           299.9800|                299.9800|\n",
      "|       2|2013-07-25 00:00:00|             256|PENDING_PAYMENT|            4|                  2|                  403|                  1|           129.9900|                129.9900|\n",
      "|       2|2013-07-25 00:00:00|             256|PENDING_PAYMENT|            3|                  2|                  502|                  5|           250.0000|                 50.0000|\n",
      "|       2|2013-07-25 00:00:00|             256|PENDING_PAYMENT|            2|                  2|                 1073|                  1|           199.9900|                199.9900|\n",
      "|       4|2013-07-25 00:00:00|            8827|         CLOSED|            8|                  4|                 1014|                  4|           199.9200|                 49.9800|\n",
      "|       4|2013-07-25 00:00:00|            8827|         CLOSED|            7|                  4|                  502|                  3|           150.0000|                 50.0000|\n",
      "|       4|2013-07-25 00:00:00|            8827|         CLOSED|            6|                  4|                  365|                  5|           299.9500|                 59.9900|\n",
      "|       4|2013-07-25 00:00:00|            8827|         CLOSED|            5|                  4|                  897|                  2|            49.9800|                 24.9900|\n",
      "|       5|2013-07-25 00:00:00|           11318|       COMPLETE|           13|                  5|                  403|                  1|           129.9900|                129.9900|\n",
      "|       5|2013-07-25 00:00:00|           11318|       COMPLETE|           12|                  5|                  957|                  1|           299.9800|                299.9800|\n",
      "|       5|2013-07-25 00:00:00|           11318|       COMPLETE|           11|                  5|                 1014|                  2|            99.9600|                 49.9800|\n",
      "|       5|2013-07-25 00:00:00|           11318|       COMPLETE|           10|                  5|                  365|                  5|           299.9500|                 59.9900|\n",
      "|       5|2013-07-25 00:00:00|           11318|       COMPLETE|            9|                  5|                  957|                  1|           299.9800|                299.9800|\n",
      "|       7|2013-07-25 00:00:00|            4530|       COMPLETE|           16|                  7|                  926|                  5|            79.9500|                 15.9900|\n",
      "|       7|2013-07-25 00:00:00|            4530|       COMPLETE|           15|                  7|                  957|                  1|           299.9800|                299.9800|\n",
      "|       7|2013-07-25 00:00:00|            4530|       COMPLETE|           14|                  7|                 1073|                  1|           199.9900|                199.9900|\n",
      "|       8|2013-07-25 00:00:00|            2911|     PROCESSING|           20|                  8|                  502|                  1|            50.0000|                 50.0000|\n",
      "|       8|2013-07-25 00:00:00|            2911|     PROCESSING|           19|                  8|                 1014|                  4|           199.9200|                 49.9800|\n",
      "|       8|2013-07-25 00:00:00|            2911|     PROCESSING|           18|                  8|                  365|                  5|           299.9500|                 59.9900|\n",
      "|       8|2013-07-25 00:00:00|            2911|     PROCESSING|           17|                  8|                  365|                  3|           179.9700|                 59.9900|\n",
      "+--------+-------------------+----------------+---------------+-------------+-------------------+---------------------+-------------------+-------------------+------------------------+\n",
      "only showing top 20 rows\n",
      "\n"
     ]
    }
   ],
   "source": [
    "order.join(orderItem,order(\"Order_id\")===orderItem(\"order_item_order_id\")).show()"
   ]
  },
  {
   "cell_type": "code",
   "execution_count": 40,
   "id": "f5f12133",
   "metadata": {},
   "outputs": [
    {
     "data": {
      "text/plain": [
       "1206528"
      ]
     },
     "execution_count": 40,
     "metadata": {},
     "output_type": "execute_result"
    }
   ],
   "source": [
    "order.where($\"Order_status\" isin (\"COMPLETE\",\"CLOSED\")).join(orderItem,order(\"Order_id\")===orderItem(\"order_item_order_id\")).count()"
   ]
  },
  {
   "cell_type": "code",
   "execution_count": 42,
   "id": "026f1456",
   "metadata": {},
   "outputs": [
    {
     "name": "stdout",
     "output_type": "stream",
     "text": [
      "+-------------+-------------------+---------------------+-------------------+-------------------+------------------------+\n",
      "|order_item_id|order_item_order_id|order_item_product_id|order_item_quantity|order_item_subtotal|order_item_product_price|\n",
      "+-------------+-------------------+---------------------+-------------------+-------------------+------------------------+\n",
      "|            1|                  1|                  957|                  1|           299.9800|                299.9800|\n",
      "|            8|                  4|                 1014|                  4|           199.9200|                 49.9800|\n",
      "|            7|                  4|                  502|                  3|           150.0000|                 50.0000|\n",
      "|            6|                  4|                  365|                  5|           299.9500|                 59.9900|\n",
      "|            5|                  4|                  897|                  2|            49.9800|                 24.9900|\n",
      "|           13|                  5|                  403|                  1|           129.9900|                129.9900|\n",
      "|           12|                  5|                  957|                  1|           299.9800|                299.9800|\n",
      "|           11|                  5|                 1014|                  2|            99.9600|                 49.9800|\n",
      "|           10|                  5|                  365|                  5|           299.9500|                 59.9900|\n",
      "|            9|                  5|                  957|                  1|           299.9800|                299.9800|\n",
      "|           16|                  7|                  926|                  5|            79.9500|                 15.9900|\n",
      "|           15|                  7|                  957|                  1|           299.9800|                299.9800|\n",
      "|           14|                  7|                 1073|                  1|           199.9900|                199.9900|\n",
      "|           38|                 12|                  502|                  5|           250.0000|                 50.0000|\n",
      "|           37|                 12|                  191|                  5|           499.9500|                 99.9900|\n",
      "|           36|                 12|                 1014|                  3|           149.9400|                 49.9800|\n",
      "|           35|                 12|                  134|                  4|           100.0000|                 25.0000|\n",
      "|           34|                 12|                  957|                  1|           299.9800|                299.9800|\n",
      "|           47|                 15|                 1004|                  1|           399.9800|                399.9800|\n",
      "|           46|                 15|                  365|                  3|           179.9700|                 59.9900|\n",
      "+-------------+-------------------+---------------------+-------------------+-------------------+------------------------+\n",
      "only showing top 20 rows\n",
      "\n"
     ]
    }
   ],
   "source": [
    "order.where($\"Order_status\" isin (\"COMPLETE\",\"CLOSED\")).join(orderItem,order(\"Order_id\")===orderItem(\"order_item_order_id\")).select(orderItem(\"*\")).show()"
   ]
  },
  {
   "cell_type": "code",
   "execution_count": 49,
   "id": "9d666f69",
   "metadata": {},
   "outputs": [
    {
     "data": {
      "text/plain": [
       "68883"
      ]
     },
     "execution_count": 49,
     "metadata": {},
     "output_type": "execute_result"
    }
   ],
   "source": [
    "order.select($\"Order_id\").distinct.count()"
   ]
  },
  {
   "cell_type": "code",
   "execution_count": 50,
   "id": "4a4cc1af",
   "metadata": {},
   "outputs": [
    {
     "data": {
      "text/plain": [
       "57431"
      ]
     },
     "execution_count": 50,
     "metadata": {},
     "output_type": "execute_result"
    }
   ],
   "source": [
    "orderItem.select($\"order_item_order_id\").distinct.count()"
   ]
  },
  {
   "cell_type": "code",
   "execution_count": 58,
   "id": "da246841",
   "metadata": {},
   "outputs": [
    {
     "name": "stdout",
     "output_type": "stream",
     "text": [
      "+--------+-------------------+----------------+---------------+-------------+-------------------+---------------------+-------------------+-------------------+------------------------+\n",
      "|Order_id|         Order_date|Order_product_id|   Order_status|order_item_id|order_item_order_id|order_item_product_id|order_item_quantity|order_item_subtotal|order_item_product_price|\n",
      "+--------+-------------------+----------------+---------------+-------------+-------------------+---------------------+-------------------+-------------------+------------------------+\n",
      "|       1|2013-07-25 00:00:00|           11599|         CLOSED|            1|                  1|                  957|                  1|           299.9800|                299.9800|\n",
      "|       2|2013-07-25 00:00:00|             256|PENDING_PAYMENT|            4|                  2|                  403|                  1|           129.9900|                129.9900|\n",
      "|       2|2013-07-25 00:00:00|             256|PENDING_PAYMENT|            3|                  2|                  502|                  5|           250.0000|                 50.0000|\n",
      "|       2|2013-07-25 00:00:00|             256|PENDING_PAYMENT|            2|                  2|                 1073|                  1|           199.9900|                199.9900|\n",
      "|       3|2013-07-25 00:00:00|           12111|       COMPLETE|         null|               null|                 null|               null|               null|                    null|\n",
      "|       4|2013-07-25 00:00:00|            8827|         CLOSED|            8|                  4|                 1014|                  4|           199.9200|                 49.9800|\n",
      "|       4|2013-07-25 00:00:00|            8827|         CLOSED|            7|                  4|                  502|                  3|           150.0000|                 50.0000|\n",
      "|       4|2013-07-25 00:00:00|            8827|         CLOSED|            6|                  4|                  365|                  5|           299.9500|                 59.9900|\n",
      "|       4|2013-07-25 00:00:00|            8827|         CLOSED|            5|                  4|                  897|                  2|            49.9800|                 24.9900|\n",
      "|       5|2013-07-25 00:00:00|           11318|       COMPLETE|           13|                  5|                  403|                  1|           129.9900|                129.9900|\n",
      "|       5|2013-07-25 00:00:00|           11318|       COMPLETE|           12|                  5|                  957|                  1|           299.9800|                299.9800|\n",
      "|       5|2013-07-25 00:00:00|           11318|       COMPLETE|           11|                  5|                 1014|                  2|            99.9600|                 49.9800|\n",
      "|       5|2013-07-25 00:00:00|           11318|       COMPLETE|           10|                  5|                  365|                  5|           299.9500|                 59.9900|\n",
      "|       5|2013-07-25 00:00:00|           11318|       COMPLETE|            9|                  5|                  957|                  1|           299.9800|                299.9800|\n",
      "|       6|2013-07-25 00:00:00|            7130|       COMPLETE|         null|               null|                 null|               null|               null|                    null|\n",
      "|       7|2013-07-25 00:00:00|            4530|       COMPLETE|           16|                  7|                  926|                  5|            79.9500|                 15.9900|\n",
      "|       7|2013-07-25 00:00:00|            4530|       COMPLETE|           15|                  7|                  957|                  1|           299.9800|                299.9800|\n",
      "|       7|2013-07-25 00:00:00|            4530|       COMPLETE|           14|                  7|                 1073|                  1|           199.9900|                199.9900|\n",
      "|       8|2013-07-25 00:00:00|            2911|     PROCESSING|           20|                  8|                  502|                  1|            50.0000|                 50.0000|\n",
      "|       8|2013-07-25 00:00:00|            2911|     PROCESSING|           19|                  8|                 1014|                  4|           199.9200|                 49.9800|\n",
      "+--------+-------------------+----------------+---------------+-------------+-------------------+---------------------+-------------------+-------------------+------------------------+\n",
      "only showing top 20 rows\n",
      "\n"
     ]
    }
   ],
   "source": [
    "order.join(orderItem,order(\"Order_id\")===orderItem(\"order_item_order_id\"),\"left\").show()"
   ]
  },
  {
   "cell_type": "code",
   "execution_count": 60,
   "id": "25407f1d",
   "metadata": {},
   "outputs": [
    {
     "name": "stdout",
     "output_type": "stream",
     "text": [
      "+--------+-------------------+----------------+---------------+\n",
      "|Order_id|         Order_date|Order_product_id|   Order_status|\n",
      "+--------+-------------------+----------------+---------------+\n",
      "|       3|2013-07-25 00:00:00|           12111|       COMPLETE|\n",
      "|       6|2013-07-25 00:00:00|            7130|       COMPLETE|\n",
      "|      22|2013-07-25 00:00:00|             333|       COMPLETE|\n",
      "|      26|2013-07-25 00:00:00|            7562|       COMPLETE|\n",
      "|      32|2013-07-25 00:00:00|            3960|       COMPLETE|\n",
      "|      40|2013-07-25 00:00:00|           12092|PENDING_PAYMENT|\n",
      "|      47|2013-07-25 00:00:00|            8487|PENDING_PAYMENT|\n",
      "|      53|2013-07-25 00:00:00|            4701|     PROCESSING|\n",
      "|      54|2013-07-25 00:00:00|           10628|PENDING_PAYMENT|\n",
      "|      55|2013-07-25 00:00:00|            2052|        PENDING|\n",
      "|      60|2013-07-25 00:00:00|            8365|PENDING_PAYMENT|\n",
      "|      76|2013-07-25 00:00:00|            6898|       COMPLETE|\n",
      "|      78|2013-07-25 00:00:00|            8619| PAYMENT_REVIEW|\n",
      "|      79|2013-07-25 00:00:00|            7327|PENDING_PAYMENT|\n",
      "|      80|2013-07-25 00:00:00|            3007|       COMPLETE|\n",
      "|      82|2013-07-25 00:00:00|            3566|PENDING_PAYMENT|\n",
      "|      85|2013-07-25 00:00:00|            1485|        PENDING|\n",
      "|      86|2013-07-25 00:00:00|            6680|PENDING_PAYMENT|\n",
      "|      89|2013-07-25 00:00:00|             824|        ON_HOLD|\n",
      "|      90|2013-07-25 00:00:00|            9131|         CLOSED|\n",
      "+--------+-------------------+----------------+---------------+\n",
      "only showing top 20 rows\n",
      "\n"
     ]
    }
   ],
   "source": [
    "order.join(orderItem,order(\"Order_id\")===orderItem(\"order_item_order_id\"),\"left\").where(\"order_item_order_id is null\").select(order(\"*\")).show()"
   ]
  },
  {
   "cell_type": "code",
   "execution_count": 75,
   "id": "fc144736",
   "metadata": {},
   "outputs": [
    {
     "name": "stdout",
     "output_type": "stream",
     "text": [
      "+-------------+-------------------+---------------------+-------------------+-------------------+------------------------+\n",
      "|order_item_id|order_item_order_id|order_item_product_id|order_item_quantity|order_item_subtotal|order_item_product_price|\n",
      "+-------------+-------------------+---------------------+-------------------+-------------------+------------------------+\n",
      "+-------------+-------------------+---------------------+-------------------+-------------------+------------------------+\n",
      "\n"
     ]
    }
   ],
   "source": [
    "order.join(orderItem,order(\"Order_id\")===orderItem(\"order_item_order_id\"),\"right\").where(\"Order_id is null\").select(orderItem(\"*\")).show()"
   ]
  },
  {
   "cell_type": "code",
   "execution_count": 80,
   "id": "48a6f765",
   "metadata": {},
   "outputs": [
    {
     "name": "stdout",
     "output_type": "stream",
     "text": [
      "+---------------+------+\n",
      "|   Order_status| count|\n",
      "+---------------+------+\n",
      "|PENDING_PAYMENT|240480|\n",
      "|     PROCESSING|132400|\n",
      "| PAYMENT_REVIEW| 11664|\n",
      "|        PENDING|121760|\n",
      "|        ON_HOLD| 60768|\n",
      "|SUSPECTED_FRAUD| 24928|\n",
      "|         CLOSED|120896|\n",
      "|       COMPLETE|366384|\n",
      "|       CANCELED| 22848|\n",
      "+---------------+------+\n",
      "\n"
     ]
    }
   ],
   "source": [
    "order.groupBy($\"Order_status\").count.show()"
   ]
  },
  {
   "cell_type": "markdown",
   "id": "c819ebd0",
   "metadata": {},
   "source": [
    "#### By default it uses 200 threads which slows down the computation time.As our dataset is small in size we can change it to our desired number which will enhances the performance"
   ]
  },
  {
   "cell_type": "code",
   "execution_count": 78,
   "id": "3fb16ba1",
   "metadata": {},
   "outputs": [],
   "source": [
    "spark.conf.set(\"spark.sql.shuffle.partitions\",\"2\")"
   ]
  },
  {
   "cell_type": "code",
   "execution_count": 79,
   "id": "bb162dde",
   "metadata": {},
   "outputs": [
    {
     "name": "stdout",
     "output_type": "stream",
     "text": [
      "+---------------+------+\n",
      "|   Order_status| count|\n",
      "+---------------+------+\n",
      "|PENDING_PAYMENT|240480|\n",
      "|     PROCESSING|132400|\n",
      "| PAYMENT_REVIEW| 11664|\n",
      "|        PENDING|121760|\n",
      "|        ON_HOLD| 60768|\n",
      "|SUSPECTED_FRAUD| 24928|\n",
      "|         CLOSED|120896|\n",
      "|       COMPLETE|366384|\n",
      "|       CANCELED| 22848|\n",
      "+---------------+------+\n",
      "\n"
     ]
    }
   ],
   "source": [
    "order.groupBy($\"Order_status\").count.show()"
   ]
  },
  {
   "cell_type": "code",
   "execution_count": 93,
   "id": "d74710d3",
   "metadata": {},
   "outputs": [
    {
     "name": "stdout",
     "output_type": "stream",
     "text": [
      "+-------------------+------------------------+\n",
      "|order_item_order_id|sum(order_item_subtotal)|\n",
      "+-------------------+------------------------+\n",
      "|                  2|                579.9800|\n",
      "|                  4|                699.8500|\n",
      "|                  5|               1129.8600|\n",
      "|                 10|                651.9200|\n",
      "|                 12|               1299.8700|\n",
      "|                 13|                127.9600|\n",
      "|                 14|                549.9400|\n",
      "|                 18|                449.9600|\n",
      "|                 25|                399.9800|\n",
      "|                 28|               1159.9000|\n",
      "|                 31|                499.9500|\n",
      "|                 36|                799.9600|\n",
      "|                 37|                159.9500|\n",
      "|                 38|                359.9600|\n",
      "|                 45|                499.8500|\n",
      "|                 46|                229.9500|\n",
      "|                 49|                549.9500|\n",
      "|                 50|                429.9700|\n",
      "|                 52|                399.8400|\n",
      "|                 56|                699.8900|\n",
      "+-------------------+------------------------+\n",
      "only showing top 20 rows\n",
      "\n"
     ]
    }
   ],
   "source": [
    "orderItem.groupBy($\"order_item_order_id\").sum(\"order_item_subtotal\").show()"
   ]
  },
  {
   "cell_type": "code",
   "execution_count": 111,
   "id": "9499d204",
   "metadata": {},
   "outputs": [
    {
     "name": "stdout",
     "output_type": "stream",
     "text": [
      "+-------------------+---------------------+------------------------+\n",
      "|         Order_date|order_item_product_id|sum(order_item_subtotal)|\n",
      "+-------------------+---------------------+------------------------+\n",
      "|2013-07-25 00:00:00|                 1014|              44782.0800|\n",
      "|2013-07-25 00:00:00|                  926|               1279.2000|\n",
      "|2013-07-25 00:00:00|                  191|              81591.8400|\n",
      "|2013-07-25 00:00:00|                  134|               1600.0000|\n",
      "|2013-07-25 00:00:00|                 1004|              89595.5200|\n",
      "|2013-07-25 00:00:00|                   93|               1199.5200|\n",
      "|2013-07-25 00:00:00|                  810|               1279.3600|\n",
      "|2013-07-25 00:00:00|                  924|               1279.2000|\n",
      "|2013-07-25 00:00:00|                  821|               3327.3600|\n",
      "|2013-07-25 00:00:00|                  835|               1023.6800|\n",
      "|2013-07-25 00:00:00|                  572|               1919.5200|\n",
      "|2013-07-26 00:00:00|                  365|             127658.7200|\n",
      "|2013-07-26 00:00:00|                  403|              51996.0000|\n",
      "|2013-07-26 00:00:00|                  565|               4480.0000|\n",
      "|2013-07-26 00:00:00|                 1073|              63996.8000|\n",
      "|2013-07-26 00:00:00|                  278|               4319.0400|\n",
      "|2013-07-26 00:00:00|                  191|             108789.1200|\n",
      "|2013-07-26 00:00:00|                  804|               2558.7200|\n",
      "|2013-07-26 00:00:00|                  564|               1440.0000|\n",
      "|2013-07-26 00:00:00|                  792|               1439.0400|\n",
      "+-------------------+---------------------+------------------------+\n",
      "only showing top 20 rows\n",
      "\n"
     ]
    }
   ],
   "source": [
    "order.where($\"Order_status\" isin (\"COMPLETE\",\"CLOSED\")).join(orderItem,order(\"Order_id\")===orderItem(\"order_item_order_id\")).groupBy(\"Order_date\",\"order_item_product_id\").sum(\"order_item_subtotal\").show()"
   ]
  },
  {
   "cell_type": "code",
   "execution_count": 102,
   "id": "f92ea43a",
   "metadata": {},
   "outputs": [
    {
     "name": "stdout",
     "output_type": "stream",
     "text": [
      "+--------+-------------------+----------------+------------+\n",
      "|Order_id|         Order_date|Order_product_id|Order_status|\n",
      "+--------+-------------------+----------------+------------+\n",
      "|     527|2013-07-28 00:00:00|            5426|    CANCELED|\n",
      "|    1435|2013-08-01 00:00:00|            1879|    CANCELED|\n",
      "|     552|2013-07-28 00:00:00|            1445|    CANCELED|\n",
      "|     112|2013-07-26 00:00:00|            5375|    CANCELED|\n",
      "|     564|2013-07-28 00:00:00|            2216|    CANCELED|\n",
      "|     955|2013-07-30 00:00:00|            8117|    CANCELED|\n",
      "|    1383|2013-08-01 00:00:00|            1753|    CANCELED|\n",
      "|     962|2013-07-30 00:00:00|            9492|    CANCELED|\n",
      "|     607|2013-07-28 00:00:00|            6376|    CANCELED|\n",
      "|    1013|2013-07-30 00:00:00|            1903|    CANCELED|\n",
      "|     667|2013-07-28 00:00:00|            4726|    CANCELED|\n",
      "|    1169|2013-07-31 00:00:00|            3971|    CANCELED|\n",
      "|     717|2013-07-29 00:00:00|            8208|    CANCELED|\n",
      "|    1186|2013-07-31 00:00:00|           11947|    CANCELED|\n",
      "|     753|2013-07-29 00:00:00|            5094|    CANCELED|\n",
      "|    1190|2013-07-31 00:00:00|           12360|    CANCELED|\n",
      "|      50|2013-07-25 00:00:00|            5225|    CANCELED|\n",
      "|    1313|2013-08-01 00:00:00|            3471|    CANCELED|\n",
      "|     716|2013-07-29 00:00:00|            2581|    CANCELED|\n",
      "|    1365|2013-08-01 00:00:00|            8567|    CANCELED|\n",
      "+--------+-------------------+----------------+------------+\n",
      "only showing top 20 rows\n",
      "\n"
     ]
    }
   ],
   "source": [
    "order.orderBy($\"Order_status\").show()"
   ]
  },
  {
   "cell_type": "code",
   "execution_count": 104,
   "id": "6249eb90",
   "metadata": {},
   "outputs": [
    {
     "name": "stdout",
     "output_type": "stream",
     "text": [
      "+---------------+\n",
      "|   Order_status|\n",
      "+---------------+\n",
      "|       CANCELED|\n",
      "|         CLOSED|\n",
      "|       COMPLETE|\n",
      "|        ON_HOLD|\n",
      "| PAYMENT_REVIEW|\n",
      "|        PENDING|\n",
      "|PENDING_PAYMENT|\n",
      "|     PROCESSING|\n",
      "|SUSPECTED_FRAUD|\n",
      "+---------------+\n",
      "\n"
     ]
    }
   ],
   "source": [
    "order.select($\"Order_status\").sort($\"Order_status\").distinct.show()"
   ]
  },
  {
   "cell_type": "code",
   "execution_count": 106,
   "id": "2c89ccf4",
   "metadata": {},
   "outputs": [
    {
     "name": "stdout",
     "output_type": "stream",
     "text": [
      "+--------+-------------------+----------------+---------------+\n",
      "|Order_id|         Order_date|Order_product_id|   Order_status|\n",
      "+--------+-------------------+----------------+---------------+\n",
      "|   57770|2013-07-25 00:00:00|            7451|SUSPECTED_FRAUD|\n",
      "|      69|2013-07-25 00:00:00|            2821|SUSPECTED_FRAUD|\n",
      "|      69|2013-07-25 00:00:00|            2821|SUSPECTED_FRAUD|\n",
      "|      69|2013-07-25 00:00:00|            2821|SUSPECTED_FRAUD|\n",
      "|   57770|2013-07-25 00:00:00|            7451|SUSPECTED_FRAUD|\n",
      "|   57770|2013-07-25 00:00:00|            7451|SUSPECTED_FRAUD|\n",
      "|      69|2013-07-25 00:00:00|            2821|SUSPECTED_FRAUD|\n",
      "|   57770|2013-07-25 00:00:00|            7451|SUSPECTED_FRAUD|\n",
      "|      69|2013-07-25 00:00:00|            2821|SUSPECTED_FRAUD|\n",
      "|      69|2013-07-25 00:00:00|            2821|SUSPECTED_FRAUD|\n",
      "|      69|2013-07-25 00:00:00|            2821|SUSPECTED_FRAUD|\n",
      "|   57770|2013-07-25 00:00:00|            7451|SUSPECTED_FRAUD|\n",
      "|      69|2013-07-25 00:00:00|            2821|SUSPECTED_FRAUD|\n",
      "|   57770|2013-07-25 00:00:00|            7451|SUSPECTED_FRAUD|\n",
      "|      69|2013-07-25 00:00:00|            2821|SUSPECTED_FRAUD|\n",
      "|   57770|2013-07-25 00:00:00|            7451|SUSPECTED_FRAUD|\n",
      "|   57770|2013-07-25 00:00:00|            7451|SUSPECTED_FRAUD|\n",
      "|      69|2013-07-25 00:00:00|            2821|SUSPECTED_FRAUD|\n",
      "|   57770|2013-07-25 00:00:00|            7451|SUSPECTED_FRAUD|\n",
      "|   57770|2013-07-25 00:00:00|            7451|SUSPECTED_FRAUD|\n",
      "+--------+-------------------+----------------+---------------+\n",
      "only showing top 20 rows\n",
      "\n"
     ]
    }
   ],
   "source": [
    "order.sort($\"Order_date\",$\"Order_status\".desc).show()"
   ]
  },
  {
   "cell_type": "code",
   "execution_count": 107,
   "id": "6d8c59e9",
   "metadata": {},
   "outputs": [
    {
     "name": "stdout",
     "output_type": "stream",
     "text": [
      "+-------------+-------------------+---------------------+-------------------+-------------------+------------------------+\n",
      "|order_item_id|order_item_order_id|order_item_product_id|order_item_quantity|order_item_subtotal|order_item_product_price|\n",
      "+-------------+-------------------+---------------------+-------------------+-------------------+------------------------+\n",
      "|            1|                  1|                  957|                  1|           299.9800|                299.9800|\n",
      "|            3|                  2|                  502|                  5|           250.0000|                 50.0000|\n",
      "|            2|                  2|                 1073|                  1|           199.9900|                199.9900|\n",
      "|            4|                  2|                  403|                  1|           129.9900|                129.9900|\n",
      "|            6|                  4|                  365|                  5|           299.9500|                 59.9900|\n",
      "|            8|                  4|                 1014|                  4|           199.9200|                 49.9800|\n",
      "|            7|                  4|                  502|                  3|           150.0000|                 50.0000|\n",
      "|            5|                  4|                  897|                  2|            49.9800|                 24.9900|\n",
      "|            9|                  5|                  957|                  1|           299.9800|                299.9800|\n",
      "|           12|                  5|                  957|                  1|           299.9800|                299.9800|\n",
      "|           10|                  5|                  365|                  5|           299.9500|                 59.9900|\n",
      "|           13|                  5|                  403|                  1|           129.9900|                129.9900|\n",
      "|           11|                  5|                 1014|                  2|            99.9600|                 49.9800|\n",
      "|           15|                  7|                  957|                  1|           299.9800|                299.9800|\n",
      "|           14|                  7|                 1073|                  1|           199.9900|                199.9900|\n",
      "|           16|                  7|                  926|                  5|            79.9500|                 15.9900|\n",
      "|           18|                  8|                  365|                  5|           299.9500|                 59.9900|\n",
      "|           19|                  8|                 1014|                  4|           199.9200|                 49.9800|\n",
      "|           17|                  8|                  365|                  3|           179.9700|                 59.9900|\n",
      "|           20|                  8|                  502|                  1|            50.0000|                 50.0000|\n",
      "+-------------+-------------------+---------------------+-------------------+-------------------+------------------------+\n",
      "only showing top 20 rows\n",
      "\n"
     ]
    }
   ],
   "source": [
    "orderItem.sort($\"order_item_order_id\",$\"order_item_subtotal\".desc).show()"
   ]
  },
  {
   "cell_type": "code",
   "execution_count": 17,
   "id": "47695a73",
   "metadata": {},
   "outputs": [
    {
     "name": "stdout",
     "output_type": "stream",
     "text": [
      "+-------------------+---------------------+----------+\n",
      "|         Order_date|order_item_product_id|   revenue|\n",
      "+-------------------+---------------------+----------+\n",
      "|2013-07-25 00:00:00|                  897|  799.6800|\n",
      "|2013-07-25 00:00:00|                  835| 1023.6800|\n",
      "|2013-07-25 00:00:00|                   93| 1199.5200|\n",
      "|2013-07-25 00:00:00|                  926| 1279.2000|\n",
      "|2013-07-25 00:00:00|                  924| 1279.2000|\n",
      "|2013-07-25 00:00:00|                  810| 1279.3600|\n",
      "|2013-07-25 00:00:00|                  828| 1535.5200|\n",
      "|2013-07-25 00:00:00|                  906| 1599.3600|\n",
      "|2013-07-25 00:00:00|                  134| 1600.0000|\n",
      "|2013-07-25 00:00:00|                  725| 1728.0000|\n",
      "|2013-07-25 00:00:00|                  666| 1759.8400|\n",
      "|2013-07-25 00:00:00|                  572| 1919.5200|\n",
      "|2013-07-25 00:00:00|                  705| 1919.8400|\n",
      "|2013-07-25 00:00:00|                  625| 3199.8400|\n",
      "|2013-07-25 00:00:00|                  821| 3327.3600|\n",
      "|2013-07-25 00:00:00|                   24| 5119.3600|\n",
      "|2013-07-25 00:00:00|                  226| 9599.8400|\n",
      "|2013-07-25 00:00:00|                  627|17275.6800|\n",
      "|2013-07-25 00:00:00|                  502|26400.0000|\n",
      "|2013-07-25 00:00:00|                  403|31197.6000|\n",
      "+-------------------+---------------------+----------+\n",
      "only showing top 20 rows\n",
      "\n"
     ]
    }
   ],
   "source": [
    "order.where(\"Order_status in ('COMPLETE','CLOSED')\").join(orderItem,order(\"Order_id\")===orderItem(\"order_item_order_id\")).groupBy(\"Order_date\",\"order_item_product_id\").agg(sum(\"order_item_subtotal\") alias \"revenue\").sort(\"Order_date\",\"revenue\").show()"
   ]
  },
  {
   "cell_type": "code",
   "execution_count": null,
   "id": "a097266a",
   "metadata": {},
   "outputs": [],
   "source": []
  }
 ],
 "metadata": {
  "kernelspec": {
   "display_name": "Spark 2 - Scala",
   "language": "scala",
   "name": "spark_2_scala"
  },
  "language_info": {
   "codemirror_mode": "text/x-scala",
   "file_extension": ".scala",
   "mimetype": "text/x-scala",
   "name": "scala",
   "pygments_lexer": "scala",
   "version": "2.11.12"
  }
 },
 "nbformat": 4,
 "nbformat_minor": 5
}
