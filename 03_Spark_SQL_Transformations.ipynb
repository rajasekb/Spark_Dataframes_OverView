{
 "cells": [
  {
   "cell_type": "code",
   "execution_count": 44,
   "id": "5be31275",
   "metadata": {},
   "outputs": [
    {
     "data": {
      "text/plain": [
       "lastException: Throwable = null\n"
      ]
     },
     "metadata": {},
     "output_type": "display_data",
     "source": "user"
    }
   ],
   "source": [
    "import org.apache.spark.sql.SparkSession"
   ]
  },
  {
   "cell_type": "code",
   "execution_count": 45,
   "id": "5937b9e8",
   "metadata": {},
   "outputs": [
    {
     "data": {
      "text/plain": [
       "spark = org.apache.spark.sql.SparkSession@5195b069\n"
      ]
     },
     "metadata": {},
     "output_type": "display_data",
     "source": "user"
    },
    {
     "data": {
      "text/plain": [
       "org.apache.spark.sql.SparkSession@5195b069"
      ]
     },
     "execution_count": 45,
     "metadata": {},
     "output_type": "execute_result"
    }
   ],
   "source": [
    "val spark = SparkSession.\n",
    "    builder.\n",
    "    config(\"spark.ui.port\", \"0\").\n",
    "    config(\"spark.sql.warehouse.dir\", \"/user/itv001389/warehouse\").\n",
    "    enableHiveSupport.\n",
    "    master(\"yarn\").\n",
    "    appName(\"Getting Started - Spark with Scala\").\n",
    "    getOrCreate"
   ]
  },
  {
   "cell_type": "code",
   "execution_count": 46,
   "id": "409e2cf5",
   "metadata": {},
   "outputs": [
    {
     "data": {
      "text/plain": [
       "[]"
      ]
     },
     "execution_count": 46,
     "metadata": {},
     "output_type": "execute_result"
    }
   ],
   "source": [
    "spark.sql(\"use raj\")"
   ]
  },
  {
   "cell_type": "code",
   "execution_count": 5,
   "id": "df734b6e",
   "metadata": {},
   "outputs": [
    {
     "name": "stdout",
     "output_type": "stream",
     "text": [
      "+--------+----------------+-----------+\n",
      "|database|       tableName|isTemporary|\n",
      "+--------+----------------+-----------+\n",
      "|     raj|             dep|      false|\n",
      "|     raj|        dep_join|      false|\n",
      "|     raj|             emp|      false|\n",
      "|     raj|        emp_join|      false|\n",
      "|     raj|        emp_part|      false|\n",
      "|     raj|     emp_raj_par|      false|\n",
      "|     raj|           join1|      false|\n",
      "|     raj|           join2|      false|\n",
      "|     raj|          joins1|      false|\n",
      "|     raj|         joins_1|      false|\n",
      "|     raj|          joins2|      false|\n",
      "|     raj|          joins3|      false|\n",
      "|     raj|      order_immu|      false|\n",
      "|     raj|   orderitem_nor|      false|\n",
      "|     raj|   orderitem_orc|      false|\n",
      "|     raj|   orderitem_par|      false|\n",
      "|     raj|      orderitems|      false|\n",
      "|     raj|     order_items|      false|\n",
      "|     raj|order_items_part|      false|\n",
      "|     raj|        order_oi|      false|\n",
      "+--------+----------------+-----------+\n",
      "only showing top 20 rows\n",
      "\n"
     ]
    }
   ],
   "source": [
    "spark.sql(\"show tables\").show()"
   ]
  },
  {
   "cell_type": "code",
   "execution_count": 47,
   "id": "43be5a8f",
   "metadata": {},
   "outputs": [],
   "source": [
    "import org.apache.spark.sql.functions._"
   ]
  },
  {
   "cell_type": "code",
   "execution_count": 48,
   "id": "a2d39486",
   "metadata": {},
   "outputs": [],
   "source": [
    "import spark.implicits._"
   ]
  },
  {
   "cell_type": "code",
   "execution_count": 49,
   "id": "ffddc262",
   "metadata": {},
   "outputs": [],
   "source": [
    "import org.apache.spark.sql.Column"
   ]
  },
  {
   "cell_type": "code",
   "execution_count": 50,
   "id": "d49e0689",
   "metadata": {},
   "outputs": [],
   "source": [
    "import org.apache.spark.sql.expressions._"
   ]
  },
  {
   "cell_type": "code",
   "execution_count": 51,
   "id": "753cbb9d",
   "metadata": {},
   "outputs": [
    {
     "data": {
      "text/plain": [
       "df = [order_id: int, Order_date: timestamp ... 2 more fields]\n"
      ]
     },
     "metadata": {},
     "output_type": "display_data",
     "source": "user"
    },
    {
     "data": {
      "text/plain": [
       "[order_id: int, Order_date: timestamp ... 2 more fields]"
      ]
     },
     "execution_count": 51,
     "metadata": {},
     "output_type": "execute_result"
    }
   ],
   "source": [
    "val df=spark.read.parquet(\"hdfs://m01.itversity.com:9000/user/itv001389/warehouse/raj.db/orders/part-00000-6502fdf1-89f6-48b4-ae4c-6c0376ab98ce-c000.snappy.parquet\")"
   ]
  },
  {
   "cell_type": "code",
   "execution_count": 52,
   "id": "55137696",
   "metadata": {},
   "outputs": [],
   "source": [
    "df.createOrReplaceTempView(\"orders\")"
   ]
  },
  {
   "cell_type": "code",
   "execution_count": 53,
   "id": "2076a1c3",
   "metadata": {},
   "outputs": [
    {
     "name": "stdout",
     "output_type": "stream",
     "text": [
      "+--------+-------------------+----------------+---------------+\n",
      "|order_id|         Order_date|Order_product_id|   Order_status|\n",
      "+--------+-------------------+----------------+---------------+\n",
      "|       1|2013-07-25 00:00:00|           11599|         CLOSED|\n",
      "|       2|2013-07-25 00:00:00|             256|PENDING_PAYMENT|\n",
      "|       3|2013-07-25 00:00:00|           12111|       COMPLETE|\n",
      "|       4|2013-07-25 00:00:00|            8827|         CLOSED|\n",
      "|       5|2013-07-25 00:00:00|           11318|       COMPLETE|\n",
      "|       6|2013-07-25 00:00:00|            7130|       COMPLETE|\n",
      "|       7|2013-07-25 00:00:00|            4530|       COMPLETE|\n",
      "|       8|2013-07-25 00:00:00|            2911|     PROCESSING|\n",
      "|       9|2013-07-25 00:00:00|            5657|PENDING_PAYMENT|\n",
      "|      10|2013-07-25 00:00:00|            5648|PENDING_PAYMENT|\n",
      "|      11|2013-07-25 00:00:00|             918| PAYMENT_REVIEW|\n",
      "|      12|2013-07-25 00:00:00|            1837|         CLOSED|\n",
      "|      13|2013-07-25 00:00:00|            9149|PENDING_PAYMENT|\n",
      "|      14|2013-07-25 00:00:00|            9842|     PROCESSING|\n",
      "|      15|2013-07-25 00:00:00|            2568|       COMPLETE|\n",
      "|      16|2013-07-25 00:00:00|            7276|PENDING_PAYMENT|\n",
      "|      17|2013-07-25 00:00:00|            2667|       COMPLETE|\n",
      "|      18|2013-07-25 00:00:00|            1205|         CLOSED|\n",
      "|      19|2013-07-25 00:00:00|            9488|PENDING_PAYMENT|\n",
      "|      20|2013-07-25 00:00:00|            9198|     PROCESSING|\n",
      "+--------+-------------------+----------------+---------------+\n",
      "only showing top 20 rows\n",
      "\n"
     ]
    }
   ],
   "source": [
    "spark.sql(\"select * from orders\").show()"
   ]
  },
  {
   "cell_type": "code",
   "execution_count": 27,
   "id": "48096921",
   "metadata": {},
   "outputs": [
    {
     "name": "stdout",
     "output_type": "stream",
     "text": [
      "+----------------+---------+-------+\n",
      "|        col_name|data_type|comment|\n",
      "+----------------+---------+-------+\n",
      "|        order_id|      int|   null|\n",
      "|      Order_date|timestamp|   null|\n",
      "|Order_product_id|      int|   null|\n",
      "|    Order_status|   string|   null|\n",
      "+----------------+---------+-------+\n",
      "\n"
     ]
    }
   ],
   "source": [
    "spark.sql(\"describe formatted orders\").show()"
   ]
  },
  {
   "cell_type": "code",
   "execution_count": 54,
   "id": "bb08fe51",
   "metadata": {},
   "outputs": [
    {
     "data": {
      "text/plain": [
       "df1 = [order_item_id: int, order_item_order_id: int ... 4 more fields]\n"
      ]
     },
     "metadata": {},
     "output_type": "display_data",
     "source": "user"
    },
    {
     "data": {
      "text/plain": [
       "[order_item_id: int, order_item_order_id: int ... 4 more fields]"
      ]
     },
     "execution_count": 54,
     "metadata": {},
     "output_type": "execute_result"
    }
   ],
   "source": [
    "val df1=spark.read.schema(\"order_item_id int,order_item_order_id int,order_item_product_id int,order_item_quantity int,order_item_subtotal decimal(17,4),order_item_product_price decimal(17,4)\").csv(\"hdfs://m01.itversity.com:9000/user/itv001389/warehouse/raj.db/order_item_new\")"
   ]
  },
  {
   "cell_type": "code",
   "execution_count": 55,
   "id": "396d879d",
   "metadata": {},
   "outputs": [],
   "source": [
    "df1.createOrReplaceTempView(\"orderItems\")"
   ]
  },
  {
   "cell_type": "code",
   "execution_count": 16,
   "id": "b7d6ce57",
   "metadata": {},
   "outputs": [
    {
     "name": "stdout",
     "output_type": "stream",
     "text": [
      "+-------------+-------------------+---------------------+-------------------+-------------------+------------------------+\n",
      "|order_item_id|order_item_order_id|order_item_product_id|order_item_quantity|order_item_subtotal|order_item_product_price|\n",
      "+-------------+-------------------+---------------------+-------------------+-------------------+------------------------+\n",
      "|            1|                  1|                  957|                  1|           299.9800|                299.9800|\n",
      "|            2|                  2|                 1073|                  1|           199.9900|                199.9900|\n",
      "|            3|                  2|                  502|                  5|           250.0000|                 50.0000|\n",
      "|            4|                  2|                  403|                  1|           129.9900|                129.9900|\n",
      "|            5|                  4|                  897|                  2|            49.9800|                 24.9900|\n",
      "|            6|                  4|                  365|                  5|           299.9500|                 59.9900|\n",
      "|            7|                  4|                  502|                  3|           150.0000|                 50.0000|\n",
      "|            8|                  4|                 1014|                  4|           199.9200|                 49.9800|\n",
      "|            9|                  5|                  957|                  1|           299.9800|                299.9800|\n",
      "|           10|                  5|                  365|                  5|           299.9500|                 59.9900|\n",
      "|           11|                  5|                 1014|                  2|            99.9600|                 49.9800|\n",
      "|           12|                  5|                  957|                  1|           299.9800|                299.9800|\n",
      "|           13|                  5|                  403|                  1|           129.9900|                129.9900|\n",
      "|           14|                  7|                 1073|                  1|           199.9900|                199.9900|\n",
      "|           15|                  7|                  957|                  1|           299.9800|                299.9800|\n",
      "|           16|                  7|                  926|                  5|            79.9500|                 15.9900|\n",
      "|           17|                  8|                  365|                  3|           179.9700|                 59.9900|\n",
      "|           18|                  8|                  365|                  5|           299.9500|                 59.9900|\n",
      "|           19|                  8|                 1014|                  4|           199.9200|                 49.9800|\n",
      "|           20|                  8|                  502|                  1|            50.0000|                 50.0000|\n",
      "+-------------+-------------------+---------------------+-------------------+-------------------+------------------------+\n",
      "only showing top 20 rows\n",
      "\n"
     ]
    }
   ],
   "source": [
    "spark.sql(\"select * from orderItems\").show()"
   ]
  },
  {
   "cell_type": "code",
   "execution_count": 28,
   "id": "2bcf8ccc",
   "metadata": {},
   "outputs": [
    {
     "name": "stdout",
     "output_type": "stream",
     "text": [
      "+--------------------+-------------+-------+\n",
      "|            col_name|    data_type|comment|\n",
      "+--------------------+-------------+-------+\n",
      "|       order_item_id|          int|   null|\n",
      "| order_item_order_id|          int|   null|\n",
      "|order_item_produc...|          int|   null|\n",
      "| order_item_quantity|          int|   null|\n",
      "| order_item_subtotal|decimal(17,4)|   null|\n",
      "|order_item_produc...|decimal(17,4)|   null|\n",
      "+--------------------+-------------+-------+\n",
      "\n"
     ]
    }
   ],
   "source": [
    "spark.sql(\"describe formatted orderItems\").show()"
   ]
  },
  {
   "cell_type": "code",
   "execution_count": 29,
   "id": "f857a1d2",
   "metadata": {},
   "outputs": [
    {
     "name": "stdout",
     "output_type": "stream",
     "text": [
      "+--------+-------------------+----------------+------------+\n",
      "|order_id|         Order_date|Order_product_id|Order_status|\n",
      "+--------+-------------------+----------------+------------+\n",
      "|       1|2013-07-25 00:00:00|           11599|      CLOSED|\n",
      "|       3|2013-07-25 00:00:00|           12111|    COMPLETE|\n",
      "|       4|2013-07-25 00:00:00|            8827|      CLOSED|\n",
      "|       5|2013-07-25 00:00:00|           11318|    COMPLETE|\n",
      "|       6|2013-07-25 00:00:00|            7130|    COMPLETE|\n",
      "|       7|2013-07-25 00:00:00|            4530|    COMPLETE|\n",
      "|      12|2013-07-25 00:00:00|            1837|      CLOSED|\n",
      "|      15|2013-07-25 00:00:00|            2568|    COMPLETE|\n",
      "|      17|2013-07-25 00:00:00|            2667|    COMPLETE|\n",
      "|      18|2013-07-25 00:00:00|            1205|      CLOSED|\n",
      "|      22|2013-07-25 00:00:00|             333|    COMPLETE|\n",
      "|      24|2013-07-25 00:00:00|           11441|      CLOSED|\n",
      "|      25|2013-07-25 00:00:00|            9503|      CLOSED|\n",
      "|      26|2013-07-25 00:00:00|            7562|    COMPLETE|\n",
      "|      28|2013-07-25 00:00:00|             656|    COMPLETE|\n",
      "|      32|2013-07-25 00:00:00|            3960|    COMPLETE|\n",
      "|      35|2013-07-25 00:00:00|            4840|    COMPLETE|\n",
      "|      37|2013-07-25 00:00:00|            5863|      CLOSED|\n",
      "|      45|2013-07-25 00:00:00|            2636|    COMPLETE|\n",
      "|      51|2013-07-25 00:00:00|           12271|      CLOSED|\n",
      "+--------+-------------------+----------------+------------+\n",
      "only showing top 20 rows\n",
      "\n"
     ]
    }
   ],
   "source": [
    "spark.sql(\"select * from orders where Order_status in ('COMPLETE','CLOSED')\").show()"
   ]
  },
  {
   "cell_type": "code",
   "execution_count": 30,
   "id": "c584d22c",
   "metadata": {},
   "outputs": [
    {
     "name": "stdout",
     "output_type": "stream",
     "text": [
      "+--------+-------------------+----------------+------------+-------------+-------------------+---------------------+-------------------+-------------------+------------------------+\n",
      "|order_id|         Order_date|Order_product_id|Order_status|order_item_id|order_item_order_id|order_item_product_id|order_item_quantity|order_item_subtotal|order_item_product_price|\n",
      "+--------+-------------------+----------------+------------+-------------+-------------------+---------------------+-------------------+-------------------+------------------------+\n",
      "|       1|2013-07-25 00:00:00|           11599|      CLOSED|            1|                  1|                  957|                  1|           299.9800|                299.9800|\n",
      "|       4|2013-07-25 00:00:00|            8827|      CLOSED|            5|                  4|                  897|                  2|            49.9800|                 24.9900|\n",
      "|       4|2013-07-25 00:00:00|            8827|      CLOSED|            6|                  4|                  365|                  5|           299.9500|                 59.9900|\n",
      "|       4|2013-07-25 00:00:00|            8827|      CLOSED|            7|                  4|                  502|                  3|           150.0000|                 50.0000|\n",
      "|       4|2013-07-25 00:00:00|            8827|      CLOSED|            8|                  4|                 1014|                  4|           199.9200|                 49.9800|\n",
      "|       5|2013-07-25 00:00:00|           11318|    COMPLETE|            9|                  5|                  957|                  1|           299.9800|                299.9800|\n",
      "|       5|2013-07-25 00:00:00|           11318|    COMPLETE|           10|                  5|                  365|                  5|           299.9500|                 59.9900|\n",
      "|       5|2013-07-25 00:00:00|           11318|    COMPLETE|           11|                  5|                 1014|                  2|            99.9600|                 49.9800|\n",
      "|       5|2013-07-25 00:00:00|           11318|    COMPLETE|           12|                  5|                  957|                  1|           299.9800|                299.9800|\n",
      "|       5|2013-07-25 00:00:00|           11318|    COMPLETE|           13|                  5|                  403|                  1|           129.9900|                129.9900|\n",
      "|       7|2013-07-25 00:00:00|            4530|    COMPLETE|           14|                  7|                 1073|                  1|           199.9900|                199.9900|\n",
      "|       7|2013-07-25 00:00:00|            4530|    COMPLETE|           15|                  7|                  957|                  1|           299.9800|                299.9800|\n",
      "|       7|2013-07-25 00:00:00|            4530|    COMPLETE|           16|                  7|                  926|                  5|            79.9500|                 15.9900|\n",
      "|      12|2013-07-25 00:00:00|            1837|      CLOSED|           34|                 12|                  957|                  1|           299.9800|                299.9800|\n",
      "|      12|2013-07-25 00:00:00|            1837|      CLOSED|           35|                 12|                  134|                  4|           100.0000|                 25.0000|\n",
      "|      12|2013-07-25 00:00:00|            1837|      CLOSED|           36|                 12|                 1014|                  3|           149.9400|                 49.9800|\n",
      "|      12|2013-07-25 00:00:00|            1837|      CLOSED|           37|                 12|                  191|                  5|           499.9500|                 99.9900|\n",
      "|      12|2013-07-25 00:00:00|            1837|      CLOSED|           38|                 12|                  502|                  5|           250.0000|                 50.0000|\n",
      "|      15|2013-07-25 00:00:00|            2568|    COMPLETE|           43|                 15|                  502|                  1|            50.0000|                 50.0000|\n",
      "|      15|2013-07-25 00:00:00|            2568|    COMPLETE|           44|                 15|                 1073|                  1|           199.9900|                199.9900|\n",
      "+--------+-------------------+----------------+------------+-------------+-------------------+---------------------+-------------------+-------------------+------------------------+\n",
      "only showing top 20 rows\n",
      "\n"
     ]
    }
   ],
   "source": [
    "spark.sql(\"select * from orders o join orderItems oi on o.Order_id=oi.order_item_order_id where Order_status in ('COMPLETE','CLOSED')\").show()"
   ]
  },
  {
   "cell_type": "code",
   "execution_count": 33,
   "id": "46029944",
   "metadata": {},
   "outputs": [
    {
     "name": "stdout",
     "output_type": "stream",
     "text": [
      "+--------+-------------------+----------------+------------+\n",
      "|order_id|         Order_date|Order_product_id|Order_status|\n",
      "+--------+-------------------+----------------+------------+\n",
      "|    1297|2013-08-01 00:00:00|           11607|    COMPLETE|\n",
      "|    1298|2013-08-01 00:00:00|            5105|      CLOSED|\n",
      "|    1299|2013-08-01 00:00:00|            7802|    COMPLETE|\n",
      "|    1302|2013-08-01 00:00:00|            1695|    COMPLETE|\n",
      "|    1304|2013-08-01 00:00:00|            2059|    COMPLETE|\n",
      "|    1305|2013-08-01 00:00:00|            3844|    COMPLETE|\n",
      "|    1307|2013-08-01 00:00:00|            4474|    COMPLETE|\n",
      "|    1309|2013-08-01 00:00:00|            2367|      CLOSED|\n",
      "|    1312|2013-08-01 00:00:00|           12291|    COMPLETE|\n",
      "|    1314|2013-08-01 00:00:00|           10993|    COMPLETE|\n",
      "|    1315|2013-08-01 00:00:00|            5660|    COMPLETE|\n",
      "|    1318|2013-08-01 00:00:00|            4212|    COMPLETE|\n",
      "|    1319|2013-08-01 00:00:00|            3966|    COMPLETE|\n",
      "|    1320|2013-08-01 00:00:00|           12270|    COMPLETE|\n",
      "|    1321|2013-08-01 00:00:00|             800|    COMPLETE|\n",
      "|    1322|2013-08-01 00:00:00|            9264|    COMPLETE|\n",
      "|    1323|2013-08-01 00:00:00|            7422|    COMPLETE|\n",
      "|    1324|2013-08-01 00:00:00|            4600|    COMPLETE|\n",
      "|    1327|2013-08-01 00:00:00|            9526|    COMPLETE|\n",
      "|    1329|2013-08-01 00:00:00|            6070|      CLOSED|\n",
      "+--------+-------------------+----------------+------------+\n",
      "only showing top 20 rows\n",
      "\n"
     ]
    },
    {
     "data": {
      "text/plain": [
       "lastException: Throwable = null\n"
      ]
     },
     "metadata": {},
     "output_type": "display_data",
     "source": "user"
    }
   ],
   "source": [
    "spark.sql(\"select * from orders where Order_status in ('COMPLETE','CLOSED') and Order_date like '2013-08%'\").show()"
   ]
  },
  {
   "cell_type": "code",
   "execution_count": 39,
   "id": "3dc698aa",
   "metadata": {},
   "outputs": [
    {
     "name": "stdout",
     "output_type": "stream",
     "text": [
      "+--------+-------------------+----------------+---------------+\n",
      "|order_id|         Order_date|Order_product_id|   Order_status|\n",
      "+--------+-------------------+----------------+---------------+\n",
      "|       3|2013-07-25 00:00:00|           12111|       COMPLETE|\n",
      "|       6|2013-07-25 00:00:00|            7130|       COMPLETE|\n",
      "|      22|2013-07-25 00:00:00|             333|       COMPLETE|\n",
      "|      26|2013-07-25 00:00:00|            7562|       COMPLETE|\n",
      "|      32|2013-07-25 00:00:00|            3960|       COMPLETE|\n",
      "|      40|2013-07-25 00:00:00|           12092|PENDING_PAYMENT|\n",
      "|      47|2013-07-25 00:00:00|            8487|PENDING_PAYMENT|\n",
      "|      53|2013-07-25 00:00:00|            4701|     PROCESSING|\n",
      "|      54|2013-07-25 00:00:00|           10628|PENDING_PAYMENT|\n",
      "|      55|2013-07-25 00:00:00|            2052|        PENDING|\n",
      "|      60|2013-07-25 00:00:00|            8365|PENDING_PAYMENT|\n",
      "|      76|2013-07-25 00:00:00|            6898|       COMPLETE|\n",
      "|      78|2013-07-25 00:00:00|            8619| PAYMENT_REVIEW|\n",
      "|      79|2013-07-25 00:00:00|            7327|PENDING_PAYMENT|\n",
      "|      80|2013-07-25 00:00:00|            3007|       COMPLETE|\n",
      "|      82|2013-07-25 00:00:00|            3566|PENDING_PAYMENT|\n",
      "|      85|2013-07-25 00:00:00|            1485|        PENDING|\n",
      "|      86|2013-07-25 00:00:00|            6680|PENDING_PAYMENT|\n",
      "|      89|2013-07-25 00:00:00|             824|        ON_HOLD|\n",
      "|      90|2013-07-25 00:00:00|            9131|         CLOSED|\n",
      "+--------+-------------------+----------------+---------------+\n",
      "only showing top 20 rows\n",
      "\n"
     ]
    }
   ],
   "source": [
    "spark.sql(\"select o.* from orders o left join orderItems oi on o.Order_id=oi.order_item_order_id where order_item_order_id is null\").show()"
   ]
  },
  {
   "cell_type": "code",
   "execution_count": 41,
   "id": "0c09b996",
   "metadata": {},
   "outputs": [
    {
     "name": "stdout",
     "output_type": "stream",
     "text": [
      "+-------------+-------------------+---------------------+-------------------+-------------------+------------------------+\n",
      "|order_item_id|order_item_order_id|order_item_product_id|order_item_quantity|order_item_subtotal|order_item_product_price|\n",
      "+-------------+-------------------+---------------------+-------------------+-------------------+------------------------+\n",
      "+-------------+-------------------+---------------------+-------------------+-------------------+------------------------+\n",
      "\n"
     ]
    },
    {
     "data": {
      "text/plain": [
       "lastException: Throwable = null\n"
      ]
     },
     "metadata": {},
     "output_type": "display_data",
     "source": "user"
    }
   ],
   "source": [
    "spark.sql(\"select oi.* from orders o right join orderItems oi on o.Order_id=oi.order_item_order_id where Order_id is null\").show()"
   ]
  },
  {
   "cell_type": "code",
   "execution_count": 56,
   "id": "0f9b0afd",
   "metadata": {},
   "outputs": [
    {
     "name": "stdout",
     "output_type": "stream",
     "text": [
      "+-------------------+---------------------+-------------------+\n",
      "|         Order_date|order_item_product_id|order_item_subtotal|\n",
      "+-------------------+---------------------+-------------------+\n",
      "|2013-07-25 00:00:00|                  957|           299.9800|\n",
      "|2013-07-25 00:00:00|                  897|            49.9800|\n",
      "|2013-07-25 00:00:00|                  365|           299.9500|\n",
      "|2013-07-25 00:00:00|                  502|           150.0000|\n",
      "|2013-07-25 00:00:00|                 1014|           199.9200|\n",
      "|2013-07-25 00:00:00|                  957|           299.9800|\n",
      "|2013-07-25 00:00:00|                  365|           299.9500|\n",
      "|2013-07-25 00:00:00|                 1014|            99.9600|\n",
      "|2013-07-25 00:00:00|                  957|           299.9800|\n",
      "|2013-07-25 00:00:00|                  403|           129.9900|\n",
      "|2013-07-25 00:00:00|                 1073|           199.9900|\n",
      "|2013-07-25 00:00:00|                  957|           299.9800|\n",
      "|2013-07-25 00:00:00|                  926|            79.9500|\n",
      "|2013-07-25 00:00:00|                  957|           299.9800|\n",
      "|2013-07-25 00:00:00|                  134|           100.0000|\n",
      "|2013-07-25 00:00:00|                 1014|           149.9400|\n",
      "|2013-07-25 00:00:00|                  191|           499.9500|\n",
      "|2013-07-25 00:00:00|                  502|           250.0000|\n",
      "|2013-07-25 00:00:00|                  502|            50.0000|\n",
      "|2013-07-25 00:00:00|                 1073|           199.9900|\n",
      "+-------------------+---------------------+-------------------+\n",
      "only showing top 20 rows\n",
      "\n"
     ]
    }
   ],
   "source": [
    "spark.sql(\"select o.Order_date,oi.order_item_product_id,oi.order_item_subtotal from orders o join orderItems oi on o.Order_id=oi.order_item_order_id where Order_status in ('COMPLETE','CLOSED')\").show()"
   ]
  },
  {
   "cell_type": "code",
   "execution_count": 61,
   "id": "609556e8",
   "metadata": {},
   "outputs": [
    {
     "name": "stdout",
     "output_type": "stream",
     "text": [
      "+-------------------+---------------------+------------------------+\n",
      "|         Order_date|order_item_product_id|sum(order_item_subtotal)|\n",
      "+-------------------+---------------------+------------------------+\n",
      "|2013-08-16 00:00:00|                  365|               3719.3800|\n",
      "|2013-09-06 00:00:00|                  278|                179.9600|\n",
      "|2013-09-14 00:00:00|                  810|                 59.9700|\n",
      "|2013-09-21 00:00:00|                  403|               2469.8100|\n",
      "|2013-09-21 00:00:00|                  924|                 63.9600|\n",
      "|2013-09-28 00:00:00|                 1014|               3748.5000|\n",
      "|2013-10-02 00:00:00|                  564|                 90.0000|\n",
      "|2013-10-16 00:00:00|                  793|                 14.9900|\n",
      "|2013-10-25 00:00:00|                  810|                 59.9700|\n",
      "|2013-10-30 00:00:00|                  905|                 24.9900|\n",
      "|2013-11-04 00:00:00|                  905|                 74.9700|\n",
      "|2013-11-11 00:00:00|                  172|                150.0000|\n",
      "|2013-11-14 00:00:00|                  134|                125.0000|\n",
      "|2013-11-28 00:00:00|                  821|                259.9500|\n",
      "|2013-11-29 00:00:00|                  116|                134.9700|\n",
      "|2013-11-29 00:00:00|                  793|                 44.9700|\n",
      "|2013-12-24 00:00:00|                  957|               4799.6800|\n",
      "|2013-12-28 00:00:00|                  818|                239.9500|\n",
      "|2013-12-30 00:00:00|                  703|                 59.9700|\n",
      "|2014-01-12 00:00:00|                  565|                350.0000|\n",
      "+-------------------+---------------------+------------------------+\n",
      "only showing top 20 rows\n",
      "\n"
     ]
    },
    {
     "data": {
      "text/plain": [
       "lastException: Throwable = null\n"
      ]
     },
     "metadata": {},
     "output_type": "display_data",
     "source": "user"
    }
   ],
   "source": [
    "spark.sql(\"select o.Order_date,oi.order_item_product_id,sum(oi.order_item_subtotal) from orders o join orderItems oi on o.Order_id=oi.order_item_order_id where Order_status in ('COMPLETE','CLOSED') group by o.Order_date,oi.order_item_product_id\").show()"
   ]
  },
  {
   "cell_type": "code",
   "execution_count": 67,
   "id": "976d14be",
   "metadata": {},
   "outputs": [
    {
     "name": "stdout",
     "output_type": "stream",
     "text": [
      "+-------------------+---------------------+-------------+\n",
      "|         Order_date|order_item_product_id|daily_revenue|\n",
      "+-------------------+---------------------+-------------+\n",
      "|2013-07-25 00:00:00|                 1004|    5599.7200|\n",
      "|2013-07-25 00:00:00|                  191|    5099.4900|\n",
      "|2013-07-25 00:00:00|                  957|    4499.7000|\n",
      "|2013-07-25 00:00:00|                  365|    3359.4400|\n",
      "|2013-07-25 00:00:00|                 1073|    2999.8500|\n",
      "|2013-07-25 00:00:00|                 1014|    2798.8800|\n",
      "|2013-07-25 00:00:00|                  403|    1949.8500|\n",
      "|2013-07-25 00:00:00|                  502|    1650.0000|\n",
      "|2013-07-25 00:00:00|                  627|    1079.7300|\n",
      "|2013-07-25 00:00:00|                  226|     599.9900|\n",
      "|2013-07-25 00:00:00|                   24|     319.9600|\n",
      "|2013-07-25 00:00:00|                  821|     207.9600|\n",
      "|2013-07-25 00:00:00|                  625|     199.9900|\n",
      "|2013-07-25 00:00:00|                  705|     119.9900|\n",
      "|2013-07-25 00:00:00|                  572|     119.9700|\n",
      "|2013-07-25 00:00:00|                  666|     109.9900|\n",
      "|2013-07-25 00:00:00|                  725|     108.0000|\n",
      "|2013-07-25 00:00:00|                  134|     100.0000|\n",
      "|2013-07-25 00:00:00|                  906|      99.9600|\n",
      "|2013-07-25 00:00:00|                  828|      95.9700|\n",
      "+-------------------+---------------------+-------------+\n",
      "only showing top 20 rows\n",
      "\n"
     ]
    }
   ],
   "source": [
    "spark.sql(\"select o.Order_date,oi.order_item_product_id,sum(oi.order_item_subtotal) daily_revenue from orders o join orderItems oi on o.Order_id=oi.order_item_order_id where Order_status in ('COMPLETE','CLOSED') group by o.Order_date,oi.order_item_product_id order by Order_date,daily_revenue desc\").show()"
   ]
  },
  {
   "cell_type": "code",
   "execution_count": null,
   "id": "3f27f61d",
   "metadata": {},
   "outputs": [],
   "source": []
  }
 ],
 "metadata": {
  "kernelspec": {
   "display_name": "Spark 2 - Scala",
   "language": "scala",
   "name": "spark_2_scala"
  },
  "language_info": {
   "codemirror_mode": "text/x-scala",
   "file_extension": ".scala",
   "mimetype": "text/x-scala",
   "name": "scala",
   "pygments_lexer": "scala",
   "version": "2.11.12"
  }
 },
 "nbformat": 4,
 "nbformat_minor": 5
}
